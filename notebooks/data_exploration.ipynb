{
 "cells": [
  {
   "cell_type": "markdown",
   "id": "02d57b28",
   "metadata": {},
   "source": [
    "# How does climate change feel around the globe?\n",
    "# The final project from Spiced Academy\n",
    "# Notebook for data cleaning and analysis"
   ]
  },
  {
   "cell_type": "markdown",
   "id": "e5d7c6c2",
   "metadata": {},
   "source": [
    "Check vizzes.ipynb for generating visualizations."
   ]
  },
  {
   "cell_type": "markdown",
   "id": "b60d68be",
   "metadata": {},
   "source": [
    "**Add the contents**"
   ]
  },
  {
   "cell_type": "markdown",
   "id": "1fcbe1a9",
   "metadata": {},
   "source": [
    "## The questions"
   ]
  },
  {
   "cell_type": "markdown",
   "id": "6747155e",
   "metadata": {},
   "source": [
    "In this project, I attempt to answer these pressing questions related to periods of heat which are ever more frequent in virtually every part of the wolrd:\n",
    "1. What percentage of people has direct experience with extreme heat?\n",
    "2. Does this number change over time?\n",
    "3. How much is it related to the global temperature anomaly?\n",
    "4. Is there a clear link between wealth and heat exposure of populations?"
   ]
  },
  {
   "cell_type": "markdown",
   "id": "48160c52",
   "metadata": {},
   "source": [
    "## Importing libraries and packages"
   ]
  },
  {
   "cell_type": "code",
   "execution_count": 1,
   "id": "a22bb963",
   "metadata": {},
   "outputs": [],
   "source": [
    "import pandas as pd   # df workflow\n",
    "\n",
    "# from matplotlib import pyplot as plt\n",
    "# import seaborn as sns\n",
    "import plotly.express as px   # interactive and geospatial images\n",
    "# import plotly.graph_objects as go\n",
    "import plotly.io as pio   # saving interactive images as static\n",
    "# plt.style.use('seaborn-v0_8')\n",
    "\n",
    "import pycountry   # to get a dict between country names and alpha3 codes\n",
    "\n",
    "# for clustering\n",
    "from sklearn.preprocessing import StandardScaler\n",
    "from sklearn.cluster import KMeans\n",
    "# import numpy as np\n",
    "\n",
    "from scipy import stats   # for A/B test"
   ]
  },
  {
   "cell_type": "markdown",
   "id": "f258b7f9",
   "metadata": {},
   "source": [
    "## Cleaning OECD data: Population exposure to extreme temperatures"
   ]
  },
  {
   "cell_type": "markdown",
   "id": "e51797ad",
   "metadata": {},
   "source": [
    "We load the data about population exposures and perform cleaning for further analysis and integration with other datasets.\n",
    "\n",
    "Years included: 1979 - 2021.\n",
    "\n",
    "We will be interested mainly in four measures, describing the population exposure, although there is more measures in the dataset.\n",
    "\n",
    "- 'HD_TN_POP_IND' gives the exposures to hot summer days (over 35 °C) AND tropical nights (over 20 °C).\n",
    "\n",
    "- 'HD_POP_IND' is the exposure to hot summer days.\n",
    "\n",
    "- 'TN_POP_IND' is the exposure to tropical nights.\n",
    "\n",
    "- 'ID_POP_IND' is the exposure to icing days (doesn't exceed 0 °C)."
   ]
  },
  {
   "cell_type": "code",
   "execution_count": 340,
   "id": "365ead12",
   "metadata": {},
   "outputs": [],
   "source": [
    "df_exp = pd.read_csv('../data/oecd_population_exposure_to_extreme_temp.csv')"
   ]
  },
  {
   "cell_type": "markdown",
   "id": "88277dcd",
   "metadata": {},
   "source": [
    "Choose only the relevant columns.\n",
    "\n",
    "Reference area for individual countries (contains also provinces and greater regions of the world), measure (later we choose population exposure), duration (how many weeks per year did the phenomenon last), time period (from which year is the data), observed value."
   ]
  },
  {
   "cell_type": "code",
   "execution_count": 341,
   "id": "943fe295",
   "metadata": {},
   "outputs": [],
   "source": [
    "df_exp = df_exp[['REF_AREA','MEASURE','DURATION','TIME_PERIOD','OBS_VALUE']]"
   ]
  },
  {
   "cell_type": "markdown",
   "id": "ecdd7cfb",
   "metadata": {},
   "source": [
    "Rename the columns to standard format, drop possible empty spaces."
   ]
  },
  {
   "cell_type": "code",
   "execution_count": 342,
   "id": "598eac5a",
   "metadata": {},
   "outputs": [],
   "source": [
    "df_exp.columns = df_exp.columns.str.lower().str.strip()"
   ]
  },
  {
   "cell_type": "markdown",
   "id": "c8dfbe7d",
   "metadata": {},
   "source": [
    "When reference area contains provinces, the abbreviation of a respective country ends with numerical characters. We are not interested in provinces and they occupy big part of the data frame, drop these lines."
   ]
  },
  {
   "cell_type": "code",
   "execution_count": 343,
   "id": "80c74282",
   "metadata": {},
   "outputs": [],
   "source": [
    "df_exp = df_exp.loc[~(df_exp['ref_area'].str.endswith(('0', '1', '2', '3', '4', '5', '6', '7', '8', '9')))]\n",
    "df_exp.reset_index(drop=True, inplace=True)"
   ]
  },
  {
   "cell_type": "markdown",
   "id": "c53c5acc",
   "metadata": {},
   "source": [
    "Some tropical countries reported zero population exposures. This data is most likely flawed and we drop these countries."
   ]
  },
  {
   "cell_type": "code",
   "execution_count": 344,
   "id": "c3237bb1",
   "metadata": {},
   "outputs": [],
   "source": [
    "df_exp = df_exp[~df_exp['ref_area'].isin(['BDI', 'RWA', 'GNQ', 'PRI', 'BHS'])]"
   ]
  },
  {
   "cell_type": "markdown",
   "id": "ea61893d",
   "metadata": {},
   "source": [
    "**Do we want to calculate rolling averages already here?**"
   ]
  },
  {
   "cell_type": "code",
   "execution_count": 276,
   "id": "2356c815",
   "metadata": {},
   "outputs": [],
   "source": [
    "# # now let's group by all three categorical columns\n",
    "# window_size = 5\n",
    "\n",
    "# df_to_analyze['rolling_avg'] = df_to_analyze.groupby(['ref_area', 'measure', 'duration'])['obs_value']\\\n",
    "# .rolling(window_size, center=True)\\\n",
    "# .mean().reset_index(level=[0, 1, 2], drop=True)\n",
    "# # level=[0, 1, 2] removes new indeces for ['ref_area', 'measure', 'duration']\n",
    "\n"
   ]
  },
  {
   "cell_type": "markdown",
   "id": "e07000f4",
   "metadata": {},
   "source": [
    "Optional: save the data frame into a file."
   ]
  },
  {
   "cell_type": "code",
   "execution_count": 345,
   "id": "2eb5adf3",
   "metadata": {},
   "outputs": [],
   "source": [
    "# df_exp.to_csv('../data/exposures_all_durations.csv', index=False)"
   ]
  },
  {
   "cell_type": "markdown",
   "id": "dfde41e3",
   "metadata": {},
   "source": [
    "The data frame before, with separate durations, is useful for example for investigating trends in greater detail.\n",
    "\n",
    "For some purposes, we will be using the sum over all durations. Let us make such a grouped data frame.\n",
    "\n",
    "This can be done only for measure expressing percentages of population, so we will filter tha data frame for those first."
   ]
  },
  {
   "cell_type": "code",
   "execution_count": 300,
   "id": "e8d68d2d",
   "metadata": {},
   "outputs": [],
   "source": [
    "df_exp_summed = df_exp[df_exp['measure'].isin(['HD_POP_IND', 'TN_POP_IND', 'HD_TN_POP_IND', 'ID_POP_IND'])]"
   ]
  },
  {
   "cell_type": "markdown",
   "id": "5a0cadab",
   "metadata": {},
   "source": [
    "Now it is reasonable to rename the column 'obs_value' to 'exposure'."
   ]
  },
  {
   "cell_type": "code",
   "execution_count": 302,
   "id": "aa357d9b",
   "metadata": {},
   "outputs": [
    {
     "name": "stderr",
     "output_type": "stream",
     "text": [
      "C:\\Users\\radek\\AppData\\Local\\Temp\\ipykernel_6712\\3465930645.py:1: SettingWithCopyWarning: \n",
      "A value is trying to be set on a copy of a slice from a DataFrame\n",
      "\n",
      "See the caveats in the documentation: https://pandas.pydata.org/pandas-docs/stable/user_guide/indexing.html#returning-a-view-versus-a-copy\n",
      "  df_exp_summed.rename(columns={'obs_value':'exposure'}, inplace=True)\n"
     ]
    }
   ],
   "source": [
    "df_exp_summed.rename(columns={'obs_value':'exposure'}, inplace=True)"
   ]
  },
  {
   "cell_type": "markdown",
   "id": "543a22ea",
   "metadata": {},
   "source": [
    "We can group and sum up exposures over all durations."
   ]
  },
  {
   "cell_type": "code",
   "execution_count": 303,
   "id": "a2577321",
   "metadata": {},
   "outputs": [],
   "source": [
    "df_exp_summed = df_exp_summed.groupby(['ref_area', 'measure', 'time_period'], as_index=False)['exposure'].sum()"
   ]
  },
  {
   "cell_type": "markdown",
   "id": "45a77a55",
   "metadata": {},
   "source": [
    "The result sometimes slightly exceeds 100 % (up to 104.5 %). In the case, round the summed exposure to 100 %."
   ]
  },
  {
   "cell_type": "code",
   "execution_count": 305,
   "id": "025f98cd",
   "metadata": {},
   "outputs": [],
   "source": [
    "df_exp_summed.loc[df_exp_summed['exposure']>100, 'exposure'] = 100"
   ]
  },
  {
   "cell_type": "markdown",
   "id": "613f9e15",
   "metadata": {},
   "source": [
    "Optional: save the data frame into a file."
   ]
  },
  {
   "cell_type": "code",
   "execution_count": 307,
   "id": "eb3bb2af",
   "metadata": {},
   "outputs": [],
   "source": [
    "# df_exp_summed.to_csv('../data/exposures_summed.csv', index=False)"
   ]
  },
  {
   "cell_type": "markdown",
   "id": "034beec5",
   "metadata": {},
   "source": [
    "## Cleaning OECD data: Historical populations of countries"
   ]
  },
  {
   "cell_type": "markdown",
   "id": "cf2bace1",
   "metadata": {},
   "source": [
    "We load the data about population of countries in the previous years and perform cleaning for further analysis and integration with other datasets.\n",
    "\n",
    "Years included: 1950 - 2021."
   ]
  },
  {
   "cell_type": "code",
   "execution_count": 229,
   "id": "c4ea7f9c",
   "metadata": {},
   "outputs": [],
   "source": [
    "df_pop = pd.read_csv('../data/oecd_historical_population_data.csv')"
   ]
  },
  {
   "cell_type": "markdown",
   "id": "4dd82e18",
   "metadata": {},
   "source": [
    "Choose only the relevant columns.\n",
    "\n",
    "Reference area (country), measure (population), sex and age (to filter fot total values later), time period (year of the observation), observed value."
   ]
  },
  {
   "cell_type": "code",
   "execution_count": 230,
   "id": "aa5c992f",
   "metadata": {},
   "outputs": [],
   "source": [
    "df_pop = df_pop.drop(['DATAFLOW', 'TIME_HORIZ', 'OBS_STATUS', 'UNIT_MULT', 'DECIMALS'], axis='columns')"
   ]
  },
  {
   "cell_type": "markdown",
   "id": "5c9576d7",
   "metadata": {},
   "source": [
    "Rename the columns to standard format, drop possible empty spaces."
   ]
  },
  {
   "cell_type": "code",
   "execution_count": 231,
   "id": "03a5c4a9",
   "metadata": {},
   "outputs": [],
   "source": [
    "df_pop.columns = df_pop.columns.str.lower().str.strip()\n",
    "df_pop.rename(columns={'obs_value':'population'}, inplace=True)   # more informative name"
   ]
  },
  {
   "cell_type": "markdown",
   "id": "cec5d063",
   "metadata": {},
   "source": [
    "Keep only rows for total population across sexes and ages and drop the unnecessary columns after."
   ]
  },
  {
   "cell_type": "code",
   "execution_count": 232,
   "id": "3c95a572",
   "metadata": {},
   "outputs": [],
   "source": [
    "df_pop = df_pop[(df_pop['measure']=='POP') & (df_pop['unit_measure']=='PS') & (df_pop['sex']=='_T') &\\\n",
    "                (df_pop['age']=='_T')]\n",
    "df_pop.reset_index(drop=True, inplace=True)\n",
    "df_pop = df_pop.drop(['measure', 'unit_measure', 'sex', 'age'], axis='columns')"
   ]
  },
  {
   "cell_type": "markdown",
   "id": "1ac9e1a9",
   "metadata": {},
   "source": [
    "Optional: save the data frame into a file."
   ]
  },
  {
   "cell_type": "code",
   "execution_count": 234,
   "id": "02660417",
   "metadata": {},
   "outputs": [],
   "source": [
    "# df_pop.to_csv('../data/populations_clean.csv', index=False)"
   ]
  },
  {
   "cell_type": "markdown",
   "id": "346128c3",
   "metadata": {},
   "source": [
    "## Cleaning UN data: GDP per capita"
   ]
  },
  {
   "cell_type": "markdown",
   "id": "8c2b53b9",
   "metadata": {},
   "source": [
    "We load the data about GDP per capita of countries in the previous years and perform cleaning for further analysis and integration with other datasets.\n",
    "\n",
    "Years included: 2017 - 2021.\n"
   ]
  },
  {
   "cell_type": "code",
   "execution_count": 235,
   "id": "08357d1e",
   "metadata": {},
   "outputs": [],
   "source": [
    "df_gdp = pd.read_csv('../data/un_gdp_per_capita_current_prices.csv')"
   ]
  },
  {
   "cell_type": "markdown",
   "id": "598fdf41",
   "metadata": {},
   "source": [
    "Choose only the relevant columns and rename."
   ]
  },
  {
   "cell_type": "code",
   "execution_count": 236,
   "id": "4de28f7d",
   "metadata": {},
   "outputs": [],
   "source": [
    "df_gdp = df_gdp.drop('Item', axis='columns')\n",
    "df_gdp.columns = ['country', 'time_period', 'gdp']"
   ]
  },
  {
   "cell_type": "markdown",
   "id": "b20f34c9",
   "metadata": {},
   "source": [
    "Change 'gdp' column type to float"
   ]
  },
  {
   "cell_type": "code",
   "execution_count": 237,
   "id": "2434f39b",
   "metadata": {},
   "outputs": [],
   "source": [
    "df_exp_gdp['gdp'] = df_exp_gdp['gdp'].astype('float')"
   ]
  },
  {
   "cell_type": "markdown",
   "id": "a7df19c8",
   "metadata": {},
   "source": [
    "We are using alpha3 abbreviations of countries to merge different data frames but these are not present in the UN data.\n",
    "\n",
    "Make a dictionary to translate countries in the UN dataset to alpha3 abbreviations."
   ]
  },
  {
   "cell_type": "code",
   "execution_count": 238,
   "id": "baa5ce53",
   "metadata": {},
   "outputs": [],
   "source": [
    "country_alpha3 = {}\n",
    "for country in pycountry.countries:\n",
    "    country_alpha3[country.name] = country.alpha_3"
   ]
  },
  {
   "cell_type": "markdown",
   "id": "011c6bb9",
   "metadata": {},
   "source": [
    "Some keys in the dictionary should be updated, because the UN dataset uses different names than pycountry library. These countries would later be missing in the results."
   ]
  },
  {
   "cell_type": "code",
   "execution_count": 239,
   "id": "d36ba2ae",
   "metadata": {},
   "outputs": [],
   "source": [
    "old_keys = ['China', 'United Kingdom', 'Turkey', \"Korea, Democratic People's Republic of\", \"Korea, Republic of\",\\\n",
    "           'Venezuela, Bolivarian Republic of', 'Bolivia, Plurinational State of',\\\n",
    "            'Congo, The Democratic Republic of the', 'Tanzania, United Republic of', 'Moldova, Republic of',\\\n",
    "            'North Macedonia']\n",
    "new_keys = ['China (mainland)', 'United Kingdom of Great Britain and Northern Ireland', 'Türkiye',\\\n",
    "           \"Democratic People's Republic of Korea\", \"Republic of Korea\", 'Venezuela (Bolivarian Republic of)',\\\n",
    "           'Bolivia (Plurinational State of)', 'Democratic Republic of the Congo',\\\n",
    "            'United Republic of Tanzania: Mainland', 'Republic of Moldova', 'Republic of North Macedonia']\n",
    "\n",
    "for key in range(len(new_keys)):\n",
    "    old_key = old_keys[key]\n",
    "    new_key = new_keys[key]\n",
    "    country_alpha3[new_key] = country_alpha3.pop(old_key)"
   ]
  },
  {
   "cell_type": "markdown",
   "id": "39e8b63c",
   "metadata": {},
   "source": [
    "Add the 'country' column using our dictionary."
   ]
  },
  {
   "cell_type": "code",
   "execution_count": 240,
   "id": "94b14640",
   "metadata": {},
   "outputs": [],
   "source": [
    "df_gdp['ref_area'] = df_gdp['country'].map(country_alpha3)"
   ]
  },
  {
   "cell_type": "markdown",
   "id": "923fde93",
   "metadata": {},
   "source": [
    "Optional: save the data frame into a file."
   ]
  },
  {
   "cell_type": "code",
   "execution_count": 242,
   "id": "d4b325a5",
   "metadata": {},
   "outputs": [],
   "source": [
    "# df_gdp.to_csv('../data/gdp_clean.csv', index=False)"
   ]
  },
  {
   "cell_type": "markdown",
   "id": "05a01ddd",
   "metadata": {},
   "source": [
    "## Cleaning NASA data: temperature anomaly"
   ]
  },
  {
   "cell_type": "markdown",
   "id": "ffbe7dcd",
   "metadata": {},
   "source": [
    "We load the data about temperature anomaly and perform cleaning for further analysis and integration with other datasets.\n",
    "\n",
    "Years included: 1880 - 2023.\n",
    "\n",
    "Monthly temperature anomaly, compared with the mean temperature from 1951-1980."
   ]
  },
  {
   "cell_type": "code",
   "execution_count": 374,
   "id": "35bde8ad",
   "metadata": {},
   "outputs": [],
   "source": [
    "df_temp_anomaly = pd.read_csv('../data/nasa_global_mean_temperature_anomaly.csv', skiprows=1)"
   ]
  },
  {
   "cell_type": "markdown",
   "id": "198a896d",
   "metadata": {},
   "source": [
    "Choose only relevant columns (year and monthly anomalies) and rename."
   ]
  },
  {
   "cell_type": "code",
   "execution_count": 376,
   "id": "13b2958a",
   "metadata": {},
   "outputs": [],
   "source": [
    "df_temp_anomaly = df_temp_anomaly.iloc[:,0:13]\n",
    "df_temp_anomaly.columns = df_temp_anomaly.columns.str.lower().str.strip()"
   ]
  },
  {
   "cell_type": "markdown",
   "id": "27ac0401",
   "metadata": {},
   "source": [
    "Choose only the relevant years (rows)."
   ]
  },
  {
   "cell_type": "code",
   "execution_count": 377,
   "id": "2f905c83",
   "metadata": {},
   "outputs": [],
   "source": [
    "df_temp_anomaly = df_temp_anomaly[df_temp_anomaly['year'].between(1979,2021)]\n",
    "df_temp_anomaly = df_temp_anomaly.reset_index(drop=True)"
   ]
  },
  {
   "cell_type": "markdown",
   "id": "e4c6af6c",
   "metadata": {},
   "source": [
    "Change data type to floats to perform calculations."
   ]
  },
  {
   "cell_type": "code",
   "execution_count": 378,
   "id": "f338c0a9",
   "metadata": {},
   "outputs": [],
   "source": [
    "df_temp_anomaly[df_temp_anomaly.columns[1:13]] = df_temp_anomaly[df_temp_anomaly.columns[1:13]].astype(float)"
   ]
  },
  {
   "cell_type": "markdown",
   "id": "6533486a",
   "metadata": {},
   "source": [
    "Add a column with average anomalies for every year and keep only these two columns."
   ]
  },
  {
   "cell_type": "code",
   "execution_count": 380,
   "id": "d440e92b",
   "metadata": {},
   "outputs": [],
   "source": [
    "df_temp_anomaly['avg_anomaly'] = df_temp_anomaly.iloc[:, 1:].mean(axis=1)\n",
    "df_temp_anomaly = df_temp_anomaly[['year', 'avg_anomaly']]"
   ]
  },
  {
   "cell_type": "markdown",
   "id": "081ef60e",
   "metadata": {},
   "source": [
    "Optional: save the data frame into a file."
   ]
  },
  {
   "cell_type": "code",
   "execution_count": null,
   "id": "99882a62",
   "metadata": {},
   "outputs": [],
   "source": [
    "# df_temp_anomaly.to_csv('../data/temp_anomaly_clean.csv', index=False)"
   ]
  },
  {
   "cell_type": "markdown",
   "id": "6943f249",
   "metadata": {},
   "source": [
    "## Correlation between population exposure and time"
   ]
  },
  {
   "cell_type": "markdown",
   "id": "b205984c",
   "metadata": {},
   "source": [
    "We are going to calculate correlation between population exposure and time for individual countries."
   ]
  },
  {
   "cell_type": "markdown",
   "id": "30036ea5",
   "metadata": {},
   "source": [
    "Read the cleaned data frame from a file or use df_exp from above."
   ]
  },
  {
   "cell_type": "code",
   "execution_count": 249,
   "id": "4f75ae99",
   "metadata": {},
   "outputs": [],
   "source": [
    "# df_analyze_corr = pd.read_csv('../data/exposures_summed.csv')\n",
    "df_analyze_corr = df_exp_summed"
   ]
  },
  {
   "cell_type": "markdown",
   "id": "a3f67148",
   "metadata": {},
   "source": [
    "Keep only the lines where 'measure' contains data about population exposures."
   ]
  },
  {
   "cell_type": "code",
   "execution_count": 250,
   "id": "bfb58c7c",
   "metadata": {},
   "outputs": [],
   "source": [
    "df_analyze_corr =\\\n",
    "df_analyze_corr.loc[~(df_analyze_corr['measure'].str.contains('TEMP') |\\\n",
    "                      df_analyze_corr['measure'].str.contains('UTCI_POP_IND'))]\n",
    "df_analyze_corr.reset_index(drop=True, inplace=True)"
   ]
  },
  {
   "cell_type": "markdown",
   "id": "4e716949",
   "metadata": {},
   "source": [
    "We need a sum of exposures for all durations, therefore group by reference area, measure and time period and calculate the sum."
   ]
  },
  {
   "cell_type": "code",
   "execution_count": 251,
   "id": "b7477f92",
   "metadata": {},
   "outputs": [],
   "source": [
    "df_analyze_corr = df_exp_summed.groupby(['ref_area', 'measure', 'time_period'], as_index=False)['exposure'].sum()"
   ]
  },
  {
   "cell_type": "markdown",
   "id": "ad1dc644",
   "metadata": {},
   "source": [
    "**The actual correlations.**\n",
    "\n",
    "Below, select the measure in which we are interested."
   ]
  },
  {
   "cell_type": "code",
   "execution_count": 254,
   "id": "e2d92de5",
   "metadata": {},
   "outputs": [],
   "source": [
    "df_analyze_corr = df_analyze_corr[df_analyze_corr['measure']=='HD_TN_POP_IND']   # HERE SELECT THE MEASURE\n",
    "df_analyze_corr = df_analyze_corr.drop('measure', axis='columns')   # do not need the column any longer"
   ]
  },
  {
   "cell_type": "markdown",
   "id": "1aad3076",
   "metadata": {},
   "source": [
    "A loop, calculating correlation coefficient for each country."
   ]
  },
  {
   "cell_type": "code",
   "execution_count": 255,
   "id": "fbf01518",
   "metadata": {},
   "outputs": [],
   "source": [
    "countries = list(df_analyze_corr['ref_area'].unique())   # list of countries present\n",
    "corr_coeffs = []   # empty list for correlation coefficients\n",
    "\n",
    "for country in countries:\n",
    "    df_country = df_analyze_corr[df_analyze_corr['ref_area']==country]   # filter for the country\n",
    "    df_corr = df_country.corr(numeric_only=True)   # calculate correlation coefficients for numeric columns\n",
    "    coeff = df_corr.iloc[0,1]   # choose the relevant number\n",
    "    corr_coeffs.append(coeff)   # store the coefficient inside of the list"
   ]
  },
  {
   "cell_type": "markdown",
   "id": "d32afece",
   "metadata": {},
   "source": [
    "We can store the result in a data frame."
   ]
  },
  {
   "cell_type": "code",
   "execution_count": 256,
   "id": "e106cf08",
   "metadata": {
    "scrolled": true
   },
   "outputs": [],
   "source": [
    "df_corr_results = pd.DataFrame(columns=['countries','corr_coeff'])\n",
    "df_corr_results['countries'] = countries\n",
    "df_corr_results['corr_coeff'] = corr_coeffs"
   ]
  },
  {
   "cell_type": "markdown",
   "id": "2d383900",
   "metadata": {},
   "source": [
    "Optional: save the data frame into a file."
   ]
  },
  {
   "cell_type": "code",
   "execution_count": null,
   "id": "092433e5",
   "metadata": {},
   "outputs": [],
   "source": [
    "#df_analyze_corr.to_csv('../data/correlations.csv', index=False)"
   ]
  },
  {
   "cell_type": "markdown",
   "id": "2fbaf9b0",
   "metadata": {},
   "source": [
    "## Exposure change for the whole world"
   ]
  },
  {
   "cell_type": "markdown",
   "id": "b4878c69",
   "metadata": {},
   "source": [
    "Bonus (not included in the graduation presentation): If we want to describe the trends of population exposures worldwide, we need to calculate weighted average over all countries for every year.\n",
    "\n",
    "Read the cleaned data frame from a file or use df_exp_summed from above."
   ]
  },
  {
   "cell_type": "code",
   "execution_count": 384,
   "id": "b6042d3c",
   "metadata": {},
   "outputs": [],
   "source": [
    "df_exp_summed = pd.read_csv('../data/exposures_summed.csv')"
   ]
  },
  {
   "cell_type": "markdown",
   "id": "30543954",
   "metadata": {},
   "source": [
    "Select the measure we are interested in."
   ]
  },
  {
   "cell_type": "code",
   "execution_count": 391,
   "id": "6b311c40",
   "metadata": {},
   "outputs": [],
   "source": [
    "df_exp_measure = df_exp_summed[df_exp_summed['measure']=='HD_TN_POP_IND'] # HERE SELECT THE MEASURE"
   ]
  },
  {
   "cell_type": "markdown",
   "id": "f65530c3",
   "metadata": {},
   "source": [
    "Merge data frames with exposure and population size."
   ]
  },
  {
   "cell_type": "code",
   "execution_count": 392,
   "id": "db985a6a",
   "metadata": {},
   "outputs": [],
   "source": [
    "df_exp_pop = pd.merge(left=df_exp_measure, right=df_pop, how='left', on=['ref_area', 'time_period'])"
   ]
  },
  {
   "cell_type": "markdown",
   "id": "d9045e0a",
   "metadata": {},
   "source": [
    "For further calculations, we need to replace missing values with zeros."
   ]
  },
  {
   "cell_type": "code",
   "execution_count": 393,
   "id": "4896b813",
   "metadata": {},
   "outputs": [],
   "source": [
    "df_exp_pop['population'] = df_exp_pop['population'].fillna(0)"
   ]
  },
  {
   "cell_type": "markdown",
   "id": "083d250f",
   "metadata": {},
   "source": [
    "A loop, calculating weighted average for each year."
   ]
  },
  {
   "cell_type": "code",
   "execution_count": 394,
   "id": "c60e5fb6",
   "metadata": {},
   "outputs": [],
   "source": [
    "# new df for years and weighted averages:\n",
    "\n",
    "years = list(df_exp_pop['time_period'].unique())   # list of years present\n",
    "exp_world = []   # empty list for worldwide exposures\n",
    "\n",
    "for year in years:\n",
    "    df_calc = df_exp_pop[df_exp_pop['time_period']==year]   # filter for the year\n",
    "    avg_world = sum(df_calc['exposure'] * df_calc['population'])/ sum(df_calc['population'])   # weighted average\n",
    "    exp_world.append(avg_world)   # store the average inside of the list"
   ]
  },
  {
   "cell_type": "markdown",
   "id": "ca851cb2",
   "metadata": {},
   "source": [
    "We can store the result in a data frame."
   ]
  },
  {
   "cell_type": "code",
   "execution_count": 395,
   "id": "770d5708",
   "metadata": {},
   "outputs": [],
   "source": [
    "df_world_exp = pd.DataFrame(columns=['year','exposure'])\n",
    "df_world_exp['year'] = years\n",
    "df_world_exp['exposure'] = exp_world"
   ]
  },
  {
   "cell_type": "markdown",
   "id": "d69030cd",
   "metadata": {},
   "source": [
    "Optional: save the data frame into a file."
   ]
  },
  {
   "cell_type": "code",
   "execution_count": 396,
   "id": "4b04b6d3",
   "metadata": {},
   "outputs": [],
   "source": [
    "# df_world_exp.to_csv('../data/world_exp.csv', index=False)"
   ]
  },
  {
   "cell_type": "markdown",
   "id": "0ff7d7f0",
   "metadata": {},
   "source": [
    "## The effects in rich and poor countries (GDP per capita)"
   ]
  },
  {
   "cell_type": "markdown",
   "id": "56c2e003",
   "metadata": {},
   "source": [
    "We will investigate, if the population exposure is in general greater in poor countries. We will first calculate correlation between population exposure and GDP per capita and then also use k-means to cluster countries using these two variables. For two clusters, we will also perform an A/B test to compare the group characteristics."
   ]
  },
  {
   "cell_type": "markdown",
   "id": "bef3b97e",
   "metadata": {},
   "source": [
    "**Correlation between population exposure and GDP per capita**"
   ]
  },
  {
   "cell_type": "markdown",
   "id": "a7aee063",
   "metadata": {},
   "source": [
    "Read the cleaned data frames from files or use df_exp_summed, df_gdp from above."
   ]
  },
  {
   "cell_type": "code",
   "execution_count": 348,
   "id": "1a9b9f7d",
   "metadata": {},
   "outputs": [],
   "source": [
    "df_exp_summed = pd.read_csv('../data/exposures_summed.csv')\n",
    "df_gdp = pd.read_csv('../data/gdp_clean.csv')"
   ]
  },
  {
   "cell_type": "markdown",
   "id": "b25fd0e1",
   "metadata": {},
   "source": [
    "First, select the measure we are interested in."
   ]
  },
  {
   "cell_type": "code",
   "execution_count": 349,
   "id": "e8cd8ee8",
   "metadata": {},
   "outputs": [],
   "source": [
    "df_exp_summed = df_exp_summed[df_exp_summed['measure']=='HD_TN_POP_IND'] # HERE SELECT THE MEASURE\n",
    "df_exp_summed = df_exp_summed.drop('measure', axis='columns') # do not need the column any longer"
   ]
  },
  {
   "cell_type": "markdown",
   "id": "becc8918",
   "metadata": {},
   "source": [
    "Merge the data frames for population exposures and GDP per capita."
   ]
  },
  {
   "cell_type": "code",
   "execution_count": 350,
   "id": "04be8b83",
   "metadata": {},
   "outputs": [],
   "source": [
    "df_exp_gdp = pd.merge(df_exp_summed, df_gdp, how='inner', on=['ref_area', 'time_period'])"
   ]
  },
  {
   "cell_type": "markdown",
   "id": "557e9bba",
   "metadata": {},
   "source": [
    "The correlation between numerical variables."
   ]
  },
  {
   "cell_type": "code",
   "execution_count": 351,
   "id": "ce4b946e",
   "metadata": {},
   "outputs": [
    {
     "data": {
      "text/html": [
       "<div>\n",
       "<style scoped>\n",
       "    .dataframe tbody tr th:only-of-type {\n",
       "        vertical-align: middle;\n",
       "    }\n",
       "\n",
       "    .dataframe tbody tr th {\n",
       "        vertical-align: top;\n",
       "    }\n",
       "\n",
       "    .dataframe thead th {\n",
       "        text-align: right;\n",
       "    }\n",
       "</style>\n",
       "<table border=\"1\" class=\"dataframe\">\n",
       "  <thead>\n",
       "    <tr style=\"text-align: right;\">\n",
       "      <th></th>\n",
       "      <th>time_period</th>\n",
       "      <th>exposure</th>\n",
       "      <th>gdp</th>\n",
       "    </tr>\n",
       "  </thead>\n",
       "  <tbody>\n",
       "    <tr>\n",
       "      <th>time_period</th>\n",
       "      <td>1.000000</td>\n",
       "      <td>-0.004859</td>\n",
       "      <td>0.013287</td>\n",
       "    </tr>\n",
       "    <tr>\n",
       "      <th>exposure</th>\n",
       "      <td>-0.004859</td>\n",
       "      <td>1.000000</td>\n",
       "      <td>-0.308994</td>\n",
       "    </tr>\n",
       "    <tr>\n",
       "      <th>gdp</th>\n",
       "      <td>0.013287</td>\n",
       "      <td>-0.308994</td>\n",
       "      <td>1.000000</td>\n",
       "    </tr>\n",
       "  </tbody>\n",
       "</table>\n",
       "</div>"
      ],
      "text/plain": [
       "             time_period  exposure       gdp\n",
       "time_period     1.000000 -0.004859  0.013287\n",
       "exposure       -0.004859  1.000000 -0.308994\n",
       "gdp             0.013287 -0.308994  1.000000"
      ]
     },
     "execution_count": 351,
     "metadata": {},
     "output_type": "execute_result"
    }
   ],
   "source": [
    "df_exp_gdp.corr(numeric_only=True)"
   ]
  },
  {
   "cell_type": "markdown",
   "id": "708c25a4",
   "metadata": {},
   "source": [
    "**k-means**"
   ]
  },
  {
   "cell_type": "markdown",
   "id": "c8611be3",
   "metadata": {},
   "source": [
    "The algorithm gives more insightful results when omitting small countries with extremely high GDP per capita and zero population exposure. Drop these countries."
   ]
  },
  {
   "cell_type": "code",
   "execution_count": 352,
   "id": "e9bdafe7",
   "metadata": {},
   "outputs": [],
   "source": [
    "df_exp_gdp = df_exp_gdp[~df_exp_gdp['ref_area'].isin(['LUX', 'BMU', 'LIE', 'MCO'])]"
   ]
  },
  {
   "cell_type": "markdown",
   "id": "f8640502",
   "metadata": {},
   "source": [
    "Group by countries, get average population exposure and GDP per capita to cluster.\n",
    "\n",
    "We can remember that GDP data is only available for the period 2017 - 2021. This is a reasonable time interval to explore, since the averaging supresses fluctuations but all the data is recent and describes the current situation."
   ]
  },
  {
   "cell_type": "code",
   "execution_count": 353,
   "id": "788f41bf",
   "metadata": {},
   "outputs": [],
   "source": [
    "df_exp_gdp_avg = df_exp_gdp.groupby('ref_area')[['exposure', 'gdp']].mean()"
   ]
  },
  {
   "cell_type": "markdown",
   "id": "b5b70200",
   "metadata": {},
   "source": [
    "Create a data frame with numerical columns only."
   ]
  },
  {
   "cell_type": "code",
   "execution_count": 354,
   "id": "ea91ea75",
   "metadata": {},
   "outputs": [],
   "source": [
    "df_num = df_exp_gdp_avg[['exposure', 'gdp']]"
   ]
  },
  {
   "cell_type": "markdown",
   "id": "8076a004",
   "metadata": {},
   "source": [
    "Standardize data (standard deviation of all columns 1, mean 0)."
   ]
  },
  {
   "cell_type": "code",
   "execution_count": 355,
   "id": "7b3b0f64",
   "metadata": {},
   "outputs": [],
   "source": [
    "scaler = StandardScaler()\n",
    "scaler.fit(df_num)\n",
    "df_num_scaled = scaler.transform(df_num) # array of standardized data\n",
    "df_standardized = pd.DataFrame(df_num_scaled, columns=df_num.columns) # data frame from the array"
   ]
  },
  {
   "cell_type": "markdown",
   "id": "e4fc9a32",
   "metadata": {},
   "source": [
    "Optional: Elbow diagram to derive appropriate number of clusters."
   ]
  },
  {
   "cell_type": "code",
   "execution_count": 44,
   "id": "ec30d978",
   "metadata": {},
   "outputs": [],
   "source": [
    "# K = range(2, 10)\n",
    "# inertia = []\n",
    "# for k in K:\n",
    "#     kmeans = KMeans(n_clusters=k,\n",
    "#                     n_init=10)\n",
    "#     kmeans.fit(df_standardized)\n",
    "#     inertia.append(kmeans.inertia_)\n",
    "\n",
    "# plt.figure(figsize=(16,8))\n",
    "# plt.plot(K, inertia, 'bx-')\n",
    "# plt.xlabel('k')\n",
    "# plt.ylabel('inertia')\n",
    "# plt.xticks(np.arange(min(K), max(K), 1.0))\n",
    "# plt.title('Elbow Diagram')"
   ]
  },
  {
   "cell_type": "markdown",
   "id": "5c6595bb",
   "metadata": {},
   "source": [
    "k-Means (**choose number of clusters here**)"
   ]
  },
  {
   "cell_type": "code",
   "execution_count": 364,
   "id": "b4454aaf",
   "metadata": {},
   "outputs": [
    {
     "name": "stderr",
     "output_type": "stream",
     "text": [
      "D:\\DAsoft\\miniconda3\\lib\\site-packages\\sklearn\\cluster\\_kmeans.py:1412: FutureWarning:\n",
      "\n",
      "The default value of `n_init` will change from 10 to 'auto' in 1.4. Set the value of `n_init` explicitly to suppress the warning\n",
      "\n"
     ]
    },
    {
     "data": {
      "text/html": [
       "<style>#sk-container-id-2 {color: black;}#sk-container-id-2 pre{padding: 0;}#sk-container-id-2 div.sk-toggleable {background-color: white;}#sk-container-id-2 label.sk-toggleable__label {cursor: pointer;display: block;width: 100%;margin-bottom: 0;padding: 0.3em;box-sizing: border-box;text-align: center;}#sk-container-id-2 label.sk-toggleable__label-arrow:before {content: \"▸\";float: left;margin-right: 0.25em;color: #696969;}#sk-container-id-2 label.sk-toggleable__label-arrow:hover:before {color: black;}#sk-container-id-2 div.sk-estimator:hover label.sk-toggleable__label-arrow:before {color: black;}#sk-container-id-2 div.sk-toggleable__content {max-height: 0;max-width: 0;overflow: hidden;text-align: left;background-color: #f0f8ff;}#sk-container-id-2 div.sk-toggleable__content pre {margin: 0.2em;color: black;border-radius: 0.25em;background-color: #f0f8ff;}#sk-container-id-2 input.sk-toggleable__control:checked~div.sk-toggleable__content {max-height: 200px;max-width: 100%;overflow: auto;}#sk-container-id-2 input.sk-toggleable__control:checked~label.sk-toggleable__label-arrow:before {content: \"▾\";}#sk-container-id-2 div.sk-estimator input.sk-toggleable__control:checked~label.sk-toggleable__label {background-color: #d4ebff;}#sk-container-id-2 div.sk-label input.sk-toggleable__control:checked~label.sk-toggleable__label {background-color: #d4ebff;}#sk-container-id-2 input.sk-hidden--visually {border: 0;clip: rect(1px 1px 1px 1px);clip: rect(1px, 1px, 1px, 1px);height: 1px;margin: -1px;overflow: hidden;padding: 0;position: absolute;width: 1px;}#sk-container-id-2 div.sk-estimator {font-family: monospace;background-color: #f0f8ff;border: 1px dotted black;border-radius: 0.25em;box-sizing: border-box;margin-bottom: 0.5em;}#sk-container-id-2 div.sk-estimator:hover {background-color: #d4ebff;}#sk-container-id-2 div.sk-parallel-item::after {content: \"\";width: 100%;border-bottom: 1px solid gray;flex-grow: 1;}#sk-container-id-2 div.sk-label:hover label.sk-toggleable__label {background-color: #d4ebff;}#sk-container-id-2 div.sk-serial::before {content: \"\";position: absolute;border-left: 1px solid gray;box-sizing: border-box;top: 0;bottom: 0;left: 50%;z-index: 0;}#sk-container-id-2 div.sk-serial {display: flex;flex-direction: column;align-items: center;background-color: white;padding-right: 0.2em;padding-left: 0.2em;position: relative;}#sk-container-id-2 div.sk-item {position: relative;z-index: 1;}#sk-container-id-2 div.sk-parallel {display: flex;align-items: stretch;justify-content: center;background-color: white;position: relative;}#sk-container-id-2 div.sk-item::before, #sk-container-id-2 div.sk-parallel-item::before {content: \"\";position: absolute;border-left: 1px solid gray;box-sizing: border-box;top: 0;bottom: 0;left: 50%;z-index: -1;}#sk-container-id-2 div.sk-parallel-item {display: flex;flex-direction: column;z-index: 1;position: relative;background-color: white;}#sk-container-id-2 div.sk-parallel-item:first-child::after {align-self: flex-end;width: 50%;}#sk-container-id-2 div.sk-parallel-item:last-child::after {align-self: flex-start;width: 50%;}#sk-container-id-2 div.sk-parallel-item:only-child::after {width: 0;}#sk-container-id-2 div.sk-dashed-wrapped {border: 1px dashed gray;margin: 0 0.4em 0.5em 0.4em;box-sizing: border-box;padding-bottom: 0.4em;background-color: white;}#sk-container-id-2 div.sk-label label {font-family: monospace;font-weight: bold;display: inline-block;line-height: 1.2em;}#sk-container-id-2 div.sk-label-container {text-align: center;}#sk-container-id-2 div.sk-container {/* jupyter's `normalize.less` sets `[hidden] { display: none; }` but bootstrap.min.css set `[hidden] { display: none !important; }` so we also need the `!important` here to be able to override the default hidden behavior on the sphinx rendered scikit-learn.org. See: https://github.com/scikit-learn/scikit-learn/issues/21755 */display: inline-block !important;position: relative;}#sk-container-id-2 div.sk-text-repr-fallback {display: none;}</style><div id=\"sk-container-id-2\" class=\"sk-top-container\"><div class=\"sk-text-repr-fallback\"><pre>KMeans(n_clusters=2)</pre><b>In a Jupyter environment, please rerun this cell to show the HTML representation or trust the notebook. <br />On GitHub, the HTML representation is unable to render, please try loading this page with nbviewer.org.</b></div><div class=\"sk-container\" hidden><div class=\"sk-item\"><div class=\"sk-estimator sk-toggleable\"><input class=\"sk-toggleable__control sk-hidden--visually\" id=\"sk-estimator-id-2\" type=\"checkbox\" checked><label for=\"sk-estimator-id-2\" class=\"sk-toggleable__label sk-toggleable__label-arrow\">KMeans</label><div class=\"sk-toggleable__content\"><pre>KMeans(n_clusters=2)</pre></div></div></div></div></div>"
      ],
      "text/plain": [
       "KMeans(n_clusters=2)"
      ]
     },
     "execution_count": 364,
     "metadata": {},
     "output_type": "execute_result"
    }
   ],
   "source": [
    "kmeans = KMeans(n_clusters=2) # CHOOSE NO OF CLUSTERS\n",
    "kmeans.fit(df_standardized)"
   ]
  },
  {
   "cell_type": "markdown",
   "id": "d595cb14",
   "metadata": {},
   "source": [
    "Defining the clusters (aray of labels)."
   ]
  },
  {
   "cell_type": "code",
   "execution_count": 365,
   "id": "41336357",
   "metadata": {},
   "outputs": [],
   "source": [
    "clusters = kmeans.predict(df_standardized)"
   ]
  },
  {
   "cell_type": "markdown",
   "id": "b01f6123",
   "metadata": {},
   "source": [
    "Numbers of members in each cluster."
   ]
  },
  {
   "cell_type": "code",
   "execution_count": 366,
   "id": "5c606900",
   "metadata": {},
   "outputs": [
    {
     "data": {
      "text/plain": [
       "0    104\n",
       "1     94\n",
       "Name: count, dtype: int64"
      ]
     },
     "execution_count": 366,
     "metadata": {},
     "output_type": "execute_result"
    }
   ],
   "source": [
    "pd.Series(clusters).value_counts()"
   ]
  },
  {
   "cell_type": "markdown",
   "id": "565ed6e7",
   "metadata": {},
   "source": [
    "Adding clusters to the original data frame."
   ]
  },
  {
   "cell_type": "code",
   "execution_count": 367,
   "id": "9e1f744b",
   "metadata": {},
   "outputs": [],
   "source": [
    "df_clustered = df_exp_gdp_avg.copy()   # copy of the original data frame\n",
    "df_clustered['cluster'] = clusters   # new column with cluster labels\n",
    "df_clustered['cluster'] = df_clustered['cluster'].astype(str)   # labels as string, useful for visualizations\n",
    "df_clustered = df_clustered.reset_index()"
   ]
  },
  {
   "cell_type": "code",
   "execution_count": 369,
   "id": "694e81e2",
   "metadata": {},
   "outputs": [
    {
     "data": {
      "application/vnd.plotly.v1+json": {
       "config": {
        "plotlyServerURL": "https://plot.ly"
       },
       "data": [
        {
         "hovertemplate": "<b>%{hovertext}</b><br><br>cluster=0<br>gdp=%{x}<br>exposure=%{y}<extra></extra>",
         "hovertext": [
          "ABW",
          "AGO",
          "AIA",
          "AND",
          "ATG",
          "AUS",
          "AUT",
          "BDI",
          "BEL",
          "BGR",
          "BHR",
          "BHS",
          "BIH",
          "BLR",
          "BLZ",
          "BRB",
          "BRN",
          "BTN",
          "CAN",
          "CHE",
          "CHL",
          "COK",
          "COL",
          "COM",
          "CPV",
          "CRI",
          "CYM",
          "CYP",
          "CZE",
          "DEU",
          "DMA",
          "DNK",
          "DOM",
          "ECU",
          "EST",
          "ETH",
          "FIN",
          "FJI",
          "FRA",
          "GAB",
          "GBR",
          "GMB",
          "GNQ",
          "GRD",
          "GRL",
          "GTM",
          "GUY",
          "HRV",
          "HTI",
          "IDN",
          "IRL",
          "ISL",
          "ITA",
          "JAM",
          "JPN",
          "KEN",
          "KIR",
          "KNA",
          "LCA",
          "LSO",
          "LTU",
          "LVA",
          "MDV",
          "MHL",
          "MLT",
          "MNE",
          "MNG",
          "MSR",
          "MUS",
          "NCL",
          "NLD",
          "NOR",
          "NRU",
          "NZL",
          "PAN",
          "PER",
          "PLW",
          "PNG",
          "POL",
          "PRI",
          "PRT",
          "PYF",
          "QAT",
          "RUS",
          "RWA",
          "SGP",
          "SLB",
          "SMR",
          "STP",
          "SVK",
          "SVN",
          "SWE",
          "SYC",
          "TCA",
          "TLS",
          "TON",
          "TTO",
          "TUV",
          "TZA",
          "URY",
          "USA",
          "VCT",
          "VUT",
          "WSM"
         ],
         "legendgroup": "0",
         "marker": {
          "color": "#636efa",
          "symbol": "circle"
         },
         "mode": "markers",
         "name": "0",
         "orientation": "v",
         "showlegend": true,
         "type": "scatter",
         "x": [
          29005.998007523158,
          2707.468532820648,
          20050.56245641974,
          40827.776056897164,
          16398.279227880317,
          58522.61423279487,
          50333.16819726418,
          294.8912017338922,
          46952.260191844354,
          9921.838917118162,
          25139.936455909577,
          29331.95072533072,
          6071.794247696113,
          6395.679496885404,
          5973.552343451126,
          17788.0631699156,
          29760.78585294706,
          3163.123135209964,
          46714.12675709158,
          87134.35579529656,
          14973.839909138322,
          19530.07155213206,
          6216.353925202087,
          1523.507136756466,
          3245.452139341788,
          12355.189174642921,
          84986.45917926592,
          29361.18934499076,
          23706.05027753764,
          47425.7934124764,
          7679.6725985534695,
          61712.805478142676,
          7855.733314178486,
          6082.26879600352,
          23721.460823727502,
          778.4608715640504,
          49581.26075034982,
          5475.506695461276,
          41135.34601748364,
          7357.297512440446,
          42719.81383087474,
          702.8815883844368,
          7673.162493648379,
          9231.85512921561,
          54449.209950763805,
          4507.817551750411,
          7130.964595594409,
          14903.389996461341,
          1443.681737604698,
          4024.1311592125558,
          83809.59087357039,
          68697.8083724449,
          33752.49996808318,
          5314.931521636094,
          39890.266269594504,
          1902.012209526038,
          1550.02444380816,
          20915.37382842098,
          10717.758194432105,
          1059.5073817873376,
          19669.98842810344,
          18161.532713781682,
          9930.761556022266,
          5287.628195769764,
          30713.319435305842,
          8408.818782327542,
          4163.850135159564,
          14578.17617916372,
          10151.431084968313,
          33642.48412519454,
          52762.68971450906,
          78006.68159842472,
          11398.61896398138,
          44226.50775637016,
          14757.436743956141,
          6644.443859152362,
          14725.238515187439,
          2560.72393679292,
          15543.980575166821,
          31455.176696250237,
          23047.568673096677,
          19841.4658899297,
          61522.72065975596,
          11261.06183460452,
          785.9787676941771,
          62724.538498760805,
          2332.252490036966,
          47297.44132696136,
          2091.376510417898,
          19479.84834700094,
          25818.489359516818,
          54786.14194112964,
          13897.393195028202,
          24415.43182962522,
          1426.9107670057879,
          4570.634441099072,
          15570.8809895819,
          4718.709761349592,
          1052.7249666175853,
          17677.44571040078,
          63341.8553380489,
          8375.980543786249,
          3037.736497754866,
          4118.571542030631
         ],
         "xaxis": "x",
         "y": [
          0,
          28.353210058000002,
          0,
          0,
          0,
          72.666998852,
          17.2039516,
          0,
          28.070313999999996,
          33.7174394,
          4.2276122,
          0,
          30.952399800000002,
          5.85065696,
          32.601503246200004,
          0,
          43.83178568,
          0,
          5.78196274,
          1.283968,
          0.8484792000000001,
          0,
          29.6106896,
          0,
          0,
          6.265794059999999,
          0,
          47.8944196,
          8.5710128,
          25.3376384,
          0,
          0,
          13.083224079999999,
          1.43589624,
          0,
          19.08802742,
          0,
          0,
          45.2589264328,
          10.198616586,
          0,
          27.763531,
          0,
          0,
          0,
          22.289202806,
          9.665503952,
          38.2365752,
          14.8265728,
          25.12056628,
          0,
          0,
          52.969592160000005,
          25.775797999999998,
          52.828590600000005,
          19.56026512,
          0,
          0,
          0,
          0,
          0,
          0,
          0,
          0,
          0,
          15.530342,
          9.351514316,
          0,
          0,
          0,
          19.303058,
          0,
          0,
          0,
          9.0607422,
          9.693490374,
          0,
          5.535945718,
          11.1519072,
          0,
          27.001206237999998,
          0,
          73.459848,
          25.667027228999995,
          0,
          0,
          0,
          0,
          0,
          22.397546,
          21.693120999999998,
          0,
          0,
          0,
          0.877093,
          0,
          0,
          0,
          20.6671432336,
          31.483405127999998,
          58.4594498,
          0,
          0,
          0
         ],
         "yaxis": "y"
        },
        {
         "hovertemplate": "<b>%{hovertext}</b><br><br>cluster=1<br>gdp=%{x}<br>exposure=%{y}<extra></extra>",
         "hovertext": [
          "AFG",
          "ALB",
          "ARE",
          "ARG",
          "ARM",
          "AZE",
          "BEN",
          "BFA",
          "BGD",
          "BOL",
          "BRA",
          "BWA",
          "CAF",
          "CHN",
          "CIV",
          "CMR",
          "COD",
          "COG",
          "CUB",
          "DJI",
          "DZA",
          "EGY",
          "ERI",
          "ESP",
          "GEO",
          "GHA",
          "GIN",
          "GNB",
          "GRC",
          "HND",
          "HUN",
          "IND",
          "IRN",
          "IRQ",
          "ISR",
          "JOR",
          "KAZ",
          "KGZ",
          "KHM",
          "KOR",
          "KWT",
          "LAO",
          "LBN",
          "LBR",
          "LBY",
          "LKA",
          "MAR",
          "MDA",
          "MDG",
          "MEX",
          "MKD",
          "MLI",
          "MMR",
          "MOZ",
          "MRT",
          "MWI",
          "MYS",
          "NAM",
          "NER",
          "NGA",
          "NIC",
          "NPL",
          "OMN",
          "PAK",
          "PHL",
          "PRK",
          "PRY",
          "ROU",
          "SAU",
          "SDN",
          "SEN",
          "SLE",
          "SLV",
          "SOM",
          "SRB",
          "SSD",
          "SUR",
          "SYR",
          "TCD",
          "TGO",
          "THA",
          "TJK",
          "TKM",
          "TUN",
          "TUR",
          "UGA",
          "UKR",
          "UZB",
          "VEN",
          "VNM",
          "YEM",
          "ZAF",
          "ZMB",
          "ZWE"
         ],
         "legendgroup": "1",
         "marker": {
          "color": "#EF553B",
          "symbol": "circle"
         },
         "mode": "markers",
         "name": "1",
         "orientation": "v",
         "showlegend": true,
         "type": "scatter",
         "x": [
          484.42893666327234,
          5364.758399650494,
          43153.2827824669,
          11150.9835169018,
          4546.961531153272,
          4570.680222963909,
          1212.464567180638,
          797.7751616915256,
          2102.072687229424,
          3327.4817431010024,
          8440.663358763391,
          6600.154896826219,
          434.72860336298817,
          10264.510047631302,
          2283.494729704572,
          1564.1862529334762,
          510.67567899329094,
          2191.409637049734,
          9453.910639749658,
          2972.317114974634,
          3876.6383847455136,
          2936.877231733562,
          583.6196050435218,
          29035.40870759808,
          4557.8932844307565,
          2186.315210552134,
          1018.0990919021885,
          720.8116224336061,
          19317.47389268614,
          2501.240810565802,
          16534.798112428758,
          2041.111515569286,
          6220.476157934678,
          4977.061859661804,
          46753.354811582096,
          4074.883259818488,
          9507.523483301373,
          1308.059525920122,
          1551.246673173442,
          32686.35253489872,
          29676.90501880736,
          2554.3876627432,
          8116.627926733728,
          522.7631192469478,
          9148.164845079209,
          3932.671607957658,
          3518.5556631440936,
          3769.983907369344,
          498.1224967508468,
          9627.442398214887,
          5931.142583125086,
          837.9347391888725,
          1331.51642584809,
          484.2601354113746,
          1851.81444662067,
          568.5980243506659,
          10688.12987576193,
          5068.810676266184,
          557.6579240638505,
          2096.91978799356,
          1981.6098252840443,
          1134.293620098246,
          18607.879542161238,
          1420.49776906463,
          3274.182027387742,
          660.1459996090359,
          5915.069953945244,
          12712.21908516434,
          21722.51038477972,
          1304.3531014396817,
          1491.902263684398,
          502.2640858648894,
          4173.355952425534,
          405.2745953099202,
          7116.542368929207,
          382.0893566806214,
          6265.029810389686,
          1079.481399267895,
          933.7959681606217,
          869.6178831804503,
          7051.319913698739,
          866.6874571703696,
          7409.932390853437,
          3585.930072696964,
          9438.029717970152,
          855.0319003618955,
          3419.7419428229077,
          1840.006156523858,
          5568.129300773949,
          3418.6448178224236,
          496.66122339929746,
          6650.837947197817,
          1258.0421614723073,
          1485.431274304962
         ],
         "xaxis": "x",
         "y": [
          61.24204160000001,
          49.1013706,
          84.42367200000001,
          77.841463,
          57.5654224,
          69.6043928,
          66.2205378,
          98.455848,
          90.619338274,
          34.494594468,
          61.28804100000001,
          94.147515198,
          94.6891174,
          77.687884746,
          70.13436540000001,
          52.208738575999995,
          51.256796088399994,
          31.6199088,
          40.074104240000004,
          52.972569724,
          86.0995716,
          97.3630998,
          82.76431958,
          61.064793626000004,
          67.042056313,
          66.2042802,
          86.1272286,
          66.7457832,
          73.71074796,
          64.98469526,
          54.84015000000001,
          95.3788676,
          90.23042339999999,
          99.51219556,
          77.744126162,
          94.83877606,
          65.8281506,
          55.659899599999996,
          92.06605698,
          60.091463999999995,
          93.501444,
          77.72293331,
          46.808294000000004,
          34.76225422,
          91.59421466,
          44.31009718,
          83.7795666,
          37.3947106,
          36.134731020000004,
          37.341662,
          58.97234039999999,
          98.30077800000001,
          89.60683320000001,
          81.8744378,
          62.797500372,
          54.934071859999996,
          47.222554439999996,
          87.4303762,
          98.89407800000001,
          89.9117052,
          60.73401572,
          55.3379318,
          78.590104898,
          96.73588354,
          35.39781584,
          31.857415200000002,
          88.54330501,
          42.30030646,
          95.32556667399999,
          97.9312130842,
          73.66860872,
          68.05483274000001,
          92.15480892000001,
          55.8900626,
          63.593934000000004,
          98.917546452,
          82.95901974,
          93.0623296,
          99.375580085,
          60.80112025999999,
          90.7397864,
          68.8425402,
          95.61470578800001,
          76.9105828,
          44.351637499999995,
          32.15959434,
          36.204484,
          90.6345474,
          60.3657458,
          82.3932516722,
          60.3362438,
          37.723094856,
          80.733249538,
          80.787080966
         ],
         "yaxis": "y"
        }
       ],
       "layout": {
        "legend": {
         "title": {
          "text": "cluster"
         },
         "tracegroupgap": 0
        },
        "margin": {
         "t": 60
        },
        "template": {
         "data": {
          "bar": [
           {
            "error_x": {
             "color": "#2a3f5f"
            },
            "error_y": {
             "color": "#2a3f5f"
            },
            "marker": {
             "line": {
              "color": "#E5ECF6",
              "width": 0.5
             },
             "pattern": {
              "fillmode": "overlay",
              "size": 10,
              "solidity": 0.2
             }
            },
            "type": "bar"
           }
          ],
          "barpolar": [
           {
            "marker": {
             "line": {
              "color": "#E5ECF6",
              "width": 0.5
             },
             "pattern": {
              "fillmode": "overlay",
              "size": 10,
              "solidity": 0.2
             }
            },
            "type": "barpolar"
           }
          ],
          "carpet": [
           {
            "aaxis": {
             "endlinecolor": "#2a3f5f",
             "gridcolor": "white",
             "linecolor": "white",
             "minorgridcolor": "white",
             "startlinecolor": "#2a3f5f"
            },
            "baxis": {
             "endlinecolor": "#2a3f5f",
             "gridcolor": "white",
             "linecolor": "white",
             "minorgridcolor": "white",
             "startlinecolor": "#2a3f5f"
            },
            "type": "carpet"
           }
          ],
          "choropleth": [
           {
            "colorbar": {
             "outlinewidth": 0,
             "ticks": ""
            },
            "type": "choropleth"
           }
          ],
          "contour": [
           {
            "colorbar": {
             "outlinewidth": 0,
             "ticks": ""
            },
            "colorscale": [
             [
              0,
              "#0d0887"
             ],
             [
              0.1111111111111111,
              "#46039f"
             ],
             [
              0.2222222222222222,
              "#7201a8"
             ],
             [
              0.3333333333333333,
              "#9c179e"
             ],
             [
              0.4444444444444444,
              "#bd3786"
             ],
             [
              0.5555555555555556,
              "#d8576b"
             ],
             [
              0.6666666666666666,
              "#ed7953"
             ],
             [
              0.7777777777777778,
              "#fb9f3a"
             ],
             [
              0.8888888888888888,
              "#fdca26"
             ],
             [
              1,
              "#f0f921"
             ]
            ],
            "type": "contour"
           }
          ],
          "contourcarpet": [
           {
            "colorbar": {
             "outlinewidth": 0,
             "ticks": ""
            },
            "type": "contourcarpet"
           }
          ],
          "heatmap": [
           {
            "colorbar": {
             "outlinewidth": 0,
             "ticks": ""
            },
            "colorscale": [
             [
              0,
              "#0d0887"
             ],
             [
              0.1111111111111111,
              "#46039f"
             ],
             [
              0.2222222222222222,
              "#7201a8"
             ],
             [
              0.3333333333333333,
              "#9c179e"
             ],
             [
              0.4444444444444444,
              "#bd3786"
             ],
             [
              0.5555555555555556,
              "#d8576b"
             ],
             [
              0.6666666666666666,
              "#ed7953"
             ],
             [
              0.7777777777777778,
              "#fb9f3a"
             ],
             [
              0.8888888888888888,
              "#fdca26"
             ],
             [
              1,
              "#f0f921"
             ]
            ],
            "type": "heatmap"
           }
          ],
          "heatmapgl": [
           {
            "colorbar": {
             "outlinewidth": 0,
             "ticks": ""
            },
            "colorscale": [
             [
              0,
              "#0d0887"
             ],
             [
              0.1111111111111111,
              "#46039f"
             ],
             [
              0.2222222222222222,
              "#7201a8"
             ],
             [
              0.3333333333333333,
              "#9c179e"
             ],
             [
              0.4444444444444444,
              "#bd3786"
             ],
             [
              0.5555555555555556,
              "#d8576b"
             ],
             [
              0.6666666666666666,
              "#ed7953"
             ],
             [
              0.7777777777777778,
              "#fb9f3a"
             ],
             [
              0.8888888888888888,
              "#fdca26"
             ],
             [
              1,
              "#f0f921"
             ]
            ],
            "type": "heatmapgl"
           }
          ],
          "histogram": [
           {
            "marker": {
             "pattern": {
              "fillmode": "overlay",
              "size": 10,
              "solidity": 0.2
             }
            },
            "type": "histogram"
           }
          ],
          "histogram2d": [
           {
            "colorbar": {
             "outlinewidth": 0,
             "ticks": ""
            },
            "colorscale": [
             [
              0,
              "#0d0887"
             ],
             [
              0.1111111111111111,
              "#46039f"
             ],
             [
              0.2222222222222222,
              "#7201a8"
             ],
             [
              0.3333333333333333,
              "#9c179e"
             ],
             [
              0.4444444444444444,
              "#bd3786"
             ],
             [
              0.5555555555555556,
              "#d8576b"
             ],
             [
              0.6666666666666666,
              "#ed7953"
             ],
             [
              0.7777777777777778,
              "#fb9f3a"
             ],
             [
              0.8888888888888888,
              "#fdca26"
             ],
             [
              1,
              "#f0f921"
             ]
            ],
            "type": "histogram2d"
           }
          ],
          "histogram2dcontour": [
           {
            "colorbar": {
             "outlinewidth": 0,
             "ticks": ""
            },
            "colorscale": [
             [
              0,
              "#0d0887"
             ],
             [
              0.1111111111111111,
              "#46039f"
             ],
             [
              0.2222222222222222,
              "#7201a8"
             ],
             [
              0.3333333333333333,
              "#9c179e"
             ],
             [
              0.4444444444444444,
              "#bd3786"
             ],
             [
              0.5555555555555556,
              "#d8576b"
             ],
             [
              0.6666666666666666,
              "#ed7953"
             ],
             [
              0.7777777777777778,
              "#fb9f3a"
             ],
             [
              0.8888888888888888,
              "#fdca26"
             ],
             [
              1,
              "#f0f921"
             ]
            ],
            "type": "histogram2dcontour"
           }
          ],
          "mesh3d": [
           {
            "colorbar": {
             "outlinewidth": 0,
             "ticks": ""
            },
            "type": "mesh3d"
           }
          ],
          "parcoords": [
           {
            "line": {
             "colorbar": {
              "outlinewidth": 0,
              "ticks": ""
             }
            },
            "type": "parcoords"
           }
          ],
          "pie": [
           {
            "automargin": true,
            "type": "pie"
           }
          ],
          "scatter": [
           {
            "fillpattern": {
             "fillmode": "overlay",
             "size": 10,
             "solidity": 0.2
            },
            "type": "scatter"
           }
          ],
          "scatter3d": [
           {
            "line": {
             "colorbar": {
              "outlinewidth": 0,
              "ticks": ""
             }
            },
            "marker": {
             "colorbar": {
              "outlinewidth": 0,
              "ticks": ""
             }
            },
            "type": "scatter3d"
           }
          ],
          "scattercarpet": [
           {
            "marker": {
             "colorbar": {
              "outlinewidth": 0,
              "ticks": ""
             }
            },
            "type": "scattercarpet"
           }
          ],
          "scattergeo": [
           {
            "marker": {
             "colorbar": {
              "outlinewidth": 0,
              "ticks": ""
             }
            },
            "type": "scattergeo"
           }
          ],
          "scattergl": [
           {
            "marker": {
             "colorbar": {
              "outlinewidth": 0,
              "ticks": ""
             }
            },
            "type": "scattergl"
           }
          ],
          "scattermapbox": [
           {
            "marker": {
             "colorbar": {
              "outlinewidth": 0,
              "ticks": ""
             }
            },
            "type": "scattermapbox"
           }
          ],
          "scatterpolar": [
           {
            "marker": {
             "colorbar": {
              "outlinewidth": 0,
              "ticks": ""
             }
            },
            "type": "scatterpolar"
           }
          ],
          "scatterpolargl": [
           {
            "marker": {
             "colorbar": {
              "outlinewidth": 0,
              "ticks": ""
             }
            },
            "type": "scatterpolargl"
           }
          ],
          "scatterternary": [
           {
            "marker": {
             "colorbar": {
              "outlinewidth": 0,
              "ticks": ""
             }
            },
            "type": "scatterternary"
           }
          ],
          "surface": [
           {
            "colorbar": {
             "outlinewidth": 0,
             "ticks": ""
            },
            "colorscale": [
             [
              0,
              "#0d0887"
             ],
             [
              0.1111111111111111,
              "#46039f"
             ],
             [
              0.2222222222222222,
              "#7201a8"
             ],
             [
              0.3333333333333333,
              "#9c179e"
             ],
             [
              0.4444444444444444,
              "#bd3786"
             ],
             [
              0.5555555555555556,
              "#d8576b"
             ],
             [
              0.6666666666666666,
              "#ed7953"
             ],
             [
              0.7777777777777778,
              "#fb9f3a"
             ],
             [
              0.8888888888888888,
              "#fdca26"
             ],
             [
              1,
              "#f0f921"
             ]
            ],
            "type": "surface"
           }
          ],
          "table": [
           {
            "cells": {
             "fill": {
              "color": "#EBF0F8"
             },
             "line": {
              "color": "white"
             }
            },
            "header": {
             "fill": {
              "color": "#C8D4E3"
             },
             "line": {
              "color": "white"
             }
            },
            "type": "table"
           }
          ]
         },
         "layout": {
          "annotationdefaults": {
           "arrowcolor": "#2a3f5f",
           "arrowhead": 0,
           "arrowwidth": 1
          },
          "autotypenumbers": "strict",
          "coloraxis": {
           "colorbar": {
            "outlinewidth": 0,
            "ticks": ""
           }
          },
          "colorscale": {
           "diverging": [
            [
             0,
             "#8e0152"
            ],
            [
             0.1,
             "#c51b7d"
            ],
            [
             0.2,
             "#de77ae"
            ],
            [
             0.3,
             "#f1b6da"
            ],
            [
             0.4,
             "#fde0ef"
            ],
            [
             0.5,
             "#f7f7f7"
            ],
            [
             0.6,
             "#e6f5d0"
            ],
            [
             0.7,
             "#b8e186"
            ],
            [
             0.8,
             "#7fbc41"
            ],
            [
             0.9,
             "#4d9221"
            ],
            [
             1,
             "#276419"
            ]
           ],
           "sequential": [
            [
             0,
             "#0d0887"
            ],
            [
             0.1111111111111111,
             "#46039f"
            ],
            [
             0.2222222222222222,
             "#7201a8"
            ],
            [
             0.3333333333333333,
             "#9c179e"
            ],
            [
             0.4444444444444444,
             "#bd3786"
            ],
            [
             0.5555555555555556,
             "#d8576b"
            ],
            [
             0.6666666666666666,
             "#ed7953"
            ],
            [
             0.7777777777777778,
             "#fb9f3a"
            ],
            [
             0.8888888888888888,
             "#fdca26"
            ],
            [
             1,
             "#f0f921"
            ]
           ],
           "sequentialminus": [
            [
             0,
             "#0d0887"
            ],
            [
             0.1111111111111111,
             "#46039f"
            ],
            [
             0.2222222222222222,
             "#7201a8"
            ],
            [
             0.3333333333333333,
             "#9c179e"
            ],
            [
             0.4444444444444444,
             "#bd3786"
            ],
            [
             0.5555555555555556,
             "#d8576b"
            ],
            [
             0.6666666666666666,
             "#ed7953"
            ],
            [
             0.7777777777777778,
             "#fb9f3a"
            ],
            [
             0.8888888888888888,
             "#fdca26"
            ],
            [
             1,
             "#f0f921"
            ]
           ]
          },
          "colorway": [
           "#636efa",
           "#EF553B",
           "#00cc96",
           "#ab63fa",
           "#FFA15A",
           "#19d3f3",
           "#FF6692",
           "#B6E880",
           "#FF97FF",
           "#FECB52"
          ],
          "font": {
           "color": "#2a3f5f"
          },
          "geo": {
           "bgcolor": "white",
           "lakecolor": "white",
           "landcolor": "#E5ECF6",
           "showlakes": true,
           "showland": true,
           "subunitcolor": "white"
          },
          "hoverlabel": {
           "align": "left"
          },
          "hovermode": "closest",
          "mapbox": {
           "style": "light"
          },
          "paper_bgcolor": "white",
          "plot_bgcolor": "#E5ECF6",
          "polar": {
           "angularaxis": {
            "gridcolor": "white",
            "linecolor": "white",
            "ticks": ""
           },
           "bgcolor": "#E5ECF6",
           "radialaxis": {
            "gridcolor": "white",
            "linecolor": "white",
            "ticks": ""
           }
          },
          "scene": {
           "xaxis": {
            "backgroundcolor": "#E5ECF6",
            "gridcolor": "white",
            "gridwidth": 2,
            "linecolor": "white",
            "showbackground": true,
            "ticks": "",
            "zerolinecolor": "white"
           },
           "yaxis": {
            "backgroundcolor": "#E5ECF6",
            "gridcolor": "white",
            "gridwidth": 2,
            "linecolor": "white",
            "showbackground": true,
            "ticks": "",
            "zerolinecolor": "white"
           },
           "zaxis": {
            "backgroundcolor": "#E5ECF6",
            "gridcolor": "white",
            "gridwidth": 2,
            "linecolor": "white",
            "showbackground": true,
            "ticks": "",
            "zerolinecolor": "white"
           }
          },
          "shapedefaults": {
           "line": {
            "color": "#2a3f5f"
           }
          },
          "ternary": {
           "aaxis": {
            "gridcolor": "white",
            "linecolor": "white",
            "ticks": ""
           },
           "baxis": {
            "gridcolor": "white",
            "linecolor": "white",
            "ticks": ""
           },
           "bgcolor": "#E5ECF6",
           "caxis": {
            "gridcolor": "white",
            "linecolor": "white",
            "ticks": ""
           }
          },
          "title": {
           "x": 0.05
          },
          "xaxis": {
           "automargin": true,
           "gridcolor": "white",
           "linecolor": "white",
           "ticks": "",
           "title": {
            "standoff": 15
           },
           "zerolinecolor": "white",
           "zerolinewidth": 2
          },
          "yaxis": {
           "automargin": true,
           "gridcolor": "white",
           "linecolor": "white",
           "ticks": "",
           "title": {
            "standoff": 15
           },
           "zerolinecolor": "white",
           "zerolinewidth": 2
          }
         }
        },
        "xaxis": {
         "anchor": "y",
         "domain": [
          0,
          1
         ],
         "title": {
          "text": "gdp"
         }
        },
        "yaxis": {
         "anchor": "x",
         "domain": [
          0,
          1
         ],
         "title": {
          "text": "exposure"
         }
        }
       }
      },
      "text/html": [
       "<div>                            <div id=\"037a23af-aca2-42e4-b976-1577c97eac9b\" class=\"plotly-graph-div\" style=\"height:525px; width:100%;\"></div>            <script type=\"text/javascript\">                require([\"plotly\"], function(Plotly) {                    window.PLOTLYENV=window.PLOTLYENV || {};                                    if (document.getElementById(\"037a23af-aca2-42e4-b976-1577c97eac9b\")) {                    Plotly.newPlot(                        \"037a23af-aca2-42e4-b976-1577c97eac9b\",                        [{\"hovertemplate\":\"\\u003cb\\u003e%{hovertext}\\u003c\\u002fb\\u003e\\u003cbr\\u003e\\u003cbr\\u003ecluster=0\\u003cbr\\u003egdp=%{x}\\u003cbr\\u003eexposure=%{y}\\u003cextra\\u003e\\u003c\\u002fextra\\u003e\",\"hovertext\":[\"ABW\",\"AGO\",\"AIA\",\"AND\",\"ATG\",\"AUS\",\"AUT\",\"BDI\",\"BEL\",\"BGR\",\"BHR\",\"BHS\",\"BIH\",\"BLR\",\"BLZ\",\"BRB\",\"BRN\",\"BTN\",\"CAN\",\"CHE\",\"CHL\",\"COK\",\"COL\",\"COM\",\"CPV\",\"CRI\",\"CYM\",\"CYP\",\"CZE\",\"DEU\",\"DMA\",\"DNK\",\"DOM\",\"ECU\",\"EST\",\"ETH\",\"FIN\",\"FJI\",\"FRA\",\"GAB\",\"GBR\",\"GMB\",\"GNQ\",\"GRD\",\"GRL\",\"GTM\",\"GUY\",\"HRV\",\"HTI\",\"IDN\",\"IRL\",\"ISL\",\"ITA\",\"JAM\",\"JPN\",\"KEN\",\"KIR\",\"KNA\",\"LCA\",\"LSO\",\"LTU\",\"LVA\",\"MDV\",\"MHL\",\"MLT\",\"MNE\",\"MNG\",\"MSR\",\"MUS\",\"NCL\",\"NLD\",\"NOR\",\"NRU\",\"NZL\",\"PAN\",\"PER\",\"PLW\",\"PNG\",\"POL\",\"PRI\",\"PRT\",\"PYF\",\"QAT\",\"RUS\",\"RWA\",\"SGP\",\"SLB\",\"SMR\",\"STP\",\"SVK\",\"SVN\",\"SWE\",\"SYC\",\"TCA\",\"TLS\",\"TON\",\"TTO\",\"TUV\",\"TZA\",\"URY\",\"USA\",\"VCT\",\"VUT\",\"WSM\"],\"legendgroup\":\"0\",\"marker\":{\"color\":\"#636efa\",\"symbol\":\"circle\"},\"mode\":\"markers\",\"name\":\"0\",\"orientation\":\"v\",\"showlegend\":true,\"x\":[29005.998007523158,2707.468532820648,20050.56245641974,40827.776056897164,16398.279227880317,58522.61423279487,50333.16819726418,294.8912017338922,46952.260191844354,9921.838917118162,25139.936455909577,29331.95072533072,6071.794247696113,6395.679496885404,5973.552343451126,17788.0631699156,29760.78585294706,3163.123135209964,46714.12675709158,87134.35579529656,14973.839909138322,19530.07155213206,6216.353925202087,1523.507136756466,3245.452139341788,12355.189174642921,84986.45917926592,29361.18934499076,23706.05027753764,47425.7934124764,7679.6725985534695,61712.805478142676,7855.733314178486,6082.26879600352,23721.460823727502,778.4608715640504,49581.26075034982,5475.506695461276,41135.34601748364,7357.297512440446,42719.81383087474,702.8815883844368,7673.162493648379,9231.85512921561,54449.209950763805,4507.817551750411,7130.964595594409,14903.389996461341,1443.681737604698,4024.1311592125558,83809.59087357039,68697.8083724449,33752.49996808318,5314.931521636094,39890.266269594504,1902.012209526038,1550.02444380816,20915.37382842098,10717.758194432105,1059.5073817873376,19669.98842810344,18161.532713781682,9930.761556022266,5287.628195769764,30713.319435305842,8408.818782327542,4163.850135159564,14578.17617916372,10151.431084968313,33642.48412519454,52762.68971450906,78006.68159842472,11398.61896398138,44226.50775637016,14757.436743956141,6644.443859152362,14725.238515187439,2560.72393679292,15543.980575166821,31455.176696250237,23047.568673096677,19841.4658899297,61522.72065975596,11261.06183460452,785.9787676941771,62724.538498760805,2332.252490036966,47297.44132696136,2091.376510417898,19479.84834700094,25818.489359516818,54786.14194112964,13897.393195028202,24415.43182962522,1426.9107670057879,4570.634441099072,15570.8809895819,4718.709761349592,1052.7249666175853,17677.44571040078,63341.8553380489,8375.980543786249,3037.736497754866,4118.571542030631],\"xaxis\":\"x\",\"y\":[0.0,28.353210058000002,0.0,0.0,0.0,72.666998852,17.2039516,0.0,28.070313999999996,33.7174394,4.2276122,0.0,30.952399800000002,5.85065696,32.601503246200004,0.0,43.83178568,0.0,5.78196274,1.283968,0.8484792000000001,0.0,29.6106896,0.0,0.0,6.265794059999999,0.0,47.8944196,8.5710128,25.3376384,0.0,0.0,13.083224079999999,1.43589624,0.0,19.08802742,0.0,0.0,45.2589264328,10.198616586,0.0,27.763531,0.0,0.0,0.0,22.289202806,9.665503952,38.2365752,14.8265728,25.12056628,0.0,0.0,52.969592160000005,25.775797999999998,52.828590600000005,19.56026512,0.0,0.0,0.0,0.0,0.0,0.0,0.0,0.0,0.0,15.530342,9.351514316,0.0,0.0,0.0,19.303058,0.0,0.0,0.0,9.0607422,9.693490374,0.0,5.535945718,11.1519072,0.0,27.001206237999998,0.0,73.459848,25.667027228999995,0.0,0.0,0.0,0.0,0.0,22.397546,21.693120999999998,0.0,0.0,0.0,0.877093,0.0,0.0,0.0,20.6671432336,31.483405127999998,58.4594498,0.0,0.0,0.0],\"yaxis\":\"y\",\"type\":\"scatter\"},{\"hovertemplate\":\"\\u003cb\\u003e%{hovertext}\\u003c\\u002fb\\u003e\\u003cbr\\u003e\\u003cbr\\u003ecluster=1\\u003cbr\\u003egdp=%{x}\\u003cbr\\u003eexposure=%{y}\\u003cextra\\u003e\\u003c\\u002fextra\\u003e\",\"hovertext\":[\"AFG\",\"ALB\",\"ARE\",\"ARG\",\"ARM\",\"AZE\",\"BEN\",\"BFA\",\"BGD\",\"BOL\",\"BRA\",\"BWA\",\"CAF\",\"CHN\",\"CIV\",\"CMR\",\"COD\",\"COG\",\"CUB\",\"DJI\",\"DZA\",\"EGY\",\"ERI\",\"ESP\",\"GEO\",\"GHA\",\"GIN\",\"GNB\",\"GRC\",\"HND\",\"HUN\",\"IND\",\"IRN\",\"IRQ\",\"ISR\",\"JOR\",\"KAZ\",\"KGZ\",\"KHM\",\"KOR\",\"KWT\",\"LAO\",\"LBN\",\"LBR\",\"LBY\",\"LKA\",\"MAR\",\"MDA\",\"MDG\",\"MEX\",\"MKD\",\"MLI\",\"MMR\",\"MOZ\",\"MRT\",\"MWI\",\"MYS\",\"NAM\",\"NER\",\"NGA\",\"NIC\",\"NPL\",\"OMN\",\"PAK\",\"PHL\",\"PRK\",\"PRY\",\"ROU\",\"SAU\",\"SDN\",\"SEN\",\"SLE\",\"SLV\",\"SOM\",\"SRB\",\"SSD\",\"SUR\",\"SYR\",\"TCD\",\"TGO\",\"THA\",\"TJK\",\"TKM\",\"TUN\",\"TUR\",\"UGA\",\"UKR\",\"UZB\",\"VEN\",\"VNM\",\"YEM\",\"ZAF\",\"ZMB\",\"ZWE\"],\"legendgroup\":\"1\",\"marker\":{\"color\":\"#EF553B\",\"symbol\":\"circle\"},\"mode\":\"markers\",\"name\":\"1\",\"orientation\":\"v\",\"showlegend\":true,\"x\":[484.42893666327234,5364.758399650494,43153.2827824669,11150.9835169018,4546.961531153272,4570.680222963909,1212.464567180638,797.7751616915256,2102.072687229424,3327.4817431010024,8440.663358763391,6600.154896826219,434.72860336298817,10264.510047631302,2283.494729704572,1564.1862529334762,510.67567899329094,2191.409637049734,9453.910639749658,2972.317114974634,3876.6383847455136,2936.877231733562,583.6196050435218,29035.40870759808,4557.8932844307565,2186.315210552134,1018.0990919021885,720.8116224336061,19317.47389268614,2501.240810565802,16534.798112428758,2041.111515569286,6220.476157934678,4977.061859661804,46753.354811582096,4074.883259818488,9507.523483301373,1308.059525920122,1551.246673173442,32686.35253489872,29676.90501880736,2554.3876627432,8116.627926733728,522.7631192469478,9148.164845079209,3932.671607957658,3518.5556631440936,3769.983907369344,498.1224967508468,9627.442398214887,5931.142583125086,837.9347391888725,1331.51642584809,484.2601354113746,1851.81444662067,568.5980243506659,10688.12987576193,5068.810676266184,557.6579240638505,2096.91978799356,1981.6098252840443,1134.293620098246,18607.879542161238,1420.49776906463,3274.182027387742,660.1459996090359,5915.069953945244,12712.21908516434,21722.51038477972,1304.3531014396817,1491.902263684398,502.2640858648894,4173.355952425534,405.2745953099202,7116.542368929207,382.0893566806214,6265.029810389686,1079.481399267895,933.7959681606217,869.6178831804503,7051.319913698739,866.6874571703696,7409.932390853437,3585.930072696964,9438.029717970152,855.0319003618955,3419.7419428229077,1840.006156523858,5568.129300773949,3418.6448178224236,496.66122339929746,6650.837947197817,1258.0421614723073,1485.431274304962],\"xaxis\":\"x\",\"y\":[61.24204160000001,49.1013706,84.42367200000001,77.841463,57.5654224,69.6043928,66.2205378,98.455848,90.619338274,34.494594468,61.28804100000001,94.147515198,94.6891174,77.687884746,70.13436540000001,52.208738575999995,51.256796088399994,31.6199088,40.074104240000004,52.972569724,86.0995716,97.3630998,82.76431958,61.064793626000004,67.042056313,66.2042802,86.1272286,66.7457832,73.71074796,64.98469526,54.84015000000001,95.3788676,90.23042339999999,99.51219556,77.744126162,94.83877606,65.8281506,55.659899599999996,92.06605698,60.091463999999995,93.501444,77.72293331,46.808294000000004,34.76225422,91.59421466,44.31009718,83.7795666,37.3947106,36.134731020000004,37.341662,58.97234039999999,98.30077800000001,89.60683320000001,81.8744378,62.797500372,54.934071859999996,47.222554439999996,87.4303762,98.89407800000001,89.9117052,60.73401572,55.3379318,78.590104898,96.73588354,35.39781584,31.857415200000002,88.54330501,42.30030646,95.32556667399999,97.9312130842,73.66860872,68.05483274000001,92.15480892000001,55.8900626,63.593934000000004,98.917546452,82.95901974,93.0623296,99.375580085,60.80112025999999,90.7397864,68.8425402,95.61470578800001,76.9105828,44.351637499999995,32.15959434,36.204484,90.6345474,60.3657458,82.3932516722,60.3362438,37.723094856,80.733249538,80.787080966],\"yaxis\":\"y\",\"type\":\"scatter\"}],                        {\"template\":{\"data\":{\"histogram2dcontour\":[{\"type\":\"histogram2dcontour\",\"colorbar\":{\"outlinewidth\":0,\"ticks\":\"\"},\"colorscale\":[[0.0,\"#0d0887\"],[0.1111111111111111,\"#46039f\"],[0.2222222222222222,\"#7201a8\"],[0.3333333333333333,\"#9c179e\"],[0.4444444444444444,\"#bd3786\"],[0.5555555555555556,\"#d8576b\"],[0.6666666666666666,\"#ed7953\"],[0.7777777777777778,\"#fb9f3a\"],[0.8888888888888888,\"#fdca26\"],[1.0,\"#f0f921\"]]}],\"choropleth\":[{\"type\":\"choropleth\",\"colorbar\":{\"outlinewidth\":0,\"ticks\":\"\"}}],\"histogram2d\":[{\"type\":\"histogram2d\",\"colorbar\":{\"outlinewidth\":0,\"ticks\":\"\"},\"colorscale\":[[0.0,\"#0d0887\"],[0.1111111111111111,\"#46039f\"],[0.2222222222222222,\"#7201a8\"],[0.3333333333333333,\"#9c179e\"],[0.4444444444444444,\"#bd3786\"],[0.5555555555555556,\"#d8576b\"],[0.6666666666666666,\"#ed7953\"],[0.7777777777777778,\"#fb9f3a\"],[0.8888888888888888,\"#fdca26\"],[1.0,\"#f0f921\"]]}],\"heatmap\":[{\"type\":\"heatmap\",\"colorbar\":{\"outlinewidth\":0,\"ticks\":\"\"},\"colorscale\":[[0.0,\"#0d0887\"],[0.1111111111111111,\"#46039f\"],[0.2222222222222222,\"#7201a8\"],[0.3333333333333333,\"#9c179e\"],[0.4444444444444444,\"#bd3786\"],[0.5555555555555556,\"#d8576b\"],[0.6666666666666666,\"#ed7953\"],[0.7777777777777778,\"#fb9f3a\"],[0.8888888888888888,\"#fdca26\"],[1.0,\"#f0f921\"]]}],\"heatmapgl\":[{\"type\":\"heatmapgl\",\"colorbar\":{\"outlinewidth\":0,\"ticks\":\"\"},\"colorscale\":[[0.0,\"#0d0887\"],[0.1111111111111111,\"#46039f\"],[0.2222222222222222,\"#7201a8\"],[0.3333333333333333,\"#9c179e\"],[0.4444444444444444,\"#bd3786\"],[0.5555555555555556,\"#d8576b\"],[0.6666666666666666,\"#ed7953\"],[0.7777777777777778,\"#fb9f3a\"],[0.8888888888888888,\"#fdca26\"],[1.0,\"#f0f921\"]]}],\"contourcarpet\":[{\"type\":\"contourcarpet\",\"colorbar\":{\"outlinewidth\":0,\"ticks\":\"\"}}],\"contour\":[{\"type\":\"contour\",\"colorbar\":{\"outlinewidth\":0,\"ticks\":\"\"},\"colorscale\":[[0.0,\"#0d0887\"],[0.1111111111111111,\"#46039f\"],[0.2222222222222222,\"#7201a8\"],[0.3333333333333333,\"#9c179e\"],[0.4444444444444444,\"#bd3786\"],[0.5555555555555556,\"#d8576b\"],[0.6666666666666666,\"#ed7953\"],[0.7777777777777778,\"#fb9f3a\"],[0.8888888888888888,\"#fdca26\"],[1.0,\"#f0f921\"]]}],\"surface\":[{\"type\":\"surface\",\"colorbar\":{\"outlinewidth\":0,\"ticks\":\"\"},\"colorscale\":[[0.0,\"#0d0887\"],[0.1111111111111111,\"#46039f\"],[0.2222222222222222,\"#7201a8\"],[0.3333333333333333,\"#9c179e\"],[0.4444444444444444,\"#bd3786\"],[0.5555555555555556,\"#d8576b\"],[0.6666666666666666,\"#ed7953\"],[0.7777777777777778,\"#fb9f3a\"],[0.8888888888888888,\"#fdca26\"],[1.0,\"#f0f921\"]]}],\"mesh3d\":[{\"type\":\"mesh3d\",\"colorbar\":{\"outlinewidth\":0,\"ticks\":\"\"}}],\"scatter\":[{\"fillpattern\":{\"fillmode\":\"overlay\",\"size\":10,\"solidity\":0.2},\"type\":\"scatter\"}],\"parcoords\":[{\"type\":\"parcoords\",\"line\":{\"colorbar\":{\"outlinewidth\":0,\"ticks\":\"\"}}}],\"scatterpolargl\":[{\"type\":\"scatterpolargl\",\"marker\":{\"colorbar\":{\"outlinewidth\":0,\"ticks\":\"\"}}}],\"bar\":[{\"error_x\":{\"color\":\"#2a3f5f\"},\"error_y\":{\"color\":\"#2a3f5f\"},\"marker\":{\"line\":{\"color\":\"#E5ECF6\",\"width\":0.5},\"pattern\":{\"fillmode\":\"overlay\",\"size\":10,\"solidity\":0.2}},\"type\":\"bar\"}],\"scattergeo\":[{\"type\":\"scattergeo\",\"marker\":{\"colorbar\":{\"outlinewidth\":0,\"ticks\":\"\"}}}],\"scatterpolar\":[{\"type\":\"scatterpolar\",\"marker\":{\"colorbar\":{\"outlinewidth\":0,\"ticks\":\"\"}}}],\"histogram\":[{\"marker\":{\"pattern\":{\"fillmode\":\"overlay\",\"size\":10,\"solidity\":0.2}},\"type\":\"histogram\"}],\"scattergl\":[{\"type\":\"scattergl\",\"marker\":{\"colorbar\":{\"outlinewidth\":0,\"ticks\":\"\"}}}],\"scatter3d\":[{\"type\":\"scatter3d\",\"line\":{\"colorbar\":{\"outlinewidth\":0,\"ticks\":\"\"}},\"marker\":{\"colorbar\":{\"outlinewidth\":0,\"ticks\":\"\"}}}],\"scattermapbox\":[{\"type\":\"scattermapbox\",\"marker\":{\"colorbar\":{\"outlinewidth\":0,\"ticks\":\"\"}}}],\"scatterternary\":[{\"type\":\"scatterternary\",\"marker\":{\"colorbar\":{\"outlinewidth\":0,\"ticks\":\"\"}}}],\"scattercarpet\":[{\"type\":\"scattercarpet\",\"marker\":{\"colorbar\":{\"outlinewidth\":0,\"ticks\":\"\"}}}],\"carpet\":[{\"aaxis\":{\"endlinecolor\":\"#2a3f5f\",\"gridcolor\":\"white\",\"linecolor\":\"white\",\"minorgridcolor\":\"white\",\"startlinecolor\":\"#2a3f5f\"},\"baxis\":{\"endlinecolor\":\"#2a3f5f\",\"gridcolor\":\"white\",\"linecolor\":\"white\",\"minorgridcolor\":\"white\",\"startlinecolor\":\"#2a3f5f\"},\"type\":\"carpet\"}],\"table\":[{\"cells\":{\"fill\":{\"color\":\"#EBF0F8\"},\"line\":{\"color\":\"white\"}},\"header\":{\"fill\":{\"color\":\"#C8D4E3\"},\"line\":{\"color\":\"white\"}},\"type\":\"table\"}],\"barpolar\":[{\"marker\":{\"line\":{\"color\":\"#E5ECF6\",\"width\":0.5},\"pattern\":{\"fillmode\":\"overlay\",\"size\":10,\"solidity\":0.2}},\"type\":\"barpolar\"}],\"pie\":[{\"automargin\":true,\"type\":\"pie\"}]},\"layout\":{\"autotypenumbers\":\"strict\",\"colorway\":[\"#636efa\",\"#EF553B\",\"#00cc96\",\"#ab63fa\",\"#FFA15A\",\"#19d3f3\",\"#FF6692\",\"#B6E880\",\"#FF97FF\",\"#FECB52\"],\"font\":{\"color\":\"#2a3f5f\"},\"hovermode\":\"closest\",\"hoverlabel\":{\"align\":\"left\"},\"paper_bgcolor\":\"white\",\"plot_bgcolor\":\"#E5ECF6\",\"polar\":{\"bgcolor\":\"#E5ECF6\",\"angularaxis\":{\"gridcolor\":\"white\",\"linecolor\":\"white\",\"ticks\":\"\"},\"radialaxis\":{\"gridcolor\":\"white\",\"linecolor\":\"white\",\"ticks\":\"\"}},\"ternary\":{\"bgcolor\":\"#E5ECF6\",\"aaxis\":{\"gridcolor\":\"white\",\"linecolor\":\"white\",\"ticks\":\"\"},\"baxis\":{\"gridcolor\":\"white\",\"linecolor\":\"white\",\"ticks\":\"\"},\"caxis\":{\"gridcolor\":\"white\",\"linecolor\":\"white\",\"ticks\":\"\"}},\"coloraxis\":{\"colorbar\":{\"outlinewidth\":0,\"ticks\":\"\"}},\"colorscale\":{\"sequential\":[[0.0,\"#0d0887\"],[0.1111111111111111,\"#46039f\"],[0.2222222222222222,\"#7201a8\"],[0.3333333333333333,\"#9c179e\"],[0.4444444444444444,\"#bd3786\"],[0.5555555555555556,\"#d8576b\"],[0.6666666666666666,\"#ed7953\"],[0.7777777777777778,\"#fb9f3a\"],[0.8888888888888888,\"#fdca26\"],[1.0,\"#f0f921\"]],\"sequentialminus\":[[0.0,\"#0d0887\"],[0.1111111111111111,\"#46039f\"],[0.2222222222222222,\"#7201a8\"],[0.3333333333333333,\"#9c179e\"],[0.4444444444444444,\"#bd3786\"],[0.5555555555555556,\"#d8576b\"],[0.6666666666666666,\"#ed7953\"],[0.7777777777777778,\"#fb9f3a\"],[0.8888888888888888,\"#fdca26\"],[1.0,\"#f0f921\"]],\"diverging\":[[0,\"#8e0152\"],[0.1,\"#c51b7d\"],[0.2,\"#de77ae\"],[0.3,\"#f1b6da\"],[0.4,\"#fde0ef\"],[0.5,\"#f7f7f7\"],[0.6,\"#e6f5d0\"],[0.7,\"#b8e186\"],[0.8,\"#7fbc41\"],[0.9,\"#4d9221\"],[1,\"#276419\"]]},\"xaxis\":{\"gridcolor\":\"white\",\"linecolor\":\"white\",\"ticks\":\"\",\"title\":{\"standoff\":15},\"zerolinecolor\":\"white\",\"automargin\":true,\"zerolinewidth\":2},\"yaxis\":{\"gridcolor\":\"white\",\"linecolor\":\"white\",\"ticks\":\"\",\"title\":{\"standoff\":15},\"zerolinecolor\":\"white\",\"automargin\":true,\"zerolinewidth\":2},\"scene\":{\"xaxis\":{\"backgroundcolor\":\"#E5ECF6\",\"gridcolor\":\"white\",\"linecolor\":\"white\",\"showbackground\":true,\"ticks\":\"\",\"zerolinecolor\":\"white\",\"gridwidth\":2},\"yaxis\":{\"backgroundcolor\":\"#E5ECF6\",\"gridcolor\":\"white\",\"linecolor\":\"white\",\"showbackground\":true,\"ticks\":\"\",\"zerolinecolor\":\"white\",\"gridwidth\":2},\"zaxis\":{\"backgroundcolor\":\"#E5ECF6\",\"gridcolor\":\"white\",\"linecolor\":\"white\",\"showbackground\":true,\"ticks\":\"\",\"zerolinecolor\":\"white\",\"gridwidth\":2}},\"shapedefaults\":{\"line\":{\"color\":\"#2a3f5f\"}},\"annotationdefaults\":{\"arrowcolor\":\"#2a3f5f\",\"arrowhead\":0,\"arrowwidth\":1},\"geo\":{\"bgcolor\":\"white\",\"landcolor\":\"#E5ECF6\",\"subunitcolor\":\"white\",\"showland\":true,\"showlakes\":true,\"lakecolor\":\"white\"},\"title\":{\"x\":0.05},\"mapbox\":{\"style\":\"light\"}}},\"xaxis\":{\"anchor\":\"y\",\"domain\":[0.0,1.0],\"title\":{\"text\":\"gdp\"}},\"yaxis\":{\"anchor\":\"x\",\"domain\":[0.0,1.0],\"title\":{\"text\":\"exposure\"}},\"legend\":{\"title\":{\"text\":\"cluster\"},\"tracegroupgap\":0},\"margin\":{\"t\":60}},                        {\"responsive\": true}                    ).then(function(){\n",
       "                            \n",
       "var gd = document.getElementById('037a23af-aca2-42e4-b976-1577c97eac9b');\n",
       "var x = new MutationObserver(function (mutations, observer) {{\n",
       "        var display = window.getComputedStyle(gd).display;\n",
       "        if (!display || display === 'none') {{\n",
       "            console.log([gd, 'removed!']);\n",
       "            Plotly.purge(gd);\n",
       "            observer.disconnect();\n",
       "        }}\n",
       "}});\n",
       "\n",
       "// Listen for the removal of the full notebook cells\n",
       "var notebookContainer = gd.closest('#notebook-container');\n",
       "if (notebookContainer) {{\n",
       "    x.observe(notebookContainer, {childList: true});\n",
       "}}\n",
       "\n",
       "// Listen for the clearing of the current output cell\n",
       "var outputEl = gd.closest('.output');\n",
       "if (outputEl) {{\n",
       "    x.observe(outputEl, {childList: true});\n",
       "}}\n",
       "\n",
       "                        })                };                });            </script>        </div>"
      ]
     },
     "metadata": {},
     "output_type": "display_data"
    }
   ],
   "source": [
    "# fig = px.scatter(df_clustered,\n",
    "#                     x='gdp', y='exposure',\n",
    "#                     hover_name='ref_area',\n",
    "#                     color='cluster')\n",
    "\n",
    "# fig.show()"
   ]
  },
  {
   "cell_type": "markdown",
   "id": "c9184aef",
   "metadata": {},
   "source": [
    "Optional: save the data frame into a file."
   ]
  },
  {
   "cell_type": "code",
   "execution_count": 51,
   "id": "901b83b6",
   "metadata": {},
   "outputs": [],
   "source": [
    "# df_clustered.to_csv('../data/clusters.csv', index=False)"
   ]
  },
  {
   "cell_type": "markdown",
   "id": "bdbf186f",
   "metadata": {},
   "source": [
    "**For 2 clusters: A/B test**"
   ]
  },
  {
   "cell_type": "markdown",
   "id": "86dfbf19",
   "metadata": {},
   "source": [
    "Making separate data frames for each custer to compare."
   ]
  },
  {
   "cell_type": "code",
   "execution_count": 372,
   "id": "4c72d222",
   "metadata": {},
   "outputs": [],
   "source": [
    "df_cluster_0 = df_clustered[df_clustered['cluster']=='0']\n",
    "df_cluster_1 = df_clustered[df_clustered['cluster']=='1']"
   ]
  },
  {
   "cell_type": "markdown",
   "id": "d653ea7c",
   "metadata": {},
   "source": [
    "Two-tailed A/B test, p-value."
   ]
  },
  {
   "cell_type": "code",
   "execution_count": 373,
   "id": "a97687ba",
   "metadata": {},
   "outputs": [
    {
     "name": "stdout",
     "output_type": "stream",
     "text": [
      "GDP: 6.777996691641461 1.3951837575694137e-10\n",
      "Exposure: -22.032231304094285 6.230338521045072e-55\n"
     ]
    }
   ],
   "source": [
    "test_statistic, pvalue = stats.ttest_ind(df_cluster_0['gdp'], df_cluster_1['gdp'])\n",
    "print ('GDP:', test_statistic, pvalue)\n",
    "\n",
    "test_statistic, pvalue = stats.ttest_ind(df_cluster_0['exposure'], df_cluster_1['exposure'])\n",
    "print ('Exposure:', test_statistic, pvalue)"
   ]
  },
  {
   "cell_type": "markdown",
   "id": "5b370af3",
   "metadata": {},
   "source": [
    "### Temperature vs exposure worldwide"
   ]
  },
  {
   "cell_type": "markdown",
   "id": "4489c535",
   "metadata": {},
   "source": [
    "We will merge the data on worldwide population exposure and temperature anomalies to check for correlation and to visualize any trends.\n",
    "\n",
    "Read the cleaned data frames from files or use df_temp_anomaly from above."
   ]
  },
  {
   "cell_type": "code",
   "execution_count": null,
   "id": "bb5926ea",
   "metadata": {},
   "outputs": [],
   "source": [
    "# df_temp_anomaly = pd.read_csv('../data/temp_anomaly_clean.csv')"
   ]
  },
  {
   "cell_type": "markdown",
   "id": "3a2938ce",
   "metadata": {},
   "source": [
    "Merge temperature anomaly and worldwide population exposure data frames."
   ]
  },
  {
   "cell_type": "code",
   "execution_count": 400,
   "id": "d8e0ddb3",
   "metadata": {},
   "outputs": [],
   "source": [
    "df_temp_anomaly_world_exp = pd.merge(df_temp_anomaly, df_world_exp)"
   ]
  },
  {
   "cell_type": "code",
   "execution_count": 401,
   "id": "cc4ab68b",
   "metadata": {},
   "outputs": [
    {
     "data": {
      "text/html": [
       "<div>\n",
       "<style scoped>\n",
       "    .dataframe tbody tr th:only-of-type {\n",
       "        vertical-align: middle;\n",
       "    }\n",
       "\n",
       "    .dataframe tbody tr th {\n",
       "        vertical-align: top;\n",
       "    }\n",
       "\n",
       "    .dataframe thead th {\n",
       "        text-align: right;\n",
       "    }\n",
       "</style>\n",
       "<table border=\"1\" class=\"dataframe\">\n",
       "  <thead>\n",
       "    <tr style=\"text-align: right;\">\n",
       "      <th></th>\n",
       "      <th>year</th>\n",
       "      <th>avg_anomaly</th>\n",
       "      <th>exposure</th>\n",
       "    </tr>\n",
       "  </thead>\n",
       "  <tbody>\n",
       "    <tr>\n",
       "      <th>year</th>\n",
       "      <td>1.000000</td>\n",
       "      <td>0.929837</td>\n",
       "      <td>0.901871</td>\n",
       "    </tr>\n",
       "    <tr>\n",
       "      <th>avg_anomaly</th>\n",
       "      <td>0.929837</td>\n",
       "      <td>1.000000</td>\n",
       "      <td>0.915814</td>\n",
       "    </tr>\n",
       "    <tr>\n",
       "      <th>exposure</th>\n",
       "      <td>0.901871</td>\n",
       "      <td>0.915814</td>\n",
       "      <td>1.000000</td>\n",
       "    </tr>\n",
       "  </tbody>\n",
       "</table>\n",
       "</div>"
      ],
      "text/plain": [
       "                 year  avg_anomaly  exposure\n",
       "year         1.000000     0.929837  0.901871\n",
       "avg_anomaly  0.929837     1.000000  0.915814\n",
       "exposure     0.901871     0.915814  1.000000"
      ]
     },
     "execution_count": 401,
     "metadata": {},
     "output_type": "execute_result"
    }
   ],
   "source": [
    "df_temp_anomaly_world_exp.corr()"
   ]
  },
  {
   "cell_type": "code",
   "execution_count": 399,
   "id": "ef65f91f",
   "metadata": {},
   "outputs": [
    {
     "data": {
      "application/vnd.plotly.v1+json": {
       "config": {
        "plotlyServerURL": "https://plot.ly"
       },
       "data": [
        {
         "hovertemplate": "avg_anomaly=%{x}<br>exposure=%{y}<br>year=%{marker.color}<extra></extra>",
         "legendgroup": "",
         "marker": {
          "color": [
           1979,
           1980,
           1981,
           1982,
           1983,
           1984,
           1985,
           1986,
           1987,
           1988,
           1989,
           1990,
           1991,
           1992,
           1993,
           1994,
           1995,
           1996,
           1997,
           1998,
           1999,
           2000,
           2001,
           2002,
           2003,
           2004,
           2005,
           2006,
           2007,
           2008,
           2009,
           2010,
           2011,
           2012,
           2013,
           2014,
           2015,
           2016,
           2017,
           2018,
           2019,
           2020,
           2021
          ],
          "coloraxis": "coloraxis",
          "size": 15,
          "symbol": "circle"
         },
         "mode": "markers",
         "name": "",
         "orientation": "v",
         "showlegend": false,
         "type": "scatter",
         "x": [
          0.165,
          0.25583333333333336,
          0.32166666666666666,
          0.13833333333333334,
          0.31166666666666665,
          0.15666666666666668,
          0.1166666666666667,
          0.18,
          0.32083333333333336,
          0.38916666666666677,
          0.2725,
          0.44750000000000006,
          0.405,
          0.22083333333333338,
          0.23166666666666663,
          0.3149999999999999,
          0.44666666666666666,
          0.3308333333333333,
          0.46333333333333326,
          0.6066666666666667,
          0.3816666666666667,
          0.3941666666666667,
          0.535,
          0.6266666666666668,
          0.6174999999999999,
          0.5324999999999999,
          0.6766666666666666,
          0.6375000000000001,
          0.6641666666666666,
          0.5408333333333333,
          0.6541666666666667,
          0.7208333333333332,
          0.6091666666666667,
          0.6458333333333334,
          0.6766666666666664,
          0.7441666666666666,
          0.8958333333333334,
          1.0133333333333334,
          0.9191666666666668,
          0.8466666666666668,
          0.9766666666666667,
          1.0141666666666667,
          0.8433333333333333
         ],
         "xaxis": "x",
         "y": [
          41.72203932339312,
          46.21611662678982,
          44.233136225704094,
          43.002460681890454,
          49.55038957191932,
          43.40218751054702,
          43.65877680812301,
          43.50313073864129,
          47.44900167331801,
          52.720655011938405,
          44.09539268775943,
          51.17140772516341,
          48.87258557220329,
          48.17010741955255,
          44.10961838231201,
          54.88089814254348,
          52.7939908936493,
          47.95830949911702,
          50.486203630752975,
          51.96599392683695,
          51.41606160675902,
          52.33465438328818,
          53.86076352784068,
          55.39774708076394,
          53.632823845389254,
          52.26586187208663,
          55.976184260349115,
          57.523758000123806,
          58.45877995931631,
          51.67887477751983,
          52.82307426307264,
          59.58615755416797,
          55.794732638350055,
          60.271942922247575,
          57.22290288408926,
          55.49355837804727,
          62.137209753586575,
          57.3669509861009,
          59.728384298322005,
          61.569751997705154,
          65.23908379283878,
          60.437661335393464,
          60.01108271389917
         ],
         "yaxis": "y"
        }
       ],
       "layout": {
        "coloraxis": {
         "colorbar": {
          "title": {
           "text": "Year"
          }
         },
         "colorscale": [
          [
           0,
           "#0000FF"
          ],
          [
           1,
           "#ff9c00"
          ]
         ]
        },
        "font": {
         "family": "Arial",
         "size": 24
        },
        "legend": {
         "tracegroupgap": 0
        },
        "margin": {
         "t": 60
        },
        "paper_bgcolor": "#FFFAE5",
        "plot_bgcolor": "#FFFAE5",
        "showlegend": false,
        "template": {
         "data": {
          "bar": [
           {
            "error_x": {
             "color": "#2a3f5f"
            },
            "error_y": {
             "color": "#2a3f5f"
            },
            "marker": {
             "line": {
              "color": "#E5ECF6",
              "width": 0.5
             },
             "pattern": {
              "fillmode": "overlay",
              "size": 10,
              "solidity": 0.2
             }
            },
            "type": "bar"
           }
          ],
          "barpolar": [
           {
            "marker": {
             "line": {
              "color": "#E5ECF6",
              "width": 0.5
             },
             "pattern": {
              "fillmode": "overlay",
              "size": 10,
              "solidity": 0.2
             }
            },
            "type": "barpolar"
           }
          ],
          "carpet": [
           {
            "aaxis": {
             "endlinecolor": "#2a3f5f",
             "gridcolor": "white",
             "linecolor": "white",
             "minorgridcolor": "white",
             "startlinecolor": "#2a3f5f"
            },
            "baxis": {
             "endlinecolor": "#2a3f5f",
             "gridcolor": "white",
             "linecolor": "white",
             "minorgridcolor": "white",
             "startlinecolor": "#2a3f5f"
            },
            "type": "carpet"
           }
          ],
          "choropleth": [
           {
            "colorbar": {
             "outlinewidth": 0,
             "ticks": ""
            },
            "type": "choropleth"
           }
          ],
          "contour": [
           {
            "colorbar": {
             "outlinewidth": 0,
             "ticks": ""
            },
            "colorscale": [
             [
              0,
              "#0d0887"
             ],
             [
              0.1111111111111111,
              "#46039f"
             ],
             [
              0.2222222222222222,
              "#7201a8"
             ],
             [
              0.3333333333333333,
              "#9c179e"
             ],
             [
              0.4444444444444444,
              "#bd3786"
             ],
             [
              0.5555555555555556,
              "#d8576b"
             ],
             [
              0.6666666666666666,
              "#ed7953"
             ],
             [
              0.7777777777777778,
              "#fb9f3a"
             ],
             [
              0.8888888888888888,
              "#fdca26"
             ],
             [
              1,
              "#f0f921"
             ]
            ],
            "type": "contour"
           }
          ],
          "contourcarpet": [
           {
            "colorbar": {
             "outlinewidth": 0,
             "ticks": ""
            },
            "type": "contourcarpet"
           }
          ],
          "heatmap": [
           {
            "colorbar": {
             "outlinewidth": 0,
             "ticks": ""
            },
            "colorscale": [
             [
              0,
              "#0d0887"
             ],
             [
              0.1111111111111111,
              "#46039f"
             ],
             [
              0.2222222222222222,
              "#7201a8"
             ],
             [
              0.3333333333333333,
              "#9c179e"
             ],
             [
              0.4444444444444444,
              "#bd3786"
             ],
             [
              0.5555555555555556,
              "#d8576b"
             ],
             [
              0.6666666666666666,
              "#ed7953"
             ],
             [
              0.7777777777777778,
              "#fb9f3a"
             ],
             [
              0.8888888888888888,
              "#fdca26"
             ],
             [
              1,
              "#f0f921"
             ]
            ],
            "type": "heatmap"
           }
          ],
          "heatmapgl": [
           {
            "colorbar": {
             "outlinewidth": 0,
             "ticks": ""
            },
            "colorscale": [
             [
              0,
              "#0d0887"
             ],
             [
              0.1111111111111111,
              "#46039f"
             ],
             [
              0.2222222222222222,
              "#7201a8"
             ],
             [
              0.3333333333333333,
              "#9c179e"
             ],
             [
              0.4444444444444444,
              "#bd3786"
             ],
             [
              0.5555555555555556,
              "#d8576b"
             ],
             [
              0.6666666666666666,
              "#ed7953"
             ],
             [
              0.7777777777777778,
              "#fb9f3a"
             ],
             [
              0.8888888888888888,
              "#fdca26"
             ],
             [
              1,
              "#f0f921"
             ]
            ],
            "type": "heatmapgl"
           }
          ],
          "histogram": [
           {
            "marker": {
             "pattern": {
              "fillmode": "overlay",
              "size": 10,
              "solidity": 0.2
             }
            },
            "type": "histogram"
           }
          ],
          "histogram2d": [
           {
            "colorbar": {
             "outlinewidth": 0,
             "ticks": ""
            },
            "colorscale": [
             [
              0,
              "#0d0887"
             ],
             [
              0.1111111111111111,
              "#46039f"
             ],
             [
              0.2222222222222222,
              "#7201a8"
             ],
             [
              0.3333333333333333,
              "#9c179e"
             ],
             [
              0.4444444444444444,
              "#bd3786"
             ],
             [
              0.5555555555555556,
              "#d8576b"
             ],
             [
              0.6666666666666666,
              "#ed7953"
             ],
             [
              0.7777777777777778,
              "#fb9f3a"
             ],
             [
              0.8888888888888888,
              "#fdca26"
             ],
             [
              1,
              "#f0f921"
             ]
            ],
            "type": "histogram2d"
           }
          ],
          "histogram2dcontour": [
           {
            "colorbar": {
             "outlinewidth": 0,
             "ticks": ""
            },
            "colorscale": [
             [
              0,
              "#0d0887"
             ],
             [
              0.1111111111111111,
              "#46039f"
             ],
             [
              0.2222222222222222,
              "#7201a8"
             ],
             [
              0.3333333333333333,
              "#9c179e"
             ],
             [
              0.4444444444444444,
              "#bd3786"
             ],
             [
              0.5555555555555556,
              "#d8576b"
             ],
             [
              0.6666666666666666,
              "#ed7953"
             ],
             [
              0.7777777777777778,
              "#fb9f3a"
             ],
             [
              0.8888888888888888,
              "#fdca26"
             ],
             [
              1,
              "#f0f921"
             ]
            ],
            "type": "histogram2dcontour"
           }
          ],
          "mesh3d": [
           {
            "colorbar": {
             "outlinewidth": 0,
             "ticks": ""
            },
            "type": "mesh3d"
           }
          ],
          "parcoords": [
           {
            "line": {
             "colorbar": {
              "outlinewidth": 0,
              "ticks": ""
             }
            },
            "type": "parcoords"
           }
          ],
          "pie": [
           {
            "automargin": true,
            "type": "pie"
           }
          ],
          "scatter": [
           {
            "fillpattern": {
             "fillmode": "overlay",
             "size": 10,
             "solidity": 0.2
            },
            "type": "scatter"
           }
          ],
          "scatter3d": [
           {
            "line": {
             "colorbar": {
              "outlinewidth": 0,
              "ticks": ""
             }
            },
            "marker": {
             "colorbar": {
              "outlinewidth": 0,
              "ticks": ""
             }
            },
            "type": "scatter3d"
           }
          ],
          "scattercarpet": [
           {
            "marker": {
             "colorbar": {
              "outlinewidth": 0,
              "ticks": ""
             }
            },
            "type": "scattercarpet"
           }
          ],
          "scattergeo": [
           {
            "marker": {
             "colorbar": {
              "outlinewidth": 0,
              "ticks": ""
             }
            },
            "type": "scattergeo"
           }
          ],
          "scattergl": [
           {
            "marker": {
             "colorbar": {
              "outlinewidth": 0,
              "ticks": ""
             }
            },
            "type": "scattergl"
           }
          ],
          "scattermapbox": [
           {
            "marker": {
             "colorbar": {
              "outlinewidth": 0,
              "ticks": ""
             }
            },
            "type": "scattermapbox"
           }
          ],
          "scatterpolar": [
           {
            "marker": {
             "colorbar": {
              "outlinewidth": 0,
              "ticks": ""
             }
            },
            "type": "scatterpolar"
           }
          ],
          "scatterpolargl": [
           {
            "marker": {
             "colorbar": {
              "outlinewidth": 0,
              "ticks": ""
             }
            },
            "type": "scatterpolargl"
           }
          ],
          "scatterternary": [
           {
            "marker": {
             "colorbar": {
              "outlinewidth": 0,
              "ticks": ""
             }
            },
            "type": "scatterternary"
           }
          ],
          "surface": [
           {
            "colorbar": {
             "outlinewidth": 0,
             "ticks": ""
            },
            "colorscale": [
             [
              0,
              "#0d0887"
             ],
             [
              0.1111111111111111,
              "#46039f"
             ],
             [
              0.2222222222222222,
              "#7201a8"
             ],
             [
              0.3333333333333333,
              "#9c179e"
             ],
             [
              0.4444444444444444,
              "#bd3786"
             ],
             [
              0.5555555555555556,
              "#d8576b"
             ],
             [
              0.6666666666666666,
              "#ed7953"
             ],
             [
              0.7777777777777778,
              "#fb9f3a"
             ],
             [
              0.8888888888888888,
              "#fdca26"
             ],
             [
              1,
              "#f0f921"
             ]
            ],
            "type": "surface"
           }
          ],
          "table": [
           {
            "cells": {
             "fill": {
              "color": "#EBF0F8"
             },
             "line": {
              "color": "white"
             }
            },
            "header": {
             "fill": {
              "color": "#C8D4E3"
             },
             "line": {
              "color": "white"
             }
            },
            "type": "table"
           }
          ]
         },
         "layout": {
          "annotationdefaults": {
           "arrowcolor": "#2a3f5f",
           "arrowhead": 0,
           "arrowwidth": 1
          },
          "autotypenumbers": "strict",
          "coloraxis": {
           "colorbar": {
            "outlinewidth": 0,
            "ticks": ""
           }
          },
          "colorscale": {
           "diverging": [
            [
             0,
             "#8e0152"
            ],
            [
             0.1,
             "#c51b7d"
            ],
            [
             0.2,
             "#de77ae"
            ],
            [
             0.3,
             "#f1b6da"
            ],
            [
             0.4,
             "#fde0ef"
            ],
            [
             0.5,
             "#f7f7f7"
            ],
            [
             0.6,
             "#e6f5d0"
            ],
            [
             0.7,
             "#b8e186"
            ],
            [
             0.8,
             "#7fbc41"
            ],
            [
             0.9,
             "#4d9221"
            ],
            [
             1,
             "#276419"
            ]
           ],
           "sequential": [
            [
             0,
             "#0d0887"
            ],
            [
             0.1111111111111111,
             "#46039f"
            ],
            [
             0.2222222222222222,
             "#7201a8"
            ],
            [
             0.3333333333333333,
             "#9c179e"
            ],
            [
             0.4444444444444444,
             "#bd3786"
            ],
            [
             0.5555555555555556,
             "#d8576b"
            ],
            [
             0.6666666666666666,
             "#ed7953"
            ],
            [
             0.7777777777777778,
             "#fb9f3a"
            ],
            [
             0.8888888888888888,
             "#fdca26"
            ],
            [
             1,
             "#f0f921"
            ]
           ],
           "sequentialminus": [
            [
             0,
             "#0d0887"
            ],
            [
             0.1111111111111111,
             "#46039f"
            ],
            [
             0.2222222222222222,
             "#7201a8"
            ],
            [
             0.3333333333333333,
             "#9c179e"
            ],
            [
             0.4444444444444444,
             "#bd3786"
            ],
            [
             0.5555555555555556,
             "#d8576b"
            ],
            [
             0.6666666666666666,
             "#ed7953"
            ],
            [
             0.7777777777777778,
             "#fb9f3a"
            ],
            [
             0.8888888888888888,
             "#fdca26"
            ],
            [
             1,
             "#f0f921"
            ]
           ]
          },
          "colorway": [
           "#636efa",
           "#EF553B",
           "#00cc96",
           "#ab63fa",
           "#FFA15A",
           "#19d3f3",
           "#FF6692",
           "#B6E880",
           "#FF97FF",
           "#FECB52"
          ],
          "font": {
           "color": "#2a3f5f"
          },
          "geo": {
           "bgcolor": "white",
           "lakecolor": "white",
           "landcolor": "#E5ECF6",
           "showlakes": true,
           "showland": true,
           "subunitcolor": "white"
          },
          "hoverlabel": {
           "align": "left"
          },
          "hovermode": "closest",
          "mapbox": {
           "style": "light"
          },
          "paper_bgcolor": "white",
          "plot_bgcolor": "#E5ECF6",
          "polar": {
           "angularaxis": {
            "gridcolor": "white",
            "linecolor": "white",
            "ticks": ""
           },
           "bgcolor": "#E5ECF6",
           "radialaxis": {
            "gridcolor": "white",
            "linecolor": "white",
            "ticks": ""
           }
          },
          "scene": {
           "xaxis": {
            "backgroundcolor": "#E5ECF6",
            "gridcolor": "white",
            "gridwidth": 2,
            "linecolor": "white",
            "showbackground": true,
            "ticks": "",
            "zerolinecolor": "white"
           },
           "yaxis": {
            "backgroundcolor": "#E5ECF6",
            "gridcolor": "white",
            "gridwidth": 2,
            "linecolor": "white",
            "showbackground": true,
            "ticks": "",
            "zerolinecolor": "white"
           },
           "zaxis": {
            "backgroundcolor": "#E5ECF6",
            "gridcolor": "white",
            "gridwidth": 2,
            "linecolor": "white",
            "showbackground": true,
            "ticks": "",
            "zerolinecolor": "white"
           }
          },
          "shapedefaults": {
           "line": {
            "color": "#2a3f5f"
           }
          },
          "ternary": {
           "aaxis": {
            "gridcolor": "white",
            "linecolor": "white",
            "ticks": ""
           },
           "baxis": {
            "gridcolor": "white",
            "linecolor": "white",
            "ticks": ""
           },
           "bgcolor": "#E5ECF6",
           "caxis": {
            "gridcolor": "white",
            "linecolor": "white",
            "ticks": ""
           }
          },
          "title": {
           "x": 0.05
          },
          "xaxis": {
           "automargin": true,
           "gridcolor": "white",
           "linecolor": "white",
           "ticks": "",
           "title": {
            "standoff": 15
           },
           "zerolinecolor": "white",
           "zerolinewidth": 2
          },
          "yaxis": {
           "automargin": true,
           "gridcolor": "white",
           "linecolor": "white",
           "ticks": "",
           "title": {
            "standoff": 15
           },
           "zerolinecolor": "white",
           "zerolinewidth": 2
          }
         }
        },
        "title": {
         "font": {
          "size": 24
         }
        },
        "xaxis": {
         "anchor": "y",
         "domain": [
          0,
          1
         ],
         "gridcolor": "#d0d0d0",
         "gridwidth": 1,
         "linecolor": "black",
         "showgrid": false,
         "showticksuffix": "all",
         "title": {
          "text": "Yearly temperature anomaly (°C)"
         }
        },
        "yaxis": {
         "anchor": "x",
         "domain": [
          0,
          1
         ],
         "gridcolor": "#d0d0d0",
         "gridwidth": 1,
         "linecolor": "black",
         "showgrid": false,
         "showticksuffix": "all",
         "title": {
          "text": "Exposure (%)"
         }
        }
       }
      },
      "text/html": [
       "<div>                            <div id=\"01638131-7187-46ed-a0e3-2901ce0bc6e4\" class=\"plotly-graph-div\" style=\"height:525px; width:100%;\"></div>            <script type=\"text/javascript\">                require([\"plotly\"], function(Plotly) {                    window.PLOTLYENV=window.PLOTLYENV || {};                                    if (document.getElementById(\"01638131-7187-46ed-a0e3-2901ce0bc6e4\")) {                    Plotly.newPlot(                        \"01638131-7187-46ed-a0e3-2901ce0bc6e4\",                        [{\"hovertemplate\":\"avg_anomaly=%{x}\\u003cbr\\u003eexposure=%{y}\\u003cbr\\u003eyear=%{marker.color}\\u003cextra\\u003e\\u003c\\u002fextra\\u003e\",\"legendgroup\":\"\",\"marker\":{\"color\":[1979,1980,1981,1982,1983,1984,1985,1986,1987,1988,1989,1990,1991,1992,1993,1994,1995,1996,1997,1998,1999,2000,2001,2002,2003,2004,2005,2006,2007,2008,2009,2010,2011,2012,2013,2014,2015,2016,2017,2018,2019,2020,2021],\"coloraxis\":\"coloraxis\",\"symbol\":\"circle\",\"size\":15},\"mode\":\"markers\",\"name\":\"\",\"orientation\":\"v\",\"showlegend\":false,\"x\":[0.165,0.25583333333333336,0.32166666666666666,0.13833333333333334,0.31166666666666665,0.15666666666666668,0.1166666666666667,0.18,0.32083333333333336,0.38916666666666677,0.2725,0.44750000000000006,0.405,0.22083333333333338,0.23166666666666663,0.3149999999999999,0.44666666666666666,0.3308333333333333,0.46333333333333326,0.6066666666666667,0.3816666666666667,0.3941666666666667,0.535,0.6266666666666668,0.6174999999999999,0.5324999999999999,0.6766666666666666,0.6375000000000001,0.6641666666666666,0.5408333333333333,0.6541666666666667,0.7208333333333332,0.6091666666666667,0.6458333333333334,0.6766666666666664,0.7441666666666666,0.8958333333333334,1.0133333333333334,0.9191666666666668,0.8466666666666668,0.9766666666666667,1.0141666666666667,0.8433333333333333],\"xaxis\":\"x\",\"y\":[41.72203932339312,46.21611662678982,44.233136225704094,43.002460681890454,49.55038957191932,43.40218751054702,43.65877680812301,43.50313073864129,47.44900167331801,52.720655011938405,44.09539268775943,51.17140772516341,48.87258557220329,48.17010741955255,44.10961838231201,54.88089814254348,52.7939908936493,47.95830949911702,50.486203630752975,51.96599392683695,51.41606160675902,52.33465438328818,53.86076352784068,55.39774708076394,53.632823845389254,52.26586187208663,55.976184260349115,57.523758000123806,58.45877995931631,51.67887477751983,52.82307426307264,59.58615755416797,55.794732638350055,60.271942922247575,57.22290288408926,55.49355837804727,62.137209753586575,57.3669509861009,59.728384298322005,61.569751997705154,65.23908379283878,60.437661335393464,60.01108271389917],\"yaxis\":\"y\",\"type\":\"scatter\"}],                        {\"template\":{\"data\":{\"histogram2dcontour\":[{\"type\":\"histogram2dcontour\",\"colorbar\":{\"outlinewidth\":0,\"ticks\":\"\"},\"colorscale\":[[0.0,\"#0d0887\"],[0.1111111111111111,\"#46039f\"],[0.2222222222222222,\"#7201a8\"],[0.3333333333333333,\"#9c179e\"],[0.4444444444444444,\"#bd3786\"],[0.5555555555555556,\"#d8576b\"],[0.6666666666666666,\"#ed7953\"],[0.7777777777777778,\"#fb9f3a\"],[0.8888888888888888,\"#fdca26\"],[1.0,\"#f0f921\"]]}],\"choropleth\":[{\"type\":\"choropleth\",\"colorbar\":{\"outlinewidth\":0,\"ticks\":\"\"}}],\"histogram2d\":[{\"type\":\"histogram2d\",\"colorbar\":{\"outlinewidth\":0,\"ticks\":\"\"},\"colorscale\":[[0.0,\"#0d0887\"],[0.1111111111111111,\"#46039f\"],[0.2222222222222222,\"#7201a8\"],[0.3333333333333333,\"#9c179e\"],[0.4444444444444444,\"#bd3786\"],[0.5555555555555556,\"#d8576b\"],[0.6666666666666666,\"#ed7953\"],[0.7777777777777778,\"#fb9f3a\"],[0.8888888888888888,\"#fdca26\"],[1.0,\"#f0f921\"]]}],\"heatmap\":[{\"type\":\"heatmap\",\"colorbar\":{\"outlinewidth\":0,\"ticks\":\"\"},\"colorscale\":[[0.0,\"#0d0887\"],[0.1111111111111111,\"#46039f\"],[0.2222222222222222,\"#7201a8\"],[0.3333333333333333,\"#9c179e\"],[0.4444444444444444,\"#bd3786\"],[0.5555555555555556,\"#d8576b\"],[0.6666666666666666,\"#ed7953\"],[0.7777777777777778,\"#fb9f3a\"],[0.8888888888888888,\"#fdca26\"],[1.0,\"#f0f921\"]]}],\"heatmapgl\":[{\"type\":\"heatmapgl\",\"colorbar\":{\"outlinewidth\":0,\"ticks\":\"\"},\"colorscale\":[[0.0,\"#0d0887\"],[0.1111111111111111,\"#46039f\"],[0.2222222222222222,\"#7201a8\"],[0.3333333333333333,\"#9c179e\"],[0.4444444444444444,\"#bd3786\"],[0.5555555555555556,\"#d8576b\"],[0.6666666666666666,\"#ed7953\"],[0.7777777777777778,\"#fb9f3a\"],[0.8888888888888888,\"#fdca26\"],[1.0,\"#f0f921\"]]}],\"contourcarpet\":[{\"type\":\"contourcarpet\",\"colorbar\":{\"outlinewidth\":0,\"ticks\":\"\"}}],\"contour\":[{\"type\":\"contour\",\"colorbar\":{\"outlinewidth\":0,\"ticks\":\"\"},\"colorscale\":[[0.0,\"#0d0887\"],[0.1111111111111111,\"#46039f\"],[0.2222222222222222,\"#7201a8\"],[0.3333333333333333,\"#9c179e\"],[0.4444444444444444,\"#bd3786\"],[0.5555555555555556,\"#d8576b\"],[0.6666666666666666,\"#ed7953\"],[0.7777777777777778,\"#fb9f3a\"],[0.8888888888888888,\"#fdca26\"],[1.0,\"#f0f921\"]]}],\"surface\":[{\"type\":\"surface\",\"colorbar\":{\"outlinewidth\":0,\"ticks\":\"\"},\"colorscale\":[[0.0,\"#0d0887\"],[0.1111111111111111,\"#46039f\"],[0.2222222222222222,\"#7201a8\"],[0.3333333333333333,\"#9c179e\"],[0.4444444444444444,\"#bd3786\"],[0.5555555555555556,\"#d8576b\"],[0.6666666666666666,\"#ed7953\"],[0.7777777777777778,\"#fb9f3a\"],[0.8888888888888888,\"#fdca26\"],[1.0,\"#f0f921\"]]}],\"mesh3d\":[{\"type\":\"mesh3d\",\"colorbar\":{\"outlinewidth\":0,\"ticks\":\"\"}}],\"scatter\":[{\"fillpattern\":{\"fillmode\":\"overlay\",\"size\":10,\"solidity\":0.2},\"type\":\"scatter\"}],\"parcoords\":[{\"type\":\"parcoords\",\"line\":{\"colorbar\":{\"outlinewidth\":0,\"ticks\":\"\"}}}],\"scatterpolargl\":[{\"type\":\"scatterpolargl\",\"marker\":{\"colorbar\":{\"outlinewidth\":0,\"ticks\":\"\"}}}],\"bar\":[{\"error_x\":{\"color\":\"#2a3f5f\"},\"error_y\":{\"color\":\"#2a3f5f\"},\"marker\":{\"line\":{\"color\":\"#E5ECF6\",\"width\":0.5},\"pattern\":{\"fillmode\":\"overlay\",\"size\":10,\"solidity\":0.2}},\"type\":\"bar\"}],\"scattergeo\":[{\"type\":\"scattergeo\",\"marker\":{\"colorbar\":{\"outlinewidth\":0,\"ticks\":\"\"}}}],\"scatterpolar\":[{\"type\":\"scatterpolar\",\"marker\":{\"colorbar\":{\"outlinewidth\":0,\"ticks\":\"\"}}}],\"histogram\":[{\"marker\":{\"pattern\":{\"fillmode\":\"overlay\",\"size\":10,\"solidity\":0.2}},\"type\":\"histogram\"}],\"scattergl\":[{\"type\":\"scattergl\",\"marker\":{\"colorbar\":{\"outlinewidth\":0,\"ticks\":\"\"}}}],\"scatter3d\":[{\"type\":\"scatter3d\",\"line\":{\"colorbar\":{\"outlinewidth\":0,\"ticks\":\"\"}},\"marker\":{\"colorbar\":{\"outlinewidth\":0,\"ticks\":\"\"}}}],\"scattermapbox\":[{\"type\":\"scattermapbox\",\"marker\":{\"colorbar\":{\"outlinewidth\":0,\"ticks\":\"\"}}}],\"scatterternary\":[{\"type\":\"scatterternary\",\"marker\":{\"colorbar\":{\"outlinewidth\":0,\"ticks\":\"\"}}}],\"scattercarpet\":[{\"type\":\"scattercarpet\",\"marker\":{\"colorbar\":{\"outlinewidth\":0,\"ticks\":\"\"}}}],\"carpet\":[{\"aaxis\":{\"endlinecolor\":\"#2a3f5f\",\"gridcolor\":\"white\",\"linecolor\":\"white\",\"minorgridcolor\":\"white\",\"startlinecolor\":\"#2a3f5f\"},\"baxis\":{\"endlinecolor\":\"#2a3f5f\",\"gridcolor\":\"white\",\"linecolor\":\"white\",\"minorgridcolor\":\"white\",\"startlinecolor\":\"#2a3f5f\"},\"type\":\"carpet\"}],\"table\":[{\"cells\":{\"fill\":{\"color\":\"#EBF0F8\"},\"line\":{\"color\":\"white\"}},\"header\":{\"fill\":{\"color\":\"#C8D4E3\"},\"line\":{\"color\":\"white\"}},\"type\":\"table\"}],\"barpolar\":[{\"marker\":{\"line\":{\"color\":\"#E5ECF6\",\"width\":0.5},\"pattern\":{\"fillmode\":\"overlay\",\"size\":10,\"solidity\":0.2}},\"type\":\"barpolar\"}],\"pie\":[{\"automargin\":true,\"type\":\"pie\"}]},\"layout\":{\"autotypenumbers\":\"strict\",\"colorway\":[\"#636efa\",\"#EF553B\",\"#00cc96\",\"#ab63fa\",\"#FFA15A\",\"#19d3f3\",\"#FF6692\",\"#B6E880\",\"#FF97FF\",\"#FECB52\"],\"font\":{\"color\":\"#2a3f5f\"},\"hovermode\":\"closest\",\"hoverlabel\":{\"align\":\"left\"},\"paper_bgcolor\":\"white\",\"plot_bgcolor\":\"#E5ECF6\",\"polar\":{\"bgcolor\":\"#E5ECF6\",\"angularaxis\":{\"gridcolor\":\"white\",\"linecolor\":\"white\",\"ticks\":\"\"},\"radialaxis\":{\"gridcolor\":\"white\",\"linecolor\":\"white\",\"ticks\":\"\"}},\"ternary\":{\"bgcolor\":\"#E5ECF6\",\"aaxis\":{\"gridcolor\":\"white\",\"linecolor\":\"white\",\"ticks\":\"\"},\"baxis\":{\"gridcolor\":\"white\",\"linecolor\":\"white\",\"ticks\":\"\"},\"caxis\":{\"gridcolor\":\"white\",\"linecolor\":\"white\",\"ticks\":\"\"}},\"coloraxis\":{\"colorbar\":{\"outlinewidth\":0,\"ticks\":\"\"}},\"colorscale\":{\"sequential\":[[0.0,\"#0d0887\"],[0.1111111111111111,\"#46039f\"],[0.2222222222222222,\"#7201a8\"],[0.3333333333333333,\"#9c179e\"],[0.4444444444444444,\"#bd3786\"],[0.5555555555555556,\"#d8576b\"],[0.6666666666666666,\"#ed7953\"],[0.7777777777777778,\"#fb9f3a\"],[0.8888888888888888,\"#fdca26\"],[1.0,\"#f0f921\"]],\"sequentialminus\":[[0.0,\"#0d0887\"],[0.1111111111111111,\"#46039f\"],[0.2222222222222222,\"#7201a8\"],[0.3333333333333333,\"#9c179e\"],[0.4444444444444444,\"#bd3786\"],[0.5555555555555556,\"#d8576b\"],[0.6666666666666666,\"#ed7953\"],[0.7777777777777778,\"#fb9f3a\"],[0.8888888888888888,\"#fdca26\"],[1.0,\"#f0f921\"]],\"diverging\":[[0,\"#8e0152\"],[0.1,\"#c51b7d\"],[0.2,\"#de77ae\"],[0.3,\"#f1b6da\"],[0.4,\"#fde0ef\"],[0.5,\"#f7f7f7\"],[0.6,\"#e6f5d0\"],[0.7,\"#b8e186\"],[0.8,\"#7fbc41\"],[0.9,\"#4d9221\"],[1,\"#276419\"]]},\"xaxis\":{\"gridcolor\":\"white\",\"linecolor\":\"white\",\"ticks\":\"\",\"title\":{\"standoff\":15},\"zerolinecolor\":\"white\",\"automargin\":true,\"zerolinewidth\":2},\"yaxis\":{\"gridcolor\":\"white\",\"linecolor\":\"white\",\"ticks\":\"\",\"title\":{\"standoff\":15},\"zerolinecolor\":\"white\",\"automargin\":true,\"zerolinewidth\":2},\"scene\":{\"xaxis\":{\"backgroundcolor\":\"#E5ECF6\",\"gridcolor\":\"white\",\"linecolor\":\"white\",\"showbackground\":true,\"ticks\":\"\",\"zerolinecolor\":\"white\",\"gridwidth\":2},\"yaxis\":{\"backgroundcolor\":\"#E5ECF6\",\"gridcolor\":\"white\",\"linecolor\":\"white\",\"showbackground\":true,\"ticks\":\"\",\"zerolinecolor\":\"white\",\"gridwidth\":2},\"zaxis\":{\"backgroundcolor\":\"#E5ECF6\",\"gridcolor\":\"white\",\"linecolor\":\"white\",\"showbackground\":true,\"ticks\":\"\",\"zerolinecolor\":\"white\",\"gridwidth\":2}},\"shapedefaults\":{\"line\":{\"color\":\"#2a3f5f\"}},\"annotationdefaults\":{\"arrowcolor\":\"#2a3f5f\",\"arrowhead\":0,\"arrowwidth\":1},\"geo\":{\"bgcolor\":\"white\",\"landcolor\":\"#E5ECF6\",\"subunitcolor\":\"white\",\"showland\":true,\"showlakes\":true,\"lakecolor\":\"white\"},\"title\":{\"x\":0.05},\"mapbox\":{\"style\":\"light\"}}},\"xaxis\":{\"anchor\":\"y\",\"domain\":[0.0,1.0],\"title\":{\"text\":\"Yearly temperature anomaly (\\u00b0C)\"},\"showgrid\":false,\"gridcolor\":\"#d0d0d0\",\"gridwidth\":1,\"showticksuffix\":\"all\",\"linecolor\":\"black\"},\"yaxis\":{\"anchor\":\"x\",\"domain\":[0.0,1.0],\"title\":{\"text\":\"Exposure (%)\"},\"showgrid\":false,\"gridcolor\":\"#d0d0d0\",\"gridwidth\":1,\"showticksuffix\":\"all\",\"linecolor\":\"black\"},\"coloraxis\":{\"colorbar\":{\"title\":{\"text\":\"Year\"}},\"colorscale\":[[0.0,\"#0000FF\"],[1.0,\"#ff9c00\"]]},\"legend\":{\"tracegroupgap\":0},\"margin\":{\"t\":60},\"title\":{\"font\":{\"size\":24}},\"font\":{\"family\":\"Arial\",\"size\":24},\"plot_bgcolor\":\"#FFFAE5\",\"paper_bgcolor\":\"#FFFAE5\",\"showlegend\":false},                        {\"responsive\": true}                    ).then(function(){\n",
       "                            \n",
       "var gd = document.getElementById('01638131-7187-46ed-a0e3-2901ce0bc6e4');\n",
       "var x = new MutationObserver(function (mutations, observer) {{\n",
       "        var display = window.getComputedStyle(gd).display;\n",
       "        if (!display || display === 'none') {{\n",
       "            console.log([gd, 'removed!']);\n",
       "            Plotly.purge(gd);\n",
       "            observer.disconnect();\n",
       "        }}\n",
       "}});\n",
       "\n",
       "// Listen for the removal of the full notebook cells\n",
       "var notebookContainer = gd.closest('#notebook-container');\n",
       "if (notebookContainer) {{\n",
       "    x.observe(notebookContainer, {childList: true});\n",
       "}}\n",
       "\n",
       "// Listen for the clearing of the current output cell\n",
       "var outputEl = gd.closest('.output');\n",
       "if (outputEl) {{\n",
       "    x.observe(outputEl, {childList: true});\n",
       "}}\n",
       "\n",
       "                        })                };                });            </script>        </div>"
      ]
     },
     "metadata": {},
     "output_type": "display_data"
    }
   ],
   "source": [
    "# custom_color_scale = ['#0000FF', '#ff9c00']\n",
    "\n",
    "# fig = px.scatter(df_temp_anomaly_world_exp,\n",
    "#                     x='avg_anomaly', y='exposure',\n",
    "#                     color='year',\n",
    "#                     color_continuous_scale=custom_color_scale\n",
    "#                 )\n",
    "\n",
    "# # Customize the layout\n",
    "# fig.update_layout(\n",
    "#     xaxis_title='Yearly temperature anomaly (°C)',\n",
    "#     yaxis_title='Exposure (%)',\n",
    "#     title_font=dict(size=24),\n",
    "#     font=dict(family='Arial', size=24),\n",
    "#     plot_bgcolor='#FFFAE5',\n",
    "#     paper_bgcolor='#FFFAE5',\n",
    "#     showlegend=False\n",
    "# )\n",
    "\n",
    "# # Modify symbols\n",
    "# fig.update_traces(marker=dict(size=15))\n",
    "\n",
    "# # Customize grid appearance\n",
    "# fig.update_xaxes(\n",
    "#     showgrid=False,\n",
    "#     gridcolor='#d0d0d0',  # Set grid color to black\n",
    "#     gridwidth=1,      # Set grid line width\n",
    "#     showticksuffix='all',  # Show ticks on all the grid lines\n",
    "#     linecolor='black'\n",
    "# #     range=[-100,90000]\n",
    "# )\n",
    "\n",
    "# fig.update_yaxes(\n",
    "#     showgrid=False,\n",
    "#     gridcolor='#d0d0d0',  # Set grid color to black\n",
    "#     gridwidth=1,      # Set grid line width\n",
    "#     showticksuffix='all',  # Show ticks on all the grid lines\n",
    "#     linecolor='black'\n",
    "# #     range=[-1,105]\n",
    "# )\n",
    "\n",
    "# # Update the color bar settings\n",
    "# fig.update_coloraxes(colorbar_title='Year')\n",
    "\n",
    "# # pio.write_image(fig, '../gif/exp_vs_temp_anomaly.svg', width=1200, height=600)\n",
    "# fig.show()"
   ]
  },
  {
   "cell_type": "code",
   "execution_count": null,
   "id": "ec34e99a",
   "metadata": {},
   "outputs": [],
   "source": []
  }
 ],
 "metadata": {
  "kernelspec": {
   "display_name": "Python 3 (ipykernel)",
   "language": "python",
   "name": "python3"
  },
  "language_info": {
   "codemirror_mode": {
    "name": "ipython",
    "version": 3
   },
   "file_extension": ".py",
   "mimetype": "text/x-python",
   "name": "python",
   "nbconvert_exporter": "python",
   "pygments_lexer": "ipython3",
   "version": "3.10.10"
  }
 },
 "nbformat": 4,
 "nbformat_minor": 5
}
