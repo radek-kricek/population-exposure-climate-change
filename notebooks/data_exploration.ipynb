{
 "cells": [
  {
   "cell_type": "markdown",
   "id": "02d57b28",
   "metadata": {},
   "source": [
    "# How does climate change feel around the globe?\n",
    "# The final project from Spiced Academy\n",
    "# Notebook for data cleaning and analysis"
   ]
  },
  {
   "cell_type": "markdown",
   "id": "e5d7c6c2",
   "metadata": {},
   "source": [
    "Check vizzes.ipynb for generating visualizations."
   ]
  },
  {
   "cell_type": "markdown",
   "id": "b60d68be",
   "metadata": {},
   "source": [
    "## Contents"
   ]
  },
  {
   "cell_type": "markdown",
   "id": "f9b9d653",
   "metadata": {},
   "source": [
    "[The questions](#questions)\n",
    "\n",
    "[Importing libraries and packages](#import)\n",
    "\n",
    "[Cleaning OECD data: Population exposure to extreme temperatures](#clean_oecd_1)\n",
    "\n",
    "[Cleaning OECD data: Historical populations of countries](#clean_oecd_2)\n",
    "\n",
    "[Cleaning UN data: GDP per capita](#clean_un)\n",
    "\n",
    "[Cleaning NASA data: temperature anomaly](#clean_nasa)\n",
    "\n",
    "[Correlation between population exposure and time](#corr_pop_time)\n",
    "\n",
    "[Exposure change for the whole world](#exp_world)\n",
    "\n",
    "[Temperature vs exposure worldwide](#temp_exp)\n",
    "\n",
    "[The effects in rich and poor countries (GDP per capita)](#poor_rich)"
   ]
  },
  {
   "cell_type": "markdown",
   "id": "1fcbe1a9",
   "metadata": {},
   "source": [
    "## The questions <a id='questions'></a>"
   ]
  },
  {
   "cell_type": "markdown",
   "id": "6747155e",
   "metadata": {},
   "source": [
    "In this project, I attempt to answer these pressing questions related to periods of heat which are ever more frequent in virtually every part of the wolrd:\n",
    "1. What percentage of people has direct experience with extreme heat?\n",
    "2. Does this number change over time?\n",
    "3. How much is it related to the global temperature anomaly?\n",
    "4. Is there a clear link between wealth and heat exposure of populations?"
   ]
  },
  {
   "cell_type": "markdown",
   "id": "48160c52",
   "metadata": {},
   "source": [
    "## Importing libraries and packages <a id='import'></a>"
   ]
  },
  {
   "cell_type": "code",
   "execution_count": 2,
   "id": "a22bb963",
   "metadata": {},
   "outputs": [],
   "source": [
    "import pandas as pd   # df workflow\n",
    "\n",
    "import pycountry   # to get a dict between country names and alpha3 codes\n",
    "\n",
    "# for clustering\n",
    "from sklearn.preprocessing import StandardScaler\n",
    "from sklearn.cluster import KMeans\n",
    "\n",
    "from scipy import stats   # for A/B test"
   ]
  },
  {
   "cell_type": "markdown",
   "id": "f258b7f9",
   "metadata": {},
   "source": [
    "## Cleaning OECD data: Population exposure to extreme temperatures <a id='clean_oecd_1'></a>"
   ]
  },
  {
   "cell_type": "markdown",
   "id": "e51797ad",
   "metadata": {},
   "source": [
    "We load the data about population exposures and perform cleaning for further analysis and integration with other datasets.\n",
    "\n",
    "Years included: 1979 - 2021.\n",
    "\n",
    "We will be interested mainly in four measures, describing the population exposure, although there is more measures in the dataset.\n",
    "\n",
    "- 'HD_TN_POP_IND' gives the exposures to hot summer days (over 35 °C) AND tropical nights (over 20 °C).\n",
    "\n",
    "- 'HD_POP_IND' is the exposure to hot summer days.\n",
    "\n",
    "- 'TN_POP_IND' is the exposure to tropical nights.\n",
    "\n",
    "- 'ID_POP_IND' is the exposure to icing days (doesn't exceed 0 °C)."
   ]
  },
  {
   "cell_type": "code",
   "execution_count": 183,
   "id": "365ead12",
   "metadata": {},
   "outputs": [],
   "source": [
    "df_exp = pd.read_csv('../data/oecd_population_exposure_to_extreme_temp.csv')"
   ]
  },
  {
   "cell_type": "markdown",
   "id": "88277dcd",
   "metadata": {},
   "source": [
    "Choose only the relevant columns.\n",
    "\n",
    "Reference area for individual countries (contains also provinces and greater regions of the world), measure (later we choose population exposure), duration (how many weeks per year did the phenomenon last), time period (from which year is the data), observed value."
   ]
  },
  {
   "cell_type": "code",
   "execution_count": 184,
   "id": "943fe295",
   "metadata": {},
   "outputs": [],
   "source": [
    "df_exp = df_exp[['REF_AREA','MEASURE','DURATION','TIME_PERIOD','OBS_VALUE']]"
   ]
  },
  {
   "cell_type": "markdown",
   "id": "ecdd7cfb",
   "metadata": {},
   "source": [
    "Rename the columns to standard format, drop possible empty spaces."
   ]
  },
  {
   "cell_type": "code",
   "execution_count": 185,
   "id": "598eac5a",
   "metadata": {},
   "outputs": [],
   "source": [
    "df_exp.columns = df_exp.columns.str.lower().str.strip()"
   ]
  },
  {
   "cell_type": "markdown",
   "id": "c8dfbe7d",
   "metadata": {},
   "source": [
    "When reference area contains provinces, the abbreviation of a respective country ends with numerical characters. We are not interested in provinces and they occupy big part of the data frame, drop these lines."
   ]
  },
  {
   "cell_type": "code",
   "execution_count": 186,
   "id": "80c74282",
   "metadata": {},
   "outputs": [],
   "source": [
    "df_exp = df_exp.loc[~(df_exp['ref_area'].str.endswith(('0', '1', '2', '3', '4', '5', '6', '7', '8', '9')))]\n",
    "df_exp.reset_index(drop=True, inplace=True)"
   ]
  },
  {
   "cell_type": "markdown",
   "id": "c53c5acc",
   "metadata": {},
   "source": [
    "Some tropical countries reported zero population exposures. This data is most likely flawed and we drop these countries."
   ]
  },
  {
   "cell_type": "code",
   "execution_count": 187,
   "id": "c3237bb1",
   "metadata": {},
   "outputs": [],
   "source": [
    "df_exp = df_exp[~df_exp['ref_area'].isin(['BDI', 'RWA', 'GNQ', 'PRI', 'BHS'])]\n",
    "df_exp.reset_index(drop=True, inplace=True)"
   ]
  },
  {
   "cell_type": "markdown",
   "id": "ea61893d",
   "metadata": {},
   "source": [
    "Now let us create a column with country names based on the alpha3 abbreviations.\n",
    "\n",
    "First, make a dictionary to translate countries alpha3 abbreviations."
   ]
  },
  {
   "cell_type": "code",
   "execution_count": 188,
   "id": "e5aca66a",
   "metadata": {},
   "outputs": [],
   "source": [
    "country_alpha3 = {}\n",
    "for country in pycountry.countries:\n",
    "    country_alpha3[country.alpha_3] = country.name"
   ]
  },
  {
   "cell_type": "markdown",
   "id": "20267b0c",
   "metadata": {},
   "source": [
    "Apply to create a new column with country names."
   ]
  },
  {
   "cell_type": "code",
   "execution_count": 189,
   "id": "8cf6b865",
   "metadata": {},
   "outputs": [],
   "source": [
    "df_exp['country'] = df_exp['ref_area'].map(country_alpha3)   # new column with country names\n",
    "df_exp = df_exp[['ref_area', 'country', 'measure', 'duration', 'time_period', 'obs_value']]   # reorder columns"
   ]
  },
  {
   "cell_type": "markdown",
   "id": "e07000f4",
   "metadata": {},
   "source": [
    "Optional: save the data frame into a file."
   ]
  },
  {
   "cell_type": "code",
   "execution_count": 190,
   "id": "2eb5adf3",
   "metadata": {},
   "outputs": [],
   "source": [
    "# df_exp.to_csv('../exported_dfs/exposures_all_durations.csv', index=False)"
   ]
  },
  {
   "cell_type": "markdown",
   "id": "dfde41e3",
   "metadata": {},
   "source": [
    "The data frame before, with separate durations, is useful for example for investigating trends in greater detail.\n",
    "\n",
    "**For some purposes, we will be using the sum over all durations. Let us make such a grouped data frame.**\n",
    "\n",
    "This can be done only for measure expressing percentages of population, so we will filter tha data frame for those first."
   ]
  },
  {
   "cell_type": "code",
   "execution_count": 191,
   "id": "e8d68d2d",
   "metadata": {},
   "outputs": [],
   "source": [
    "df_exp_summed = df_exp[df_exp['measure'].isin(['HD_POP_IND', 'TN_POP_IND', 'HD_TN_POP_IND', 'ID_POP_IND'])]"
   ]
  },
  {
   "cell_type": "markdown",
   "id": "5a0cadab",
   "metadata": {},
   "source": [
    "Now it is reasonable to rename the column 'obs_value' to 'exposure'."
   ]
  },
  {
   "cell_type": "code",
   "execution_count": 192,
   "id": "aa357d9b",
   "metadata": {},
   "outputs": [
    {
     "name": "stderr",
     "output_type": "stream",
     "text": [
      "C:\\Users\\radek\\AppData\\Local\\Temp\\ipykernel_24124\\3465930645.py:1: SettingWithCopyWarning:\n",
      "\n",
      "\n",
      "A value is trying to be set on a copy of a slice from a DataFrame\n",
      "\n",
      "See the caveats in the documentation: https://pandas.pydata.org/pandas-docs/stable/user_guide/indexing.html#returning-a-view-versus-a-copy\n",
      "\n"
     ]
    }
   ],
   "source": [
    "df_exp_summed.rename(columns={'obs_value':'exposure'}, inplace=True)"
   ]
  },
  {
   "cell_type": "markdown",
   "id": "543a22ea",
   "metadata": {},
   "source": [
    "We can group and sum up exposures over all durations."
   ]
  },
  {
   "cell_type": "code",
   "execution_count": 193,
   "id": "a2577321",
   "metadata": {},
   "outputs": [],
   "source": [
    "df_exp_summed = df_exp_summed.groupby(['ref_area', 'country', 'measure', 'time_period'], as_index=False)['exposure'].sum()"
   ]
  },
  {
   "cell_type": "markdown",
   "id": "45a77a55",
   "metadata": {},
   "source": [
    "The result sometimes slightly exceeds 100 % (up to 104.5 %). In the case, round the summed exposure to 100 %."
   ]
  },
  {
   "cell_type": "code",
   "execution_count": 194,
   "id": "025f98cd",
   "metadata": {},
   "outputs": [],
   "source": [
    "df_exp_summed.loc[df_exp_summed['exposure']>100, 'exposure'] = 100"
   ]
  },
  {
   "cell_type": "markdown",
   "id": "613f9e15",
   "metadata": {},
   "source": [
    "Optional: save the data frame into a file."
   ]
  },
  {
   "cell_type": "code",
   "execution_count": 195,
   "id": "eb3bb2af",
   "metadata": {},
   "outputs": [],
   "source": [
    "# df_exp_summed.to_csv('../exported_dfs/exposures_summed.csv', index=False)"
   ]
  },
  {
   "cell_type": "markdown",
   "id": "034beec5",
   "metadata": {},
   "source": [
    "## Cleaning OECD data: Historical populations of countries <a id='clean_oecd_2'></a>"
   ]
  },
  {
   "cell_type": "markdown",
   "id": "cf2bace1",
   "metadata": {},
   "source": [
    "We load the data about population of countries in the previous years and perform cleaning for further analysis and integration with other datasets.\n",
    "\n",
    "Years included: 1950 - 2021."
   ]
  },
  {
   "cell_type": "code",
   "execution_count": 196,
   "id": "c4ea7f9c",
   "metadata": {},
   "outputs": [],
   "source": [
    "df_pop = pd.read_csv('../data/oecd_historical_population_data.csv')"
   ]
  },
  {
   "cell_type": "markdown",
   "id": "4dd82e18",
   "metadata": {},
   "source": [
    "Choose only the relevant columns.\n",
    "\n",
    "Reference area (country), measure (population), sex and age (to filter fot total values later), time period (year of the observation), observed value."
   ]
  },
  {
   "cell_type": "code",
   "execution_count": 197,
   "id": "aa5c992f",
   "metadata": {},
   "outputs": [],
   "source": [
    "df_pop = df_pop.drop(['DATAFLOW', 'TIME_HORIZ', 'OBS_STATUS', 'UNIT_MULT', 'DECIMALS'], axis='columns')"
   ]
  },
  {
   "cell_type": "markdown",
   "id": "5c9576d7",
   "metadata": {},
   "source": [
    "Rename the columns to standard format, drop possible empty spaces."
   ]
  },
  {
   "cell_type": "code",
   "execution_count": 198,
   "id": "03a5c4a9",
   "metadata": {},
   "outputs": [],
   "source": [
    "df_pop.columns = df_pop.columns.str.lower().str.strip()\n",
    "df_pop.rename(columns={'obs_value':'population'}, inplace=True)   # more informative name"
   ]
  },
  {
   "cell_type": "markdown",
   "id": "cec5d063",
   "metadata": {},
   "source": [
    "Keep only rows for total population across sexes and ages and drop the unnecessary columns after."
   ]
  },
  {
   "cell_type": "code",
   "execution_count": 199,
   "id": "3c95a572",
   "metadata": {},
   "outputs": [],
   "source": [
    "df_pop = df_pop[(df_pop['measure']=='POP') & (df_pop['unit_measure']=='PS') & (df_pop['sex']=='_T') &\\\n",
    "                (df_pop['age']=='_T')]\n",
    "df_pop.reset_index(drop=True, inplace=True)\n",
    "df_pop = df_pop.drop(['measure', 'unit_measure', 'sex', 'age'], axis='columns')"
   ]
  },
  {
   "cell_type": "markdown",
   "id": "1ac9e1a9",
   "metadata": {},
   "source": [
    "Optional: save the data frame into a file."
   ]
  },
  {
   "cell_type": "code",
   "execution_count": 200,
   "id": "02660417",
   "metadata": {},
   "outputs": [],
   "source": [
    "# df_pop.to_csv('../exported_dfs/populations_clean.csv', index=False)"
   ]
  },
  {
   "cell_type": "markdown",
   "id": "346128c3",
   "metadata": {},
   "source": [
    "## Cleaning UN data: GDP per capita <a id='clean_un'></a>"
   ]
  },
  {
   "cell_type": "markdown",
   "id": "8c2b53b9",
   "metadata": {},
   "source": [
    "We load the data about GDP per capita of countries in the previous years and perform cleaning for further analysis and integration with other datasets.\n",
    "\n",
    "Years included: 2017 - 2021.\n"
   ]
  },
  {
   "cell_type": "code",
   "execution_count": 201,
   "id": "08357d1e",
   "metadata": {},
   "outputs": [],
   "source": [
    "df_gdp = pd.read_csv('../data/un_gdp_per_capita_current_prices.csv')"
   ]
  },
  {
   "cell_type": "markdown",
   "id": "598fdf41",
   "metadata": {},
   "source": [
    "Choose only the relevant columns and rename."
   ]
  },
  {
   "cell_type": "code",
   "execution_count": 202,
   "id": "4de28f7d",
   "metadata": {},
   "outputs": [],
   "source": [
    "df_gdp = df_gdp.drop('Item', axis='columns')\n",
    "df_gdp.columns = ['country', 'time_period', 'gdp']"
   ]
  },
  {
   "cell_type": "markdown",
   "id": "b20f34c9",
   "metadata": {},
   "source": [
    "Change 'gdp' column type to float"
   ]
  },
  {
   "cell_type": "code",
   "execution_count": 203,
   "id": "2434f39b",
   "metadata": {},
   "outputs": [],
   "source": [
    "df_gdp['gdp'] = df_gdp['gdp'].astype('float')"
   ]
  },
  {
   "cell_type": "markdown",
   "id": "a7df19c8",
   "metadata": {},
   "source": [
    "We are using alpha3 abbreviations of countries to merge different data frames but these are not present in the UN data.\n",
    "\n",
    "Create an inversed dictionary (see cleaning OECD data) to translate countries in the UN dataset to alpha3 abbreviations."
   ]
  },
  {
   "cell_type": "code",
   "execution_count": 204,
   "id": "a80c84b5",
   "metadata": {},
   "outputs": [],
   "source": [
    "country_alpha3_inversed = {}\n",
    "for country in pycountry.countries:\n",
    "    country_alpha3_inversed[country.name] = country.alpha_3"
   ]
  },
  {
   "cell_type": "markdown",
   "id": "162b86c2",
   "metadata": {},
   "source": [
    "Some country names in the UN data frame are different than in the pycountries library, we need to rename them."
   ]
  },
  {
   "cell_type": "code",
   "execution_count": 205,
   "id": "87128e2e",
   "metadata": {},
   "outputs": [],
   "source": [
    "old_keys = ['China', 'United Kingdom', 'Turkey', \"Korea, Democratic People's Republic of\", \"Korea, Republic of\",\\\n",
    "           'Venezuela, Bolivarian Republic of', 'Bolivia, Plurinational State of',\\\n",
    "            'Congo, The Democratic Republic of the', 'Tanzania, United Republic of', 'Moldova, Republic of',\\\n",
    "            'North Macedonia']\n",
    "new_keys = ['China (mainland)', 'United Kingdom of Great Britain and Northern Ireland', 'Türkiye',\\\n",
    "           \"Democratic People's Republic of Korea\", \"Republic of Korea\", 'Venezuela (Bolivarian Republic of)',\\\n",
    "           'Bolivia (Plurinational State of)', 'Democratic Republic of the Congo',\\\n",
    "            'United Republic of Tanzania: Mainland', 'Republic of Moldova', 'Republic of North Macedonia']\n",
    "\n",
    "for key in range(len(new_keys)):\n",
    "    old_key = old_keys[key]\n",
    "    new_key = new_keys[key]\n",
    "    country_alpha3_inversed[new_key] = country_alpha3_inversed.pop(old_key)"
   ]
  },
  {
   "cell_type": "markdown",
   "id": "a943d74e",
   "metadata": {},
   "source": [
    "Create the column with alpha3 abbreviations."
   ]
  },
  {
   "cell_type": "code",
   "execution_count": 206,
   "id": "94b14640",
   "metadata": {},
   "outputs": [],
   "source": [
    "df_gdp['ref_area'] = df_gdp['country'].map(country_alpha3_inversed)\n",
    "df_gdp = df_gdp[['ref_area', 'country', 'time_period', 'gdp']]   # redorder columns"
   ]
  },
  {
   "cell_type": "markdown",
   "id": "923fde93",
   "metadata": {},
   "source": [
    "Optional: save the data frame into a file."
   ]
  },
  {
   "cell_type": "code",
   "execution_count": 207,
   "id": "d4b325a5",
   "metadata": {},
   "outputs": [],
   "source": [
    "# df_gdp.to_csv('../exported_dfs/gdp_clean.csv', index=False)"
   ]
  },
  {
   "cell_type": "markdown",
   "id": "05a01ddd",
   "metadata": {},
   "source": [
    "## Cleaning NASA data: temperature anomaly <a id='clean_nasa'></a>"
   ]
  },
  {
   "cell_type": "markdown",
   "id": "ffbe7dcd",
   "metadata": {},
   "source": [
    "We load the data about temperature anomaly and perform cleaning for further analysis and integration with other datasets.\n",
    "\n",
    "Years included: 1880 - 2023.\n",
    "\n",
    "Monthly temperature anomaly, compared with the mean temperature from 1951-1980."
   ]
  },
  {
   "cell_type": "code",
   "execution_count": 208,
   "id": "35bde8ad",
   "metadata": {},
   "outputs": [],
   "source": [
    "df_temp_anomaly = pd.read_csv('../data/nasa_global_mean_temperature_anomaly.csv', skiprows=1)"
   ]
  },
  {
   "cell_type": "markdown",
   "id": "198a896d",
   "metadata": {},
   "source": [
    "Choose only relevant columns (year and monthly anomalies) and rename."
   ]
  },
  {
   "cell_type": "code",
   "execution_count": 209,
   "id": "13b2958a",
   "metadata": {},
   "outputs": [],
   "source": [
    "df_temp_anomaly = df_temp_anomaly.iloc[:,0:13]\n",
    "df_temp_anomaly.columns = df_temp_anomaly.columns.str.lower().str.strip()"
   ]
  },
  {
   "cell_type": "markdown",
   "id": "27ac0401",
   "metadata": {},
   "source": [
    "Choose only the relevant years (rows)."
   ]
  },
  {
   "cell_type": "code",
   "execution_count": 210,
   "id": "2f905c83",
   "metadata": {},
   "outputs": [],
   "source": [
    "df_temp_anomaly = df_temp_anomaly[df_temp_anomaly['year'].between(1979,2021)]\n",
    "df_temp_anomaly = df_temp_anomaly.reset_index(drop=True)"
   ]
  },
  {
   "cell_type": "markdown",
   "id": "e4c6af6c",
   "metadata": {},
   "source": [
    "Change data type to floats to perform calculations."
   ]
  },
  {
   "cell_type": "code",
   "execution_count": 211,
   "id": "f338c0a9",
   "metadata": {},
   "outputs": [],
   "source": [
    "df_temp_anomaly[df_temp_anomaly.columns[1:13]] = df_temp_anomaly[df_temp_anomaly.columns[1:13]].astype(float)"
   ]
  },
  {
   "cell_type": "markdown",
   "id": "6533486a",
   "metadata": {},
   "source": [
    "Add a column with average anomalies for every year and keep only these two columns."
   ]
  },
  {
   "cell_type": "code",
   "execution_count": 212,
   "id": "d440e92b",
   "metadata": {},
   "outputs": [],
   "source": [
    "df_temp_anomaly['avg_anomaly'] = df_temp_anomaly.iloc[:, 1:].mean(axis=1)\n",
    "df_temp_anomaly = df_temp_anomaly[['year', 'avg_anomaly']]"
   ]
  },
  {
   "cell_type": "markdown",
   "id": "081ef60e",
   "metadata": {},
   "source": [
    "Optional: save the data frame into a file."
   ]
  },
  {
   "cell_type": "code",
   "execution_count": 213,
   "id": "99882a62",
   "metadata": {},
   "outputs": [],
   "source": [
    "# df_temp_anomaly.to_csv('../exported_dfs/temp_anomaly_clean.csv', index=False)"
   ]
  },
  {
   "cell_type": "markdown",
   "id": "6943f249",
   "metadata": {},
   "source": [
    "## Correlation between population exposure and time <a id='corr_pop_time'></a>"
   ]
  },
  {
   "cell_type": "markdown",
   "id": "b205984c",
   "metadata": {},
   "source": [
    "We are going to calculate correlation between population exposure and time for individual countries."
   ]
  },
  {
   "cell_type": "markdown",
   "id": "30036ea5",
   "metadata": {},
   "source": [
    "Read the cleaned data frame from a file or use df_exp from above."
   ]
  },
  {
   "cell_type": "code",
   "execution_count": 214,
   "id": "4f75ae99",
   "metadata": {},
   "outputs": [],
   "source": [
    "# df_analyze_corr = pd.read_csv('../exported_dfs/exposures_summed.csv')\n",
    "df_analyze_corr = df_exp_summed"
   ]
  },
  {
   "cell_type": "markdown",
   "id": "a3f67148",
   "metadata": {},
   "source": [
    "Keep only the lines where 'measure' contains data about population exposures."
   ]
  },
  {
   "cell_type": "code",
   "execution_count": 215,
   "id": "bfb58c7c",
   "metadata": {},
   "outputs": [],
   "source": [
    "df_analyze_corr =\\\n",
    "df_analyze_corr.loc[~(df_analyze_corr['measure'].str.contains('TEMP') |\\\n",
    "                      df_analyze_corr['measure'].str.contains('UTCI_POP_IND'))]\n",
    "df_analyze_corr.reset_index(drop=True, inplace=True)"
   ]
  },
  {
   "cell_type": "markdown",
   "id": "4e716949",
   "metadata": {},
   "source": [
    "We need a sum of exposures for all durations, therefore group by reference area, measure and time period and calculate the sum."
   ]
  },
  {
   "cell_type": "code",
   "execution_count": 216,
   "id": "b7477f92",
   "metadata": {},
   "outputs": [],
   "source": [
    "df_analyze_corr = df_exp_summed.groupby(['ref_area', 'measure', 'time_period'], as_index=False)['exposure'].sum()"
   ]
  },
  {
   "cell_type": "markdown",
   "id": "ad1dc644",
   "metadata": {},
   "source": [
    "**The actual correlations.**\n",
    "\n",
    "Below, select the measure in which we are interested."
   ]
  },
  {
   "cell_type": "code",
   "execution_count": 217,
   "id": "e2d92de5",
   "metadata": {},
   "outputs": [],
   "source": [
    "df_analyze_corr = df_analyze_corr[df_analyze_corr['measure']=='HD_TN_POP_IND']   # HERE SELECT THE MEASURE\n",
    "df_analyze_corr = df_analyze_corr.drop('measure', axis='columns')   # do not need the column any longer"
   ]
  },
  {
   "cell_type": "markdown",
   "id": "1aad3076",
   "metadata": {},
   "source": [
    "A loop, calculating correlation coefficient for each country."
   ]
  },
  {
   "cell_type": "code",
   "execution_count": 218,
   "id": "fbf01518",
   "metadata": {},
   "outputs": [],
   "source": [
    "countries = list(df_analyze_corr['ref_area'].unique())   # list of countries present\n",
    "corr_coeffs = []   # empty list for correlation coefficients\n",
    "\n",
    "for country in countries:\n",
    "    df_country = df_analyze_corr[df_analyze_corr['ref_area']==country]   # filter for the country\n",
    "    df_corr = df_country.corr(numeric_only=True)   # calculate correlation coefficients for numeric columns\n",
    "    coeff = df_corr.iloc[0,1]   # choose the relevant number\n",
    "    corr_coeffs.append(coeff)   # store the coefficient inside of the list"
   ]
  },
  {
   "cell_type": "markdown",
   "id": "d32afece",
   "metadata": {},
   "source": [
    "We can store the result in a data frame."
   ]
  },
  {
   "cell_type": "code",
   "execution_count": 219,
   "id": "e106cf08",
   "metadata": {
    "scrolled": true
   },
   "outputs": [],
   "source": [
    "df_corr_results = pd.DataFrame(columns=['countries','corr_coeff'])\n",
    "df_corr_results['countries'] = countries\n",
    "df_corr_results['corr_coeff'] = corr_coeffs"
   ]
  },
  {
   "cell_type": "markdown",
   "id": "2d383900",
   "metadata": {},
   "source": [
    "Optional: save the data frame into a file."
   ]
  },
  {
   "cell_type": "code",
   "execution_count": 220,
   "id": "092433e5",
   "metadata": {},
   "outputs": [],
   "source": [
    "# df_corr_results.to_csv('../exported_dfs/correlations.csv', index=False)"
   ]
  },
  {
   "cell_type": "markdown",
   "id": "2fbaf9b0",
   "metadata": {},
   "source": [
    "## Exposure change for the whole world <a id='exp_world'></a>"
   ]
  },
  {
   "cell_type": "markdown",
   "id": "b4878c69",
   "metadata": {},
   "source": [
    "Bonus (not included in the graduation presentation): If we want to describe the trends of population exposures worldwide, we need to calculate weighted average over all countries for every year.\n",
    "\n",
    "Read the cleaned data frame from a file or use df_exp_summed from above."
   ]
  },
  {
   "cell_type": "code",
   "execution_count": 221,
   "id": "b6042d3c",
   "metadata": {},
   "outputs": [],
   "source": [
    "df_exp_summed = pd.read_csv('../exported_dfs/exposures_summed.csv')"
   ]
  },
  {
   "cell_type": "markdown",
   "id": "30543954",
   "metadata": {},
   "source": [
    "Select the measure we are interested in."
   ]
  },
  {
   "cell_type": "code",
   "execution_count": 222,
   "id": "6b311c40",
   "metadata": {},
   "outputs": [],
   "source": [
    "df_exp_measure = df_exp_summed[df_exp_summed['measure']=='HD_TN_POP_IND'] # HERE SELECT THE MEASURE"
   ]
  },
  {
   "cell_type": "markdown",
   "id": "f65530c3",
   "metadata": {},
   "source": [
    "Merge data frames with exposure and population size."
   ]
  },
  {
   "cell_type": "code",
   "execution_count": 223,
   "id": "db985a6a",
   "metadata": {},
   "outputs": [],
   "source": [
    "df_exp_pop = pd.merge(left=df_exp_measure, right=df_pop, how='left', on=['ref_area', 'time_period'])"
   ]
  },
  {
   "cell_type": "markdown",
   "id": "d9045e0a",
   "metadata": {},
   "source": [
    "For further calculations, we need to replace missing values with zeros."
   ]
  },
  {
   "cell_type": "code",
   "execution_count": 224,
   "id": "4896b813",
   "metadata": {},
   "outputs": [],
   "source": [
    "df_exp_pop['population'] = df_exp_pop['population'].fillna(0)"
   ]
  },
  {
   "cell_type": "markdown",
   "id": "083d250f",
   "metadata": {},
   "source": [
    "A loop, calculating weighted average for each year."
   ]
  },
  {
   "cell_type": "code",
   "execution_count": 225,
   "id": "c60e5fb6",
   "metadata": {},
   "outputs": [],
   "source": [
    "# new df for years and weighted averages:\n",
    "\n",
    "years = list(df_exp_pop['time_period'].unique())   # list of years present\n",
    "exp_world = []   # empty list for worldwide exposures\n",
    "\n",
    "for year in years:\n",
    "    df_calc = df_exp_pop[df_exp_pop['time_period']==year]   # filter for the year\n",
    "    avg_world = sum(df_calc['exposure'] * df_calc['population'])/ sum(df_calc['population'])   # weighted average\n",
    "    exp_world.append(avg_world)   # store the average inside of the list"
   ]
  },
  {
   "cell_type": "markdown",
   "id": "ca851cb2",
   "metadata": {},
   "source": [
    "We can store the result in a data frame."
   ]
  },
  {
   "cell_type": "code",
   "execution_count": 226,
   "id": "770d5708",
   "metadata": {},
   "outputs": [],
   "source": [
    "df_world_exp = pd.DataFrame(columns=['year','exposure'])\n",
    "df_world_exp['year'] = years\n",
    "df_world_exp['exposure'] = exp_world"
   ]
  },
  {
   "cell_type": "markdown",
   "id": "d69030cd",
   "metadata": {},
   "source": [
    "Optional: save the data frame into a file."
   ]
  },
  {
   "cell_type": "code",
   "execution_count": 227,
   "id": "4b04b6d3",
   "metadata": {},
   "outputs": [],
   "source": [
    "# df_world_exp.to_csv('../exported_dfs/world_exp.csv', index=False)"
   ]
  },
  {
   "cell_type": "markdown",
   "id": "5b370af3",
   "metadata": {},
   "source": [
    "## Temperature vs exposure worldwide <a id='temp_exp'></a>"
   ]
  },
  {
   "cell_type": "markdown",
   "id": "4489c535",
   "metadata": {},
   "source": [
    "We will merge the data on worldwide population exposure and temperature anomalies to check for correlation and to visualize any trends.\n",
    "\n",
    "Read the cleaned data frames from files or use df_temp_anomaly and df_world_exp from above."
   ]
  },
  {
   "cell_type": "code",
   "execution_count": 171,
   "id": "bb5926ea",
   "metadata": {},
   "outputs": [],
   "source": [
    "# df_temp_anomaly = pd.read_csv('../exported_dfs/temp_anomaly_clean.csv')\n",
    "# df_world_exp = pd.read_csv('../exported_dfs/world_exp.csv')"
   ]
  },
  {
   "cell_type": "markdown",
   "id": "3a2938ce",
   "metadata": {},
   "source": [
    "Merge temperature anomaly and worldwide population exposure data frames."
   ]
  },
  {
   "cell_type": "code",
   "execution_count": 228,
   "id": "d8e0ddb3",
   "metadata": {},
   "outputs": [],
   "source": [
    "df_temp_anomaly_world_exp = pd.merge(df_temp_anomaly, df_world_exp)"
   ]
  },
  {
   "cell_type": "markdown",
   "id": "aa18e054",
   "metadata": {},
   "source": [
    "Calculate the correlation coefficients."
   ]
  },
  {
   "cell_type": "code",
   "execution_count": 229,
   "id": "cc4ab68b",
   "metadata": {
    "scrolled": true
   },
   "outputs": [
    {
     "data": {
      "text/html": [
       "<div>\n",
       "<style scoped>\n",
       "    .dataframe tbody tr th:only-of-type {\n",
       "        vertical-align: middle;\n",
       "    }\n",
       "\n",
       "    .dataframe tbody tr th {\n",
       "        vertical-align: top;\n",
       "    }\n",
       "\n",
       "    .dataframe thead th {\n",
       "        text-align: right;\n",
       "    }\n",
       "</style>\n",
       "<table border=\"1\" class=\"dataframe\">\n",
       "  <thead>\n",
       "    <tr style=\"text-align: right;\">\n",
       "      <th></th>\n",
       "      <th>year</th>\n",
       "      <th>avg_anomaly</th>\n",
       "      <th>exposure</th>\n",
       "    </tr>\n",
       "  </thead>\n",
       "  <tbody>\n",
       "    <tr>\n",
       "      <th>year</th>\n",
       "      <td>1.000000</td>\n",
       "      <td>0.929837</td>\n",
       "      <td>0.915518</td>\n",
       "    </tr>\n",
       "    <tr>\n",
       "      <th>avg_anomaly</th>\n",
       "      <td>0.929837</td>\n",
       "      <td>1.000000</td>\n",
       "      <td>0.930867</td>\n",
       "    </tr>\n",
       "    <tr>\n",
       "      <th>exposure</th>\n",
       "      <td>0.915518</td>\n",
       "      <td>0.930867</td>\n",
       "      <td>1.000000</td>\n",
       "    </tr>\n",
       "  </tbody>\n",
       "</table>\n",
       "</div>"
      ],
      "text/plain": [
       "                 year  avg_anomaly  exposure\n",
       "year         1.000000     0.929837  0.915518\n",
       "avg_anomaly  0.929837     1.000000  0.930867\n",
       "exposure     0.915518     0.930867  1.000000"
      ]
     },
     "execution_count": 229,
     "metadata": {},
     "output_type": "execute_result"
    }
   ],
   "source": [
    "df_temp_anomaly_world_exp.corr()"
   ]
  },
  {
   "cell_type": "markdown",
   "id": "0ff7d7f0",
   "metadata": {},
   "source": [
    "## The effects in rich and poor countries (GDP per capita) <a id='poor_rich'></a>"
   ]
  },
  {
   "cell_type": "markdown",
   "id": "56c2e003",
   "metadata": {},
   "source": [
    "We will investigate, if the population exposure is in general greater in poor countries. We will first calculate correlation between population exposure and GDP per capita and then also use k-means to cluster countries using these two variables. For two clusters, we will also perform an A/B test to compare the group characteristics."
   ]
  },
  {
   "cell_type": "markdown",
   "id": "bef3b97e",
   "metadata": {},
   "source": [
    "**Correlation between population exposure and GDP per capita**"
   ]
  },
  {
   "cell_type": "markdown",
   "id": "a7aee063",
   "metadata": {},
   "source": [
    "Read the cleaned data frames from files or use df_exp_summed, df_gdp from above."
   ]
  },
  {
   "cell_type": "code",
   "execution_count": 238,
   "id": "1a9b9f7d",
   "metadata": {},
   "outputs": [],
   "source": [
    "df_exp_summed = pd.read_csv('../exported_dfs/exposures_summed.csv')\n",
    "df_gdp = pd.read_csv('../exported_dfs/gdp_clean.csv')"
   ]
  },
  {
   "cell_type": "markdown",
   "id": "b25fd0e1",
   "metadata": {},
   "source": [
    "First, select the measure we are interested in."
   ]
  },
  {
   "cell_type": "code",
   "execution_count": 239,
   "id": "e8cd8ee8",
   "metadata": {},
   "outputs": [],
   "source": [
    "df_exp_summed = df_exp_summed[df_exp_summed['measure']=='HD_TN_POP_IND'] # HERE SELECT THE MEASURE\n",
    "df_exp_summed = df_exp_summed.drop('measure', axis='columns') # do not need the column any longer"
   ]
  },
  {
   "cell_type": "markdown",
   "id": "becc8918",
   "metadata": {},
   "source": [
    "Merge the data frames for population exposures and GDP per capita. Both data frames contain 'country' column but some names are slightly different, drop them first."
   ]
  },
  {
   "cell_type": "code",
   "execution_count": 240,
   "id": "04be8b83",
   "metadata": {},
   "outputs": [],
   "source": [
    "df_exp_summed.drop('country', axis='columns', inplace=True)\n",
    "df_gdp.drop('country', axis='columns', inplace=True)\n",
    "df_exp_gdp = pd.merge(df_exp_summed, df_gdp, how='inner', on=['ref_area', 'time_period'])"
   ]
  },
  {
   "cell_type": "markdown",
   "id": "557e9bba",
   "metadata": {},
   "source": [
    "The correlation between numerical variables."
   ]
  },
  {
   "cell_type": "code",
   "execution_count": 241,
   "id": "ce4b946e",
   "metadata": {},
   "outputs": [
    {
     "data": {
      "text/html": [
       "<div>\n",
       "<style scoped>\n",
       "    .dataframe tbody tr th:only-of-type {\n",
       "        vertical-align: middle;\n",
       "    }\n",
       "\n",
       "    .dataframe tbody tr th {\n",
       "        vertical-align: top;\n",
       "    }\n",
       "\n",
       "    .dataframe thead th {\n",
       "        text-align: right;\n",
       "    }\n",
       "</style>\n",
       "<table border=\"1\" class=\"dataframe\">\n",
       "  <thead>\n",
       "    <tr style=\"text-align: right;\">\n",
       "      <th></th>\n",
       "      <th>time_period</th>\n",
       "      <th>exposure</th>\n",
       "      <th>gdp</th>\n",
       "    </tr>\n",
       "  </thead>\n",
       "  <tbody>\n",
       "    <tr>\n",
       "      <th>time_period</th>\n",
       "      <td>1.000000</td>\n",
       "      <td>-0.004992</td>\n",
       "      <td>0.013863</td>\n",
       "    </tr>\n",
       "    <tr>\n",
       "      <th>exposure</th>\n",
       "      <td>-0.004992</td>\n",
       "      <td>1.000000</td>\n",
       "      <td>-0.317923</td>\n",
       "    </tr>\n",
       "    <tr>\n",
       "      <th>gdp</th>\n",
       "      <td>0.013863</td>\n",
       "      <td>-0.317923</td>\n",
       "      <td>1.000000</td>\n",
       "    </tr>\n",
       "  </tbody>\n",
       "</table>\n",
       "</div>"
      ],
      "text/plain": [
       "             time_period  exposure       gdp\n",
       "time_period     1.000000 -0.004992  0.013863\n",
       "exposure       -0.004992  1.000000 -0.317923\n",
       "gdp             0.013863 -0.317923  1.000000"
      ]
     },
     "execution_count": 241,
     "metadata": {},
     "output_type": "execute_result"
    }
   ],
   "source": [
    "df_exp_gdp.corr(numeric_only=True)"
   ]
  },
  {
   "cell_type": "markdown",
   "id": "708c25a4",
   "metadata": {},
   "source": [
    "**k-means**"
   ]
  },
  {
   "cell_type": "markdown",
   "id": "c8611be3",
   "metadata": {},
   "source": [
    "The algorithm gives more insightful results when omitting small countries with extremely high GDP per capita and zero population exposure. Drop these countries."
   ]
  },
  {
   "cell_type": "code",
   "execution_count": 242,
   "id": "e9bdafe7",
   "metadata": {},
   "outputs": [],
   "source": [
    "df_exp_gdp = df_exp_gdp[~df_exp_gdp['ref_area'].isin(['LUX', 'BMU', 'LIE', 'MCO'])]"
   ]
  },
  {
   "cell_type": "markdown",
   "id": "f8640502",
   "metadata": {},
   "source": [
    "Group by countries, get average population exposure and GDP per capita to cluster.\n",
    "\n",
    "We can remember that GDP data is only available for the period 2017 - 2021. This is a reasonable time interval to explore, since the averaging supresses fluctuations but all the data is recent and describes the current situation."
   ]
  },
  {
   "cell_type": "code",
   "execution_count": 243,
   "id": "788f41bf",
   "metadata": {},
   "outputs": [],
   "source": [
    "df_exp_gdp_avg = df_exp_gdp.groupby('ref_area')[['exposure', 'gdp']].mean()"
   ]
  },
  {
   "cell_type": "markdown",
   "id": "b5b70200",
   "metadata": {},
   "source": [
    "Create a data frame with numerical columns only."
   ]
  },
  {
   "cell_type": "code",
   "execution_count": 244,
   "id": "ea91ea75",
   "metadata": {},
   "outputs": [],
   "source": [
    "df_num = df_exp_gdp_avg[['exposure', 'gdp']]"
   ]
  },
  {
   "cell_type": "markdown",
   "id": "8076a004",
   "metadata": {},
   "source": [
    "Standardize data (standard deviation of all columns 1, mean 0)."
   ]
  },
  {
   "cell_type": "code",
   "execution_count": 245,
   "id": "7b3b0f64",
   "metadata": {},
   "outputs": [],
   "source": [
    "scaler = StandardScaler()\n",
    "scaler.fit(df_num)\n",
    "df_num_scaled = scaler.transform(df_num) # array of standardized data\n",
    "df_standardized = pd.DataFrame(df_num_scaled, columns=df_num.columns) # data frame from the array"
   ]
  },
  {
   "cell_type": "markdown",
   "id": "e4fc9a32",
   "metadata": {},
   "source": [
    "Optional: Elbow diagram to derive appropriate number of clusters."
   ]
  },
  {
   "cell_type": "code",
   "execution_count": 44,
   "id": "ec30d978",
   "metadata": {},
   "outputs": [],
   "source": [
    "# K = range(2, 10)   # try the fitting with up to 10 clusters\n",
    "# inertia = []\n",
    "# for k in K:\n",
    "#     kmeans = KMeans(n_clusters=k,\n",
    "#                     n_init=10)\n",
    "#     kmeans.fit(df_standardized)\n",
    "#     inertia.append(kmeans.inertia_)\n",
    "\n",
    "# plt.figure(figsize=(16,8))\n",
    "# plt.plot(K, inertia, 'bx-')\n",
    "# plt.xlabel('k')\n",
    "# plt.ylabel('inertia')\n",
    "# plt.xticks(np.arange(min(K), max(K), 1.0))\n",
    "# plt.title('Elbow Diagram')"
   ]
  },
  {
   "cell_type": "markdown",
   "id": "5c6595bb",
   "metadata": {},
   "source": [
    "k-Means (**choose number of clusters here**)"
   ]
  },
  {
   "cell_type": "code",
   "execution_count": 246,
   "id": "b4454aaf",
   "metadata": {},
   "outputs": [
    {
     "name": "stderr",
     "output_type": "stream",
     "text": [
      "D:\\DAsoft\\miniconda3\\lib\\site-packages\\sklearn\\cluster\\_kmeans.py:1412: FutureWarning:\n",
      "\n",
      "The default value of `n_init` will change from 10 to 'auto' in 1.4. Set the value of `n_init` explicitly to suppress the warning\n",
      "\n"
     ]
    },
    {
     "data": {
      "text/html": [
       "<style>#sk-container-id-3 {color: black;}#sk-container-id-3 pre{padding: 0;}#sk-container-id-3 div.sk-toggleable {background-color: white;}#sk-container-id-3 label.sk-toggleable__label {cursor: pointer;display: block;width: 100%;margin-bottom: 0;padding: 0.3em;box-sizing: border-box;text-align: center;}#sk-container-id-3 label.sk-toggleable__label-arrow:before {content: \"▸\";float: left;margin-right: 0.25em;color: #696969;}#sk-container-id-3 label.sk-toggleable__label-arrow:hover:before {color: black;}#sk-container-id-3 div.sk-estimator:hover label.sk-toggleable__label-arrow:before {color: black;}#sk-container-id-3 div.sk-toggleable__content {max-height: 0;max-width: 0;overflow: hidden;text-align: left;background-color: #f0f8ff;}#sk-container-id-3 div.sk-toggleable__content pre {margin: 0.2em;color: black;border-radius: 0.25em;background-color: #f0f8ff;}#sk-container-id-3 input.sk-toggleable__control:checked~div.sk-toggleable__content {max-height: 200px;max-width: 100%;overflow: auto;}#sk-container-id-3 input.sk-toggleable__control:checked~label.sk-toggleable__label-arrow:before {content: \"▾\";}#sk-container-id-3 div.sk-estimator input.sk-toggleable__control:checked~label.sk-toggleable__label {background-color: #d4ebff;}#sk-container-id-3 div.sk-label input.sk-toggleable__control:checked~label.sk-toggleable__label {background-color: #d4ebff;}#sk-container-id-3 input.sk-hidden--visually {border: 0;clip: rect(1px 1px 1px 1px);clip: rect(1px, 1px, 1px, 1px);height: 1px;margin: -1px;overflow: hidden;padding: 0;position: absolute;width: 1px;}#sk-container-id-3 div.sk-estimator {font-family: monospace;background-color: #f0f8ff;border: 1px dotted black;border-radius: 0.25em;box-sizing: border-box;margin-bottom: 0.5em;}#sk-container-id-3 div.sk-estimator:hover {background-color: #d4ebff;}#sk-container-id-3 div.sk-parallel-item::after {content: \"\";width: 100%;border-bottom: 1px solid gray;flex-grow: 1;}#sk-container-id-3 div.sk-label:hover label.sk-toggleable__label {background-color: #d4ebff;}#sk-container-id-3 div.sk-serial::before {content: \"\";position: absolute;border-left: 1px solid gray;box-sizing: border-box;top: 0;bottom: 0;left: 50%;z-index: 0;}#sk-container-id-3 div.sk-serial {display: flex;flex-direction: column;align-items: center;background-color: white;padding-right: 0.2em;padding-left: 0.2em;position: relative;}#sk-container-id-3 div.sk-item {position: relative;z-index: 1;}#sk-container-id-3 div.sk-parallel {display: flex;align-items: stretch;justify-content: center;background-color: white;position: relative;}#sk-container-id-3 div.sk-item::before, #sk-container-id-3 div.sk-parallel-item::before {content: \"\";position: absolute;border-left: 1px solid gray;box-sizing: border-box;top: 0;bottom: 0;left: 50%;z-index: -1;}#sk-container-id-3 div.sk-parallel-item {display: flex;flex-direction: column;z-index: 1;position: relative;background-color: white;}#sk-container-id-3 div.sk-parallel-item:first-child::after {align-self: flex-end;width: 50%;}#sk-container-id-3 div.sk-parallel-item:last-child::after {align-self: flex-start;width: 50%;}#sk-container-id-3 div.sk-parallel-item:only-child::after {width: 0;}#sk-container-id-3 div.sk-dashed-wrapped {border: 1px dashed gray;margin: 0 0.4em 0.5em 0.4em;box-sizing: border-box;padding-bottom: 0.4em;background-color: white;}#sk-container-id-3 div.sk-label label {font-family: monospace;font-weight: bold;display: inline-block;line-height: 1.2em;}#sk-container-id-3 div.sk-label-container {text-align: center;}#sk-container-id-3 div.sk-container {/* jupyter's `normalize.less` sets `[hidden] { display: none; }` but bootstrap.min.css set `[hidden] { display: none !important; }` so we also need the `!important` here to be able to override the default hidden behavior on the sphinx rendered scikit-learn.org. See: https://github.com/scikit-learn/scikit-learn/issues/21755 */display: inline-block !important;position: relative;}#sk-container-id-3 div.sk-text-repr-fallback {display: none;}</style><div id=\"sk-container-id-3\" class=\"sk-top-container\"><div class=\"sk-text-repr-fallback\"><pre>KMeans(n_clusters=2)</pre><b>In a Jupyter environment, please rerun this cell to show the HTML representation or trust the notebook. <br />On GitHub, the HTML representation is unable to render, please try loading this page with nbviewer.org.</b></div><div class=\"sk-container\" hidden><div class=\"sk-item\"><div class=\"sk-estimator sk-toggleable\"><input class=\"sk-toggleable__control sk-hidden--visually\" id=\"sk-estimator-id-3\" type=\"checkbox\" checked><label for=\"sk-estimator-id-3\" class=\"sk-toggleable__label sk-toggleable__label-arrow\">KMeans</label><div class=\"sk-toggleable__content\"><pre>KMeans(n_clusters=2)</pre></div></div></div></div></div>"
      ],
      "text/plain": [
       "KMeans(n_clusters=2)"
      ]
     },
     "execution_count": 246,
     "metadata": {},
     "output_type": "execute_result"
    }
   ],
   "source": [
    "kmeans = KMeans(n_clusters=2) # CHOOSE NO OF CLUSTERS\n",
    "kmeans.fit(df_standardized)"
   ]
  },
  {
   "cell_type": "markdown",
   "id": "d595cb14",
   "metadata": {},
   "source": [
    "Defining the clusters (aray of labels)."
   ]
  },
  {
   "cell_type": "code",
   "execution_count": 247,
   "id": "41336357",
   "metadata": {},
   "outputs": [],
   "source": [
    "clusters = kmeans.predict(df_standardized)"
   ]
  },
  {
   "cell_type": "markdown",
   "id": "b01f6123",
   "metadata": {},
   "source": [
    "Numbers of members in each cluster."
   ]
  },
  {
   "cell_type": "code",
   "execution_count": 248,
   "id": "5c606900",
   "metadata": {},
   "outputs": [
    {
     "data": {
      "text/plain": [
       "0    97\n",
       "1    96\n",
       "Name: count, dtype: int64"
      ]
     },
     "execution_count": 248,
     "metadata": {},
     "output_type": "execute_result"
    }
   ],
   "source": [
    "pd.Series(clusters).value_counts()"
   ]
  },
  {
   "cell_type": "markdown",
   "id": "565ed6e7",
   "metadata": {},
   "source": [
    "Adding clusters to the original data frame."
   ]
  },
  {
   "cell_type": "code",
   "execution_count": 249,
   "id": "9e1f744b",
   "metadata": {},
   "outputs": [],
   "source": [
    "df_clustered = df_exp_gdp_avg.copy()   # copy of the original data frame\n",
    "df_clustered['cluster'] = clusters   # new column with cluster labels\n",
    "df_clustered['cluster'] = df_clustered['cluster'].astype(str)   # labels as string, useful for visualizations\n",
    "df_clustered = df_clustered.reset_index()"
   ]
  },
  {
   "cell_type": "markdown",
   "id": "c9184aef",
   "metadata": {},
   "source": [
    "Optional: save the data frame into a file."
   ]
  },
  {
   "cell_type": "code",
   "execution_count": 251,
   "id": "901b83b6",
   "metadata": {},
   "outputs": [],
   "source": [
    "# df_clustered.to_csv('../exported_dfs/clusters.csv', index=False)"
   ]
  },
  {
   "cell_type": "markdown",
   "id": "bdbf186f",
   "metadata": {},
   "source": [
    "**For 2 clusters: A/B test**"
   ]
  },
  {
   "cell_type": "markdown",
   "id": "86dfbf19",
   "metadata": {},
   "source": [
    "Making separate data frames for each custer to compare."
   ]
  },
  {
   "cell_type": "code",
   "execution_count": 252,
   "id": "4c72d222",
   "metadata": {},
   "outputs": [],
   "source": [
    "df_cluster_0 = df_clustered[df_clustered['cluster']=='0']\n",
    "df_cluster_1 = df_clustered[df_clustered['cluster']=='1']"
   ]
  },
  {
   "cell_type": "markdown",
   "id": "d653ea7c",
   "metadata": {},
   "source": [
    "Two-tailed A/B test, p-value."
   ]
  },
  {
   "cell_type": "code",
   "execution_count": 253,
   "id": "a97687ba",
   "metadata": {},
   "outputs": [
    {
     "name": "stdout",
     "output_type": "stream",
     "text": [
      "GDP: -7.229990853307366 1.1314951828134623e-11\n",
      "Exposure: 20.573017749248752 2.468916104500439e-50\n"
     ]
    }
   ],
   "source": [
    "test_statistic, pvalue = stats.ttest_ind(df_cluster_0['gdp'], df_cluster_1['gdp'])\n",
    "print ('GDP:', test_statistic, pvalue)\n",
    "\n",
    "test_statistic, pvalue = stats.ttest_ind(df_cluster_0['exposure'], df_cluster_1['exposure'])\n",
    "print ('Exposure:', test_statistic, pvalue)"
   ]
  },
  {
   "cell_type": "code",
   "execution_count": null,
   "id": "f1118fc2",
   "metadata": {},
   "outputs": [],
   "source": []
  }
 ],
 "metadata": {
  "kernelspec": {
   "display_name": "Python 3 (ipykernel)",
   "language": "python",
   "name": "python3"
  },
  "language_info": {
   "codemirror_mode": {
    "name": "ipython",
    "version": 3
   },
   "file_extension": ".py",
   "mimetype": "text/x-python",
   "name": "python",
   "nbconvert_exporter": "python",
   "pygments_lexer": "ipython3",
   "version": "3.10.10"
  }
 },
 "nbformat": 4,
 "nbformat_minor": 5
}
