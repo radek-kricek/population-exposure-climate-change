{
 "cells": [
  {
   "cell_type": "markdown",
   "id": "cede6188",
   "metadata": {},
   "source": [
    "# How does climate change feel around the globe?\n",
    "# The final project from Spiced Academy\n",
    "# Notebook for data cleaning"
   ]
  },
  {
   "cell_type": "markdown",
   "id": "1138ae40",
   "metadata": {},
   "source": [
    "Check analysis.ipynb for data analysis.\n",
    "\n",
    "Check vizzes.ipynb for generating visualizations."
   ]
  },
  {
   "cell_type": "markdown",
   "id": "c316a3ab",
   "metadata": {},
   "source": [
    "## Contents"
   ]
  },
  {
   "cell_type": "markdown",
   "id": "fdf25f6c",
   "metadata": {},
   "source": [
    "[The questions](#questions)\n",
    "\n",
    "[Importing libraries and packages](#import)\n",
    "    \n",
    "[Cleaning OECD data: Population exposure to extreme temperatures](#clean_oecd_1)\n",
    "\n",
    "[Cleaning OECD data: Historical populations of countries](#clean_oecd_2)\n",
    "\n",
    "[Cleaning UN data: GDP per capita](#clean_un)\n",
    "\n",
    "[Cleaning NASA data: temperature anomaly](#clean_nasa)"
   ]
  },
  {
   "cell_type": "markdown",
   "id": "7e7ebb1c",
   "metadata": {},
   "source": [
    "## The questions <a id='questions'></a>"
   ]
  },
  {
   "cell_type": "markdown",
   "id": "9f6426f1",
   "metadata": {},
   "source": [
    "In this project, I attempt to answer these pressing questions related to periods of heat which are ever more frequent in virtually every part of the wolrd:\n",
    "1. What percentage of people has direct experience with extreme heat?\n",
    "2. Does this number change over time?\n",
    "3. How much is it related to the global temperature anomaly?\n",
    "4. Is there a clear link between wealth and heat exposure of populations?"
   ]
  },
  {
   "cell_type": "markdown",
   "id": "43b26c1f",
   "metadata": {},
   "source": [
    "## Importing libraries and packages <a id='import'></a>"
   ]
  },
  {
   "cell_type": "code",
   "execution_count": 40,
   "id": "806e6e51",
   "metadata": {},
   "outputs": [],
   "source": [
    "import pandas as pd   # df workflow\n",
    "import pycountry   # to get a dict between country names and alpha3 codes"
   ]
  },
  {
   "cell_type": "markdown",
   "id": "c24289ad",
   "metadata": {},
   "source": [
    "## Cleaning OECD data: Population exposure to extreme temperatures <a id='clean_oecd_1'></a>"
   ]
  },
  {
   "cell_type": "markdown",
   "id": "e6a8b87f",
   "metadata": {},
   "source": [
    "We load the data about population exposures and perform cleaning for further analysis and integration with other datasets.\n",
    "\n",
    "Years included: 1979 - 2021.\n",
    "\n",
    "We will be interested mainly in four measures, describing the population exposure, although there is more measures in the dataset.\n",
    "\n",
    "- 'HD_TN_POP_IND' gives the exposures to hot summer days (over 35 °C) AND tropical nights (over 20 °C).\n",
    "\n",
    "- 'HD_POP_IND' is the exposure to hot summer days.\n",
    "\n",
    "- 'TN_POP_IND' is the exposure to tropical nights.\n",
    "\n",
    "- 'ID_POP_IND' is the exposure to icing days (doesn't exceed 0 °C)."
   ]
  },
  {
   "cell_type": "code",
   "execution_count": 41,
   "id": "fbcfa164",
   "metadata": {},
   "outputs": [],
   "source": [
    "df_exp = pd.read_csv('../data/oecd_population_exposure_to_extreme_temp.csv')"
   ]
  },
  {
   "cell_type": "markdown",
   "id": "fb812836",
   "metadata": {},
   "source": [
    "Basic exploration. The table contains a lot of unnecessary information which I will drop or filter out."
   ]
  },
  {
   "cell_type": "code",
   "execution_count": 42,
   "id": "323e9930",
   "metadata": {},
   "outputs": [],
   "source": [
    "df_exp.head()"
   ]
  },
  {
   "cell_type": "code",
   "execution_count": 43,
   "id": "26020b1b",
   "metadata": {},
   "outputs": [],
   "source": [
    "df_exp.info()"
   ]
  },
  {
   "cell_type": "code",
   "execution_count": 44,
   "id": "7ad89ca2",
   "metadata": {},
   "outputs": [],
   "source": [
    "df_exp['REF_AREA'].unique()"
   ]
  },
  {
   "cell_type": "code",
   "execution_count": 45,
   "id": "270333c1",
   "metadata": {},
   "outputs": [],
   "source": [
    "df_exp['MEASURE'].unique()"
   ]
  },
  {
   "cell_type": "markdown",
   "id": "8d5b8a66",
   "metadata": {},
   "source": [
    "Choose only the relevant columns.\n",
    "\n",
    "Reference area for individual countries (contains also provinces and greater regions of the world), measure (later we choose population exposure), duration (how many weeks per year did the phenomenon last), time period (from which year is the data), observed value."
   ]
  },
  {
   "cell_type": "code",
   "execution_count": 46,
   "id": "a2614dcf",
   "metadata": {},
   "outputs": [],
   "source": [
    "df_exp = df_exp[['REF_AREA','MEASURE','DURATION','TIME_PERIOD','OBS_VALUE']]"
   ]
  },
  {
   "cell_type": "markdown",
   "id": "3b7bd18d",
   "metadata": {},
   "source": [
    "Rename the columns to standard format, drop possible empty spaces."
   ]
  },
  {
   "cell_type": "code",
   "execution_count": 47,
   "id": "bbdec4e5",
   "metadata": {},
   "outputs": [],
   "source": [
    "df_exp.columns = df_exp.columns.str.lower().str.strip()"
   ]
  },
  {
   "cell_type": "markdown",
   "id": "365a3993",
   "metadata": {},
   "source": [
    "When reference area contains provinces, the abbreviation of a respective country ends with numerical characters. We are not interested in provinces and they occupy big part of the data frame, drop these lines."
   ]
  },
  {
   "cell_type": "code",
   "execution_count": 48,
   "id": "de2502b4",
   "metadata": {},
   "outputs": [],
   "source": [
    "df_exp = df_exp.loc[~(df_exp['ref_area'].str.endswith(('0', '1', '2', '3', '4', '5', '6', '7', '8', '9')))]\n",
    "df_exp.reset_index(drop=True, inplace=True)"
   ]
  },
  {
   "cell_type": "markdown",
   "id": "148dd59e",
   "metadata": {},
   "source": [
    "Some tropical countries reported zero population exposures. This data is most likely flawed and we drop these countries."
   ]
  },
  {
   "cell_type": "code",
   "execution_count": 49,
   "id": "e10be9fd",
   "metadata": {},
   "outputs": [],
   "source": [
    "df_exp = df_exp[~df_exp['ref_area'].isin(['BDI', 'RWA', 'GNQ', 'PRI', 'BHS'])]\n",
    "df_exp.reset_index(drop=True, inplace=True)"
   ]
  },
  {
   "cell_type": "markdown",
   "id": "6d8835d1",
   "metadata": {},
   "source": [
    "Now let us create a column with country names based on the alpha3 abbreviations.\n",
    "\n",
    "First, make a dictionary to translate countries alpha3 abbreviations."
   ]
  },
  {
   "cell_type": "code",
   "execution_count": 50,
   "id": "cf1d4cdd",
   "metadata": {},
   "outputs": [],
   "source": [
    "country_alpha3 = {}\n",
    "for country in pycountry.countries:\n",
    "    country_alpha3[country.alpha_3] = country.name"
   ]
  },
  {
   "cell_type": "markdown",
   "id": "d185fb5d",
   "metadata": {},
   "source": [
    "Apply to create a new column with country names."
   ]
  },
  {
   "cell_type": "code",
   "execution_count": 51,
   "id": "dbfe87fd",
   "metadata": {},
   "outputs": [],
   "source": [
    "df_exp['country'] = df_exp['ref_area'].map(country_alpha3)   # new column with country names\n",
    "df_exp = df_exp[['ref_area', 'country', 'measure', 'duration', 'time_period', 'obs_value']]   # reorder columns"
   ]
  },
  {
   "cell_type": "markdown",
   "id": "531f350d",
   "metadata": {},
   "source": [
    "Save the data frame into a file."
   ]
  },
  {
   "cell_type": "code",
   "execution_count": 52,
   "id": "61694965",
   "metadata": {},
   "outputs": [],
   "source": [
    "df_exp.to_csv('../exported_dfs/exposures_all_durations.csv', index=False)"
   ]
  },
  {
   "cell_type": "markdown",
   "id": "4f37e6fd",
   "metadata": {},
   "source": [
    "The data frame before, with separate durations, is useful for example for investigating trends in greater detail.\n",
    "\n",
    "**For some purposes, we will be using the sum over all durations. Let us make such a grouped data frame.**\n",
    "\n",
    "This can be done only for measure expressing percentages of population, so we will filter tha data frame for those first."
   ]
  },
  {
   "cell_type": "code",
   "execution_count": 53,
   "id": "f47aef82",
   "metadata": {},
   "outputs": [],
   "source": [
    "df_exp_summed = df_exp[df_exp['measure'].isin(['HD_POP_IND', 'TN_POP_IND', 'HD_TN_POP_IND', 'ID_POP_IND'])]"
   ]
  },
  {
   "cell_type": "markdown",
   "id": "9b57a831",
   "metadata": {},
   "source": [
    "Now it is reasonable to rename the column 'obs_value' to 'exposure'."
   ]
  },
  {
   "cell_type": "code",
   "execution_count": 54,
   "id": "5c3d4de5",
   "metadata": {},
   "outputs": [],
   "source": [
    "df_exp_summed.rename(columns={'obs_value':'exposure'}, inplace=True)"
   ]
  },
  {
   "cell_type": "markdown",
   "id": "ec3933b0",
   "metadata": {},
   "source": [
    "We can group and sum up exposures over all durations."
   ]
  },
  {
   "cell_type": "code",
   "execution_count": 55,
   "id": "6a912091",
   "metadata": {},
   "outputs": [],
   "source": [
    "df_exp_summed = df_exp_summed.groupby(['ref_area', 'country', 'measure', 'time_period'], as_index=False)['exposure'].sum()"
   ]
  },
  {
   "cell_type": "markdown",
   "id": "22039f35",
   "metadata": {},
   "source": [
    "The result sometimes slightly exceeds 100 % (up to 104.5 %). In the case, round the summed exposure to 100 %."
   ]
  },
  {
   "cell_type": "code",
   "execution_count": 56,
   "id": "86e46cb7",
   "metadata": {},
   "outputs": [],
   "source": [
    "df_exp_summed.loc[df_exp_summed['exposure']>100, 'exposure'] = 100"
   ]
  },
  {
   "cell_type": "markdown",
   "id": "32d669b5",
   "metadata": {},
   "source": [
    "Save the data frame into a file."
   ]
  },
  {
   "cell_type": "code",
   "execution_count": 57,
   "id": "43ad5aa1",
   "metadata": {},
   "outputs": [],
   "source": [
    "df_exp_summed.to_csv('../exported_dfs/exposures_summed.csv', index=False)"
   ]
  },
  {
   "cell_type": "markdown",
   "id": "42e545c7",
   "metadata": {},
   "source": [
    "## Cleaning OECD data: Historical populations of countries <a id='clean_oecd_2'></a>"
   ]
  },
  {
   "cell_type": "markdown",
   "id": "179018d6",
   "metadata": {},
   "source": [
    "We load the data about population of countries in the previous years and perform cleaning for further analysis and integration with other datasets.\n",
    "\n",
    "Years included: 1950 - 2021."
   ]
  },
  {
   "cell_type": "code",
   "execution_count": 58,
   "id": "a0836607",
   "metadata": {},
   "outputs": [],
   "source": [
    "df_pop = pd.read_csv('../data/oecd_historical_population_data.csv')"
   ]
  },
  {
   "cell_type": "markdown",
   "id": "aaf4dcbd",
   "metadata": {},
   "source": [
    "Basic exploration. Also here, only relevant columns will be filtered."
   ]
  },
  {
   "cell_type": "code",
   "execution_count": 59,
   "id": "1afee5f3",
   "metadata": {},
   "outputs": [],
   "source": [
    "df_pop.head()"
   ]
  },
  {
   "cell_type": "code",
   "execution_count": 60,
   "id": "6e8bbaea",
   "metadata": {},
   "outputs": [],
   "source": [
    "df_pop.info()"
   ]
  },
  {
   "cell_type": "markdown",
   "id": "65943e26",
   "metadata": {},
   "source": [
    "Choose only the relevant columns.\n",
    "\n",
    "Reference area (country), measure (population), sex and age (to filter fot total values later), time period (year of the observation), observed value."
   ]
  },
  {
   "cell_type": "code",
   "execution_count": 61,
   "id": "f740a32e",
   "metadata": {},
   "outputs": [],
   "source": [
    "df_pop = df_pop.drop(['DATAFLOW', 'TIME_HORIZ', 'OBS_STATUS', 'UNIT_MULT', 'DECIMALS'], axis='columns')"
   ]
  },
  {
   "cell_type": "markdown",
   "id": "7983bba4",
   "metadata": {},
   "source": [
    "Rename the columns to standard format, drop possible empty spaces."
   ]
  },
  {
   "cell_type": "code",
   "execution_count": 62,
   "id": "5b82b294",
   "metadata": {},
   "outputs": [],
   "source": [
    "df_pop.columns = df_pop.columns.str.lower().str.strip()\n",
    "df_pop.rename(columns={'obs_value':'population'}, inplace=True)   # more informative name"
   ]
  },
  {
   "cell_type": "markdown",
   "id": "99d5648b",
   "metadata": {},
   "source": [
    "Keep only rows for total population across sexes and ages and drop the unnecessary columns after."
   ]
  },
  {
   "cell_type": "code",
   "execution_count": 63,
   "id": "88ee4836",
   "metadata": {},
   "outputs": [],
   "source": [
    "df_pop = df_pop[(df_pop['measure']=='POP') & (df_pop['unit_measure']=='PS') & (df_pop['sex']=='_T') &\\\n",
    "                (df_pop['age']=='_T')]\n",
    "df_pop.reset_index(drop=True, inplace=True)\n",
    "df_pop = df_pop.drop(['measure', 'unit_measure', 'sex', 'age'], axis='columns')"
   ]
  },
  {
   "cell_type": "markdown",
   "id": "784ff5c0",
   "metadata": {},
   "source": [
    "Save the data frame into a file."
   ]
  },
  {
   "cell_type": "code",
   "execution_count": 64,
   "id": "11d2c7bf",
   "metadata": {},
   "outputs": [],
   "source": [
    "df_pop.to_csv('../exported_dfs/populations_clean.csv', index=False)"
   ]
  },
  {
   "cell_type": "markdown",
   "id": "78d9ec9f",
   "metadata": {},
   "source": [
    "## Cleaning UN data: GDP per capita <a id='clean_un'></a>"
   ]
  },
  {
   "cell_type": "markdown",
   "id": "e606217b",
   "metadata": {},
   "source": [
    "We load the data about GDP per capita of countries in the previous years and perform cleaning for further analysis and integration with other datasets.\n",
    "\n",
    "Years included: 2017 - 2021.\n"
   ]
  },
  {
   "cell_type": "code",
   "execution_count": 65,
   "id": "72cf0066",
   "metadata": {},
   "outputs": [],
   "source": [
    "df_gdp = pd.read_csv('../data/un_gdp_per_capita_current_prices.csv')"
   ]
  },
  {
   "cell_type": "markdown",
   "id": "b0ec7804",
   "metadata": {},
   "source": [
    "Basic exploration. The 'Item' column is not relevant."
   ]
  },
  {
   "cell_type": "code",
   "execution_count": 66,
   "id": "5fcbb840",
   "metadata": {},
   "outputs": [],
   "source": [
    "df_gdp.head()"
   ]
  },
  {
   "cell_type": "code",
   "execution_count": 67,
   "id": "8ea2e066",
   "metadata": {},
   "outputs": [],
   "source": [
    "df_gdp.info()"
   ]
  },
  {
   "cell_type": "markdown",
   "id": "01429573",
   "metadata": {},
   "source": [
    "Choose only the relevant columns and rename."
   ]
  },
  {
   "cell_type": "code",
   "execution_count": 68,
   "id": "76ede963",
   "metadata": {},
   "outputs": [],
   "source": [
    "df_gdp = df_gdp.drop('Item', axis='columns')\n",
    "df_gdp.columns = ['country', 'time_period', 'gdp']"
   ]
  },
  {
   "cell_type": "markdown",
   "id": "e326a651",
   "metadata": {},
   "source": [
    "Change 'gdp' column type to float."
   ]
  },
  {
   "cell_type": "code",
   "execution_count": 69,
   "id": "93a27ab3",
   "metadata": {},
   "outputs": [],
   "source": [
    "df_gdp['gdp'] = df_gdp['gdp'].astype('float')"
   ]
  },
  {
   "cell_type": "markdown",
   "id": "3da53780",
   "metadata": {},
   "source": [
    "We are using alpha3 abbreviations of countries to merge different data frames but these are not present in the UN data.\n",
    "\n",
    "Create an inversed dictionary (see cleaning OECD data) to translate countries in the UN dataset to alpha3 abbreviations."
   ]
  },
  {
   "cell_type": "code",
   "execution_count": 70,
   "id": "760f57b4",
   "metadata": {},
   "outputs": [],
   "source": [
    "country_alpha3_inversed = {}\n",
    "for country in pycountry.countries:\n",
    "    country_alpha3_inversed[country.name] = country.alpha_3"
   ]
  },
  {
   "cell_type": "markdown",
   "id": "b039300e",
   "metadata": {},
   "source": [
    "Some country names in the UN data frame are different than in the pycountries library, we need to rename them."
   ]
  },
  {
   "cell_type": "code",
   "execution_count": 71,
   "id": "3d4d514c",
   "metadata": {},
   "outputs": [],
   "source": [
    "old_keys = ['China', 'United Kingdom', 'Turkey', \"Korea, Democratic People's Republic of\", \"Korea, Republic of\",\\\n",
    "           'Venezuela, Bolivarian Republic of', 'Bolivia, Plurinational State of',\\\n",
    "            'Congo, The Democratic Republic of the', 'Tanzania, United Republic of', 'Moldova, Republic of',\\\n",
    "            'North Macedonia']\n",
    "new_keys = ['China (mainland)', 'United Kingdom of Great Britain and Northern Ireland', 'Türkiye',\\\n",
    "           \"Democratic People's Republic of Korea\", \"Republic of Korea\", 'Venezuela (Bolivarian Republic of)',\\\n",
    "           'Bolivia (Plurinational State of)', 'Democratic Republic of the Congo',\\\n",
    "            'United Republic of Tanzania: Mainland', 'Republic of Moldova', 'Republic of North Macedonia']\n",
    "\n",
    "for key in range(len(new_keys)):\n",
    "    old_key = old_keys[key]\n",
    "    new_key = new_keys[key]\n",
    "    country_alpha3_inversed[new_key] = country_alpha3_inversed.pop(old_key)"
   ]
  },
  {
   "cell_type": "markdown",
   "id": "8d2d3642",
   "metadata": {},
   "source": [
    "Create the column with alpha3 abbreviations.\n"
   ]
  },
  {
   "cell_type": "code",
   "execution_count": 72,
   "id": "654605bd",
   "metadata": {},
   "outputs": [],
   "source": [
    "df_gdp['ref_area'] = df_gdp['country'].map(country_alpha3_inversed)\n",
    "df_gdp = df_gdp[['ref_area', 'country', 'time_period', 'gdp']]   # redorder columns"
   ]
  },
  {
   "cell_type": "markdown",
   "id": "162398da",
   "metadata": {},
   "source": [
    "Save the data frame into a file."
   ]
  },
  {
   "cell_type": "code",
   "execution_count": 73,
   "id": "e09e490f",
   "metadata": {},
   "outputs": [],
   "source": [
    "df_gdp.to_csv('../exported_dfs/gdp_clean.csv', index=False)"
   ]
  },
  {
   "cell_type": "markdown",
   "id": "20a56777",
   "metadata": {},
   "source": [
    "## Cleaning NASA data: temperature anomaly <a id='clean_nasa'></a>"
   ]
  },
  {
   "cell_type": "markdown",
   "id": "756f4478",
   "metadata": {},
   "source": [
    "We load the data about temperature anomaly and perform cleaning for further analysis and integration with other datasets.\n",
    "\n",
    "Years included: 1880 - 2023.\n",
    "\n",
    "Monthly temperature anomaly, compared with the mean temperature from 1951-1980.\n"
   ]
  },
  {
   "cell_type": "code",
   "execution_count": 74,
   "id": "f7d4a95c",
   "metadata": {},
   "outputs": [],
   "source": [
    "df_temp_anomaly = pd.read_csv('../data/nasa_global_mean_temperature_anomaly.csv', skiprows=1)"
   ]
  },
  {
   "cell_type": "code",
   "execution_count": 75,
   "id": "656a2a38",
   "metadata": {},
   "outputs": [],
   "source": [
    "df_temp_anomaly.head()"
   ]
  },
  {
   "cell_type": "code",
   "execution_count": 76,
   "id": "bfea99e3",
   "metadata": {},
   "outputs": [],
   "source": [
    "df_temp_anomaly.info()"
   ]
  },
  {
   "cell_type": "code",
   "execution_count": 77,
   "id": "868c71dc",
   "metadata": {},
   "outputs": [],
   "source": [
    "df_temp_anomaly.describe()"
   ]
  },
  {
   "cell_type": "markdown",
   "id": "cbd2a516",
   "metadata": {},
   "source": [
    "Choose only relevant columns (year and monthly anomalies) and rename.\n"
   ]
  },
  {
   "cell_type": "code",
   "execution_count": 78,
   "id": "54009162",
   "metadata": {},
   "outputs": [],
   "source": [
    "df_temp_anomaly = df_temp_anomaly.iloc[:,0:13]\n",
    "df_temp_anomaly.columns = df_temp_anomaly.columns.str.lower().str.strip()"
   ]
  },
  {
   "cell_type": "markdown",
   "id": "b2038f10",
   "metadata": {},
   "source": [
    "Choose only the relevant years (rows)."
   ]
  },
  {
   "cell_type": "code",
   "execution_count": 79,
   "id": "28d89254",
   "metadata": {},
   "outputs": [],
   "source": [
    "df_temp_anomaly = df_temp_anomaly[df_temp_anomaly['year'].between(1979,2021)]\n",
    "df_temp_anomaly = df_temp_anomaly.reset_index(drop=True)"
   ]
  },
  {
   "cell_type": "markdown",
   "id": "4461a37b",
   "metadata": {},
   "source": [
    "Change data type to floats to perform calculations."
   ]
  },
  {
   "cell_type": "code",
   "execution_count": 80,
   "id": "36a7536c",
   "metadata": {},
   "outputs": [],
   "source": [
    "df_temp_anomaly[df_temp_anomaly.columns[1:13]] = df_temp_anomaly[df_temp_anomaly.columns[1:13]].astype(float)"
   ]
  },
  {
   "cell_type": "markdown",
   "id": "3c4860a2",
   "metadata": {},
   "source": [
    "Add a column with average anomalies for every year and keep only these two columns.\n"
   ]
  },
  {
   "cell_type": "code",
   "execution_count": 81,
   "id": "3f267607",
   "metadata": {},
   "outputs": [],
   "source": [
    "df_temp_anomaly['avg_anomaly'] = df_temp_anomaly.iloc[:, 1:].mean(axis=1)\n",
    "df_temp_anomaly = df_temp_anomaly[['year', 'avg_anomaly']]"
   ]
  },
  {
   "cell_type": "markdown",
   "id": "621a34ae",
   "metadata": {},
   "source": [
    "Save the data frame into a file."
   ]
  },
  {
   "cell_type": "code",
   "execution_count": 82,
   "id": "ba2bb3b9",
   "metadata": {},
   "outputs": [],
   "source": [
    "df_temp_anomaly.to_csv('../exported_dfs/temp_anomaly_clean.csv', index=False)"
   ]
  },
  {
   "cell_type": "code",
   "execution_count": null,
   "id": "25e817a0",
   "metadata": {},
   "outputs": [],
   "source": []
  }
 ],
 "metadata": {
  "kernelspec": {
   "display_name": "Python 3 (ipykernel)",
   "language": "python",
   "name": "python3"
  },
  "language_info": {
   "codemirror_mode": {
    "name": "ipython",
    "version": 3
   },
   "file_extension": ".py",
   "mimetype": "text/x-python",
   "name": "python",
   "nbconvert_exporter": "python",
   "pygments_lexer": "ipython3",
   "version": "3.10.10"
  }
 },
 "nbformat": 4,
 "nbformat_minor": 5
}
