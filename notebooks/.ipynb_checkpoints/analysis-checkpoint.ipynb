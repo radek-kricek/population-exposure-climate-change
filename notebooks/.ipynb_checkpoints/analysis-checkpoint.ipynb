{
 "cells": [
  {
   "cell_type": "markdown",
   "id": "5adcd93e",
   "metadata": {},
   "source": [
    "# How does climate change feel around the globe?\n",
    "# The final project from Spiced Academy\n",
    "# Notebook for analysis"
   ]
  },
  {
   "cell_type": "markdown",
   "id": "ea9438a0",
   "metadata": {},
   "source": [
    "Check cleaning.ipynb for data cleaning.\n",
    "\n",
    "Check vizzes.ipynb for generating visualizations."
   ]
  },
  {
   "cell_type": "markdown",
   "id": "e97fb0fe",
   "metadata": {},
   "source": [
    "## Contents"
   ]
  },
  {
   "cell_type": "markdown",
   "id": "738e487c",
   "metadata": {},
   "source": [
    "[The questions](#questions)\n",
    "\n",
    "[Importing libraries and packages](#import)\n",
    "\n",
    "[Correlation between population exposure and time](#corr_pop_time)\n",
    "\n",
    "[Exposure change for the whole world](#exp_world)\n",
    "\n",
    "[Temperature vs exposure worldwide](#temp_exp)\n",
    "\n",
    "[The effects in rich and poor countries (GDP per capita)](#poor_rich)"
   ]
  },
  {
   "cell_type": "markdown",
   "id": "2dfa8238",
   "metadata": {},
   "source": [
    "## The questions <a id='questions'></a>"
   ]
  },
  {
   "cell_type": "markdown",
   "id": "0e52dcd8",
   "metadata": {},
   "source": [
    "In this project, I attempt to answer these pressing questions related to periods of heat which are ever more frequent in virtually every part of the wolrd:\n",
    "1. What percentage of people has direct experience with extreme heat?\n",
    "2. Does this number change over time?\n",
    "3. How much is it related to the global temperature anomaly?\n",
    "4. Is there a clear link between wealth and heat exposure of populations?"
   ]
  },
  {
   "cell_type": "markdown",
   "id": "b42ad7a3",
   "metadata": {},
   "source": [
    "## Importing libraries and packages <a id='import'></a>"
   ]
  },
  {
   "cell_type": "code",
   "execution_count": 1,
   "id": "ea7c99bf",
   "metadata": {},
   "outputs": [],
   "source": [
    "import pandas as pd   # df workflow\n",
    "\n",
    "# for clustering\n",
    "from sklearn.preprocessing import StandardScaler\n",
    "from sklearn.cluster import KMeans\n",
    "\n",
    "from scipy import stats   # for A/B test"
   ]
  },
  {
   "cell_type": "markdown",
   "id": "3a5ecfd6",
   "metadata": {},
   "source": [
    "## Correlation between population exposure and time <a id='corr_pop_time'></a>"
   ]
  },
  {
   "cell_type": "markdown",
   "id": "b65bcf76",
   "metadata": {},
   "source": [
    "We are going to calculate correlation between population exposure and time for individual countries.\n",
    "\n",
    "Read the cleaned data frame from a file.\n"
   ]
  },
  {
   "cell_type": "code",
   "execution_count": 2,
   "id": "3dc19ec4",
   "metadata": {},
   "outputs": [],
   "source": [
    "df_analyze_corr = pd.read_csv('../exported_dfs/exposures_summed.csv')"
   ]
  },
  {
   "cell_type": "markdown",
   "id": "c85eb1ab",
   "metadata": {},
   "source": [
    "Keep only the lines where 'measure' contains data about population exposures.\n"
   ]
  },
  {
   "cell_type": "code",
   "execution_count": 3,
   "id": "1430776f",
   "metadata": {},
   "outputs": [],
   "source": [
    "df_analyze_corr =\\\n",
    "df_analyze_corr.loc[~(df_analyze_corr['measure'].str.contains('TEMP') |\\\n",
    "                      df_analyze_corr['measure'].str.contains('UTCI_POP_IND'))]\n",
    "df_analyze_corr.reset_index(drop=True, inplace=True)"
   ]
  },
  {
   "cell_type": "markdown",
   "id": "b0f30421",
   "metadata": {},
   "source": [
    "We need a sum of exposures for all durations, therefore group by reference area, measure and time period and calculate the sum."
   ]
  },
  {
   "cell_type": "code",
   "execution_count": 5,
   "id": "2cdef0e8",
   "metadata": {},
   "outputs": [],
   "source": [
    "df_analyze_corr = df_analyze_corr.groupby(['ref_area', 'measure', 'time_period'], as_index=False)['exposure'].sum()"
   ]
  },
  {
   "cell_type": "markdown",
   "id": "c869c288",
   "metadata": {},
   "source": [
    "**The actual correlations.**\n",
    "\n",
    "Below, select the measure in which we are interested."
   ]
  },
  {
   "cell_type": "code",
   "execution_count": 6,
   "id": "d9d40903",
   "metadata": {},
   "outputs": [],
   "source": [
    "df_analyze_corr = df_analyze_corr[df_analyze_corr['measure']=='HD_TN_POP_IND']   # HERE SELECT THE MEASURE\n",
    "df_analyze_corr = df_analyze_corr.drop('measure', axis='columns')   # do not need the column any longer"
   ]
  },
  {
   "cell_type": "markdown",
   "id": "3298172d",
   "metadata": {},
   "source": [
    "A loop, calculating correlation coefficient for each country.\n"
   ]
  },
  {
   "cell_type": "code",
   "execution_count": 7,
   "id": "06e7b04b",
   "metadata": {},
   "outputs": [],
   "source": [
    "countries = list(df_analyze_corr['ref_area'].unique())   # list of countries present\n",
    "corr_coeffs = []   # empty list for correlation coefficients\n",
    "\n",
    "for country in countries:\n",
    "    df_country = df_analyze_corr[df_analyze_corr['ref_area']==country]   # filter for the country\n",
    "    df_corr = df_country.corr(numeric_only=True)   # calculate correlation coefficients for numeric columns\n",
    "    coeff = df_corr.iloc[0,1]   # choose the relevant number\n",
    "    corr_coeffs.append(coeff)   # store the coefficient inside of the list"
   ]
  },
  {
   "cell_type": "markdown",
   "id": "4f9c0df7",
   "metadata": {},
   "source": [
    "We can store the result in a data frame.\n"
   ]
  },
  {
   "cell_type": "code",
   "execution_count": 8,
   "id": "5e32fb72",
   "metadata": {},
   "outputs": [],
   "source": [
    "df_corr_results = pd.DataFrame(columns=['countries','corr_coeff'])\n",
    "df_corr_results['countries'] = countries\n",
    "df_corr_results['corr_coeff'] = corr_coeffs"
   ]
  },
  {
   "cell_type": "markdown",
   "id": "7bd35557",
   "metadata": {},
   "source": [
    "Save the data frame into a file."
   ]
  },
  {
   "cell_type": "code",
   "execution_count": 9,
   "id": "6f627183",
   "metadata": {},
   "outputs": [],
   "source": [
    "df_corr_results.to_csv('../exported_dfs/correlations.csv', index=False)"
   ]
  },
  {
   "cell_type": "markdown",
   "id": "21c2e9c6",
   "metadata": {},
   "source": [
    "## Exposure change for the whole world <a id='exp_world'></a>"
   ]
  },
  {
   "cell_type": "markdown",
   "id": "8877039a",
   "metadata": {},
   "source": [
    "Bonus (not included in the graduation presentation): If we want to describe the trends of population exposures worldwide, we need to calculate weighted average over all countries for every year.\n",
    "\n",
    "Read the cleaned data frames from files."
   ]
  },
  {
   "cell_type": "code",
   "execution_count": 14,
   "id": "6511aeb5",
   "metadata": {},
   "outputs": [],
   "source": [
    "df_exp_summed = pd.read_csv('../exported_dfs/exposures_summed.csv')\n",
    "df_pop = pd.read_csv('../exported_dfs/populations_clean.csv')"
   ]
  },
  {
   "cell_type": "markdown",
   "id": "e0357f26",
   "metadata": {},
   "source": [
    "Select the measure we are interested in."
   ]
  },
  {
   "cell_type": "code",
   "execution_count": 15,
   "id": "8c1f6959",
   "metadata": {},
   "outputs": [],
   "source": [
    "df_exp_measure = df_exp_summed[df_exp_summed['measure']=='HD_TN_POP_IND'] # HERE SELECT THE MEASURE"
   ]
  },
  {
   "cell_type": "markdown",
   "id": "c59939a3",
   "metadata": {},
   "source": [
    "Merge data frames with exposure and population size.\n"
   ]
  },
  {
   "cell_type": "code",
   "execution_count": 16,
   "id": "8fdeb499",
   "metadata": {},
   "outputs": [],
   "source": [
    "df_exp_pop = pd.merge(left=df_exp_measure, right=df_pop, how='left', on=['ref_area', 'time_period'])"
   ]
  },
  {
   "cell_type": "markdown",
   "id": "ba8993c6",
   "metadata": {},
   "source": [
    "For further calculations, we need to replace missing values with zeros.\n"
   ]
  },
  {
   "cell_type": "code",
   "execution_count": 17,
   "id": "be01c359",
   "metadata": {},
   "outputs": [],
   "source": [
    "df_exp_pop['population'] = df_exp_pop['population'].fillna(0)"
   ]
  },
  {
   "cell_type": "markdown",
   "id": "d639be3b",
   "metadata": {},
   "source": [
    "A loop, calculating weighted average for each year."
   ]
  },
  {
   "cell_type": "code",
   "execution_count": 18,
   "id": "702f02dc",
   "metadata": {},
   "outputs": [],
   "source": [
    "# new df for years and weighted averages:\n",
    "\n",
    "years = list(df_exp_pop['time_period'].unique())   # list of years present\n",
    "exp_world = []   # empty list for worldwide exposures\n",
    "\n",
    "for year in years:\n",
    "    df_calc = df_exp_pop[df_exp_pop['time_period']==year]   # filter for the year\n",
    "    avg_world = sum(df_calc['exposure'] * df_calc['population'])/ sum(df_calc['population'])   # weighted average\n",
    "    exp_world.append(avg_world)   # store the average inside of the list"
   ]
  },
  {
   "cell_type": "markdown",
   "id": "8bb6ec55",
   "metadata": {},
   "source": [
    "We can store the result in a data frame.\n"
   ]
  },
  {
   "cell_type": "code",
   "execution_count": 19,
   "id": "cdc7b865",
   "metadata": {},
   "outputs": [],
   "source": [
    "df_world_exp = pd.DataFrame(columns=['year','exposure'])\n",
    "df_world_exp['year'] = years\n",
    "df_world_exp['exposure'] = exp_world"
   ]
  },
  {
   "cell_type": "markdown",
   "id": "857048e0",
   "metadata": {},
   "source": [
    "Save the data frame into a file."
   ]
  },
  {
   "cell_type": "code",
   "execution_count": 20,
   "id": "a9e5e950",
   "metadata": {},
   "outputs": [],
   "source": [
    "df_world_exp.to_csv('../exported_dfs/world_exp.csv', index=False)"
   ]
  },
  {
   "cell_type": "markdown",
   "id": "3a6ae0e5",
   "metadata": {},
   "source": [
    "## Temperature vs exposure worldwide <a id='temp_exp'></a>"
   ]
  },
  {
   "cell_type": "markdown",
   "id": "e7b7173d",
   "metadata": {},
   "source": [
    "We will merge the data on worldwide population exposure and temperature anomalies to check for correlation and to visualize any trends.\n",
    "\n",
    "Read the cleaned data frames from files."
   ]
  },
  {
   "cell_type": "code",
   "execution_count": 21,
   "id": "dbd1c186",
   "metadata": {},
   "outputs": [],
   "source": [
    "df_temp_anomaly = pd.read_csv('../exported_dfs/temp_anomaly_clean.csv')\n",
    "df_world_exp = pd.read_csv('../exported_dfs/world_exp.csv')"
   ]
  },
  {
   "cell_type": "markdown",
   "id": "578fbff3",
   "metadata": {},
   "source": [
    "Merge temperature anomaly and worldwide population exposure data frames.\n"
   ]
  },
  {
   "cell_type": "code",
   "execution_count": 22,
   "id": "dbca6a19",
   "metadata": {},
   "outputs": [],
   "source": [
    "df_temp_anomaly_world_exp = pd.merge(df_temp_anomaly, df_world_exp)"
   ]
  },
  {
   "cell_type": "markdown",
   "id": "10d8636a",
   "metadata": {},
   "source": [
    "Calculate the correlation coefficients."
   ]
  },
  {
   "cell_type": "code",
   "execution_count": 23,
   "id": "08a68a4d",
   "metadata": {},
   "outputs": [
    {
     "data": {
      "text/html": [
       "<div>\n",
       "<style scoped>\n",
       "    .dataframe tbody tr th:only-of-type {\n",
       "        vertical-align: middle;\n",
       "    }\n",
       "\n",
       "    .dataframe tbody tr th {\n",
       "        vertical-align: top;\n",
       "    }\n",
       "\n",
       "    .dataframe thead th {\n",
       "        text-align: right;\n",
       "    }\n",
       "</style>\n",
       "<table border=\"1\" class=\"dataframe\">\n",
       "  <thead>\n",
       "    <tr style=\"text-align: right;\">\n",
       "      <th></th>\n",
       "      <th>year</th>\n",
       "      <th>avg_anomaly</th>\n",
       "      <th>exposure</th>\n",
       "    </tr>\n",
       "  </thead>\n",
       "  <tbody>\n",
       "    <tr>\n",
       "      <th>year</th>\n",
       "      <td>1.000000</td>\n",
       "      <td>0.929837</td>\n",
       "      <td>0.915518</td>\n",
       "    </tr>\n",
       "    <tr>\n",
       "      <th>avg_anomaly</th>\n",
       "      <td>0.929837</td>\n",
       "      <td>1.000000</td>\n",
       "      <td>0.930867</td>\n",
       "    </tr>\n",
       "    <tr>\n",
       "      <th>exposure</th>\n",
       "      <td>0.915518</td>\n",
       "      <td>0.930867</td>\n",
       "      <td>1.000000</td>\n",
       "    </tr>\n",
       "  </tbody>\n",
       "</table>\n",
       "</div>"
      ],
      "text/plain": [
       "                 year  avg_anomaly  exposure\n",
       "year         1.000000     0.929837  0.915518\n",
       "avg_anomaly  0.929837     1.000000  0.930867\n",
       "exposure     0.915518     0.930867  1.000000"
      ]
     },
     "execution_count": 23,
     "metadata": {},
     "output_type": "execute_result"
    }
   ],
   "source": [
    "df_temp_anomaly_world_exp.corr()"
   ]
  },
  {
   "cell_type": "markdown",
   "id": "7f3b2673",
   "metadata": {},
   "source": [
    "## The effects in rich and poor countries (GDP per capita) <a id='poor_rich'></a>"
   ]
  },
  {
   "cell_type": "markdown",
   "id": "600d3e0b",
   "metadata": {},
   "source": [
    "We will investigate, if the population exposure is in general greater in poor countries. We will first calculate correlation between population exposure and GDP per capita and then also use k-means to cluster countries using these two variables. For two clusters, we will also perform an A/B test to compare the group characteristics."
   ]
  },
  {
   "cell_type": "markdown",
   "id": "68991aa6",
   "metadata": {},
   "source": [
    "**Correlation between population exposure and GDP per capita**"
   ]
  },
  {
   "cell_type": "markdown",
   "id": "b880dea6",
   "metadata": {},
   "source": [
    "Read the cleaned data frames from files."
   ]
  },
  {
   "cell_type": "code",
   "execution_count": 24,
   "id": "ee295cdb",
   "metadata": {},
   "outputs": [],
   "source": [
    "df_exp_summed = pd.read_csv('../exported_dfs/exposures_summed.csv')\n",
    "df_gdp = pd.read_csv('../exported_dfs/gdp_clean.csv')"
   ]
  },
  {
   "cell_type": "markdown",
   "id": "4b6f5c2d",
   "metadata": {},
   "source": [
    "First, select the measure we are interested in."
   ]
  },
  {
   "cell_type": "code",
   "execution_count": 25,
   "id": "94266c9f",
   "metadata": {},
   "outputs": [],
   "source": [
    "df_exp_summed = df_exp_summed[df_exp_summed['measure']=='HD_TN_POP_IND'] # HERE SELECT THE MEASURE\n",
    "df_exp_summed = df_exp_summed.drop('measure', axis='columns') # do not need the column any longer"
   ]
  },
  {
   "cell_type": "markdown",
   "id": "32126f73",
   "metadata": {},
   "source": [
    "Merge the data frames for population exposures and GDP per capita. Both data frames contain 'country' column but some names are slightly different, drop them first.\n"
   ]
  },
  {
   "cell_type": "code",
   "execution_count": 26,
   "id": "eba57e6d",
   "metadata": {},
   "outputs": [],
   "source": [
    "df_exp_summed.drop('country', axis='columns', inplace=True)\n",
    "df_gdp.drop('country', axis='columns', inplace=True)\n",
    "df_exp_gdp = pd.merge(df_exp_summed, df_gdp, how='inner', on=['ref_area', 'time_period'])"
   ]
  },
  {
   "cell_type": "markdown",
   "id": "a4ba0fe9",
   "metadata": {},
   "source": [
    "The correlation between numerical variables.\n"
   ]
  },
  {
   "cell_type": "code",
   "execution_count": 27,
   "id": "b84e5a63",
   "metadata": {},
   "outputs": [
    {
     "data": {
      "text/html": [
       "<div>\n",
       "<style scoped>\n",
       "    .dataframe tbody tr th:only-of-type {\n",
       "        vertical-align: middle;\n",
       "    }\n",
       "\n",
       "    .dataframe tbody tr th {\n",
       "        vertical-align: top;\n",
       "    }\n",
       "\n",
       "    .dataframe thead th {\n",
       "        text-align: right;\n",
       "    }\n",
       "</style>\n",
       "<table border=\"1\" class=\"dataframe\">\n",
       "  <thead>\n",
       "    <tr style=\"text-align: right;\">\n",
       "      <th></th>\n",
       "      <th>time_period</th>\n",
       "      <th>exposure</th>\n",
       "      <th>gdp</th>\n",
       "    </tr>\n",
       "  </thead>\n",
       "  <tbody>\n",
       "    <tr>\n",
       "      <th>time_period</th>\n",
       "      <td>1.000000</td>\n",
       "      <td>-0.004992</td>\n",
       "      <td>0.013863</td>\n",
       "    </tr>\n",
       "    <tr>\n",
       "      <th>exposure</th>\n",
       "      <td>-0.004992</td>\n",
       "      <td>1.000000</td>\n",
       "      <td>-0.317923</td>\n",
       "    </tr>\n",
       "    <tr>\n",
       "      <th>gdp</th>\n",
       "      <td>0.013863</td>\n",
       "      <td>-0.317923</td>\n",
       "      <td>1.000000</td>\n",
       "    </tr>\n",
       "  </tbody>\n",
       "</table>\n",
       "</div>"
      ],
      "text/plain": [
       "             time_period  exposure       gdp\n",
       "time_period     1.000000 -0.004992  0.013863\n",
       "exposure       -0.004992  1.000000 -0.317923\n",
       "gdp             0.013863 -0.317923  1.000000"
      ]
     },
     "execution_count": 27,
     "metadata": {},
     "output_type": "execute_result"
    }
   ],
   "source": [
    "df_exp_gdp.corr(numeric_only=True)"
   ]
  },
  {
   "cell_type": "markdown",
   "id": "b3c8023f",
   "metadata": {},
   "source": [
    "**k-means**"
   ]
  },
  {
   "cell_type": "markdown",
   "id": "6a4af904",
   "metadata": {},
   "source": [
    "The algorithm gives more insightful results when omitting small countries with extremely high GDP per capita and zero population exposure. Drop these countries.\n"
   ]
  },
  {
   "cell_type": "code",
   "execution_count": 28,
   "id": "8e78265f",
   "metadata": {},
   "outputs": [],
   "source": [
    "df_exp_gdp = df_exp_gdp[~df_exp_gdp['ref_area'].isin(['LUX', 'BMU', 'LIE', 'MCO'])]"
   ]
  },
  {
   "cell_type": "markdown",
   "id": "a2d58333",
   "metadata": {},
   "source": [
    "Group by countries, get average population exposure and GDP per capita to cluster.\n",
    "\n",
    "We can remember that GDP data is only available for the period 2017 - 2021. This is a reasonable time interval to explore, since the averaging supresses fluctuations but all the data is recent and describes the current situation.\n"
   ]
  },
  {
   "cell_type": "code",
   "execution_count": 29,
   "id": "f8bc33c6",
   "metadata": {},
   "outputs": [],
   "source": [
    "df_exp_gdp_avg = df_exp_gdp.groupby('ref_area')[['exposure', 'gdp']].mean()"
   ]
  },
  {
   "cell_type": "markdown",
   "id": "876e51c1",
   "metadata": {},
   "source": [
    "Create a data frame with numerical columns only.\n"
   ]
  },
  {
   "cell_type": "code",
   "execution_count": 30,
   "id": "a287414a",
   "metadata": {},
   "outputs": [],
   "source": [
    "df_num = df_exp_gdp_avg[['exposure', 'gdp']]"
   ]
  },
  {
   "cell_type": "markdown",
   "id": "d38eecef",
   "metadata": {},
   "source": [
    "Standardize data (standard deviation of all columns 1, mean 0)."
   ]
  },
  {
   "cell_type": "code",
   "execution_count": 31,
   "id": "13eb7797",
   "metadata": {},
   "outputs": [],
   "source": [
    "scaler = StandardScaler()\n",
    "scaler.fit(df_num)\n",
    "df_num_scaled = scaler.transform(df_num) # array of standardized data\n",
    "df_standardized = pd.DataFrame(df_num_scaled, columns=df_num.columns) # data frame from the array"
   ]
  },
  {
   "cell_type": "markdown",
   "id": "ab509d0c",
   "metadata": {},
   "source": [
    "Optional: Elbow diagram to derive appropriate number of clusters.\n"
   ]
  },
  {
   "cell_type": "code",
   "execution_count": null,
   "id": "1956d973",
   "metadata": {},
   "outputs": [],
   "source": [
    "# K = range(2, 10)   # try the fitting with up to 10 clusters\n",
    "# inertia = []\n",
    "# for k in K:\n",
    "#     kmeans = KMeans(n_clusters=k,\n",
    "#                     n_init=10)\n",
    "#     kmeans.fit(df_standardized)\n",
    "#     inertia.append(kmeans.inertia_)\n",
    "\n",
    "# plt.figure(figsize=(16,8))\n",
    "# plt.plot(K, inertia, 'bx-')\n",
    "# plt.xlabel('k')\n",
    "# plt.ylabel('inertia')\n",
    "# plt.xticks(np.arange(min(K), max(K), 1.0))\n",
    "# plt.title('Elbow Diagram')"
   ]
  },
  {
   "cell_type": "markdown",
   "id": "be3c4a36",
   "metadata": {},
   "source": [
    "k-Means (**choose number of clusters here**)"
   ]
  },
  {
   "cell_type": "code",
   "execution_count": 32,
   "id": "f0011d6b",
   "metadata": {},
   "outputs": [
    {
     "name": "stderr",
     "output_type": "stream",
     "text": [
      "D:\\DAsoft\\miniconda3\\lib\\site-packages\\sklearn\\cluster\\_kmeans.py:1412: FutureWarning: The default value of `n_init` will change from 10 to 'auto' in 1.4. Set the value of `n_init` explicitly to suppress the warning\n",
      "  super()._check_params_vs_input(X, default_n_init=10)\n"
     ]
    },
    {
     "data": {
      "text/html": [
       "<style>#sk-container-id-1 {color: black;}#sk-container-id-1 pre{padding: 0;}#sk-container-id-1 div.sk-toggleable {background-color: white;}#sk-container-id-1 label.sk-toggleable__label {cursor: pointer;display: block;width: 100%;margin-bottom: 0;padding: 0.3em;box-sizing: border-box;text-align: center;}#sk-container-id-1 label.sk-toggleable__label-arrow:before {content: \"▸\";float: left;margin-right: 0.25em;color: #696969;}#sk-container-id-1 label.sk-toggleable__label-arrow:hover:before {color: black;}#sk-container-id-1 div.sk-estimator:hover label.sk-toggleable__label-arrow:before {color: black;}#sk-container-id-1 div.sk-toggleable__content {max-height: 0;max-width: 0;overflow: hidden;text-align: left;background-color: #f0f8ff;}#sk-container-id-1 div.sk-toggleable__content pre {margin: 0.2em;color: black;border-radius: 0.25em;background-color: #f0f8ff;}#sk-container-id-1 input.sk-toggleable__control:checked~div.sk-toggleable__content {max-height: 200px;max-width: 100%;overflow: auto;}#sk-container-id-1 input.sk-toggleable__control:checked~label.sk-toggleable__label-arrow:before {content: \"▾\";}#sk-container-id-1 div.sk-estimator input.sk-toggleable__control:checked~label.sk-toggleable__label {background-color: #d4ebff;}#sk-container-id-1 div.sk-label input.sk-toggleable__control:checked~label.sk-toggleable__label {background-color: #d4ebff;}#sk-container-id-1 input.sk-hidden--visually {border: 0;clip: rect(1px 1px 1px 1px);clip: rect(1px, 1px, 1px, 1px);height: 1px;margin: -1px;overflow: hidden;padding: 0;position: absolute;width: 1px;}#sk-container-id-1 div.sk-estimator {font-family: monospace;background-color: #f0f8ff;border: 1px dotted black;border-radius: 0.25em;box-sizing: border-box;margin-bottom: 0.5em;}#sk-container-id-1 div.sk-estimator:hover {background-color: #d4ebff;}#sk-container-id-1 div.sk-parallel-item::after {content: \"\";width: 100%;border-bottom: 1px solid gray;flex-grow: 1;}#sk-container-id-1 div.sk-label:hover label.sk-toggleable__label {background-color: #d4ebff;}#sk-container-id-1 div.sk-serial::before {content: \"\";position: absolute;border-left: 1px solid gray;box-sizing: border-box;top: 0;bottom: 0;left: 50%;z-index: 0;}#sk-container-id-1 div.sk-serial {display: flex;flex-direction: column;align-items: center;background-color: white;padding-right: 0.2em;padding-left: 0.2em;position: relative;}#sk-container-id-1 div.sk-item {position: relative;z-index: 1;}#sk-container-id-1 div.sk-parallel {display: flex;align-items: stretch;justify-content: center;background-color: white;position: relative;}#sk-container-id-1 div.sk-item::before, #sk-container-id-1 div.sk-parallel-item::before {content: \"\";position: absolute;border-left: 1px solid gray;box-sizing: border-box;top: 0;bottom: 0;left: 50%;z-index: -1;}#sk-container-id-1 div.sk-parallel-item {display: flex;flex-direction: column;z-index: 1;position: relative;background-color: white;}#sk-container-id-1 div.sk-parallel-item:first-child::after {align-self: flex-end;width: 50%;}#sk-container-id-1 div.sk-parallel-item:last-child::after {align-self: flex-start;width: 50%;}#sk-container-id-1 div.sk-parallel-item:only-child::after {width: 0;}#sk-container-id-1 div.sk-dashed-wrapped {border: 1px dashed gray;margin: 0 0.4em 0.5em 0.4em;box-sizing: border-box;padding-bottom: 0.4em;background-color: white;}#sk-container-id-1 div.sk-label label {font-family: monospace;font-weight: bold;display: inline-block;line-height: 1.2em;}#sk-container-id-1 div.sk-label-container {text-align: center;}#sk-container-id-1 div.sk-container {/* jupyter's `normalize.less` sets `[hidden] { display: none; }` but bootstrap.min.css set `[hidden] { display: none !important; }` so we also need the `!important` here to be able to override the default hidden behavior on the sphinx rendered scikit-learn.org. See: https://github.com/scikit-learn/scikit-learn/issues/21755 */display: inline-block !important;position: relative;}#sk-container-id-1 div.sk-text-repr-fallback {display: none;}</style><div id=\"sk-container-id-1\" class=\"sk-top-container\"><div class=\"sk-text-repr-fallback\"><pre>KMeans(n_clusters=2)</pre><b>In a Jupyter environment, please rerun this cell to show the HTML representation or trust the notebook. <br />On GitHub, the HTML representation is unable to render, please try loading this page with nbviewer.org.</b></div><div class=\"sk-container\" hidden><div class=\"sk-item\"><div class=\"sk-estimator sk-toggleable\"><input class=\"sk-toggleable__control sk-hidden--visually\" id=\"sk-estimator-id-1\" type=\"checkbox\" checked><label for=\"sk-estimator-id-1\" class=\"sk-toggleable__label sk-toggleable__label-arrow\">KMeans</label><div class=\"sk-toggleable__content\"><pre>KMeans(n_clusters=2)</pre></div></div></div></div></div>"
      ],
      "text/plain": [
       "KMeans(n_clusters=2)"
      ]
     },
     "execution_count": 32,
     "metadata": {},
     "output_type": "execute_result"
    }
   ],
   "source": [
    "kmeans = KMeans(n_clusters=2) # CHOOSE NO OF CLUSTERS\n",
    "kmeans.fit(df_standardized)"
   ]
  },
  {
   "cell_type": "markdown",
   "id": "aba36c75",
   "metadata": {},
   "source": [
    "Defining the clusters (aray of labels).\n"
   ]
  },
  {
   "cell_type": "code",
   "execution_count": 33,
   "id": "7d5a3af8",
   "metadata": {},
   "outputs": [],
   "source": [
    "clusters = kmeans.predict(df_standardized)"
   ]
  },
  {
   "cell_type": "markdown",
   "id": "8cd76262",
   "metadata": {},
   "source": [
    "Numbers of members in each cluster.\n"
   ]
  },
  {
   "cell_type": "code",
   "execution_count": 40,
   "id": "e614f109",
   "metadata": {},
   "outputs": [
    {
     "data": {
      "text/plain": [
       "0    98\n",
       "1    95\n",
       "Name: count, dtype: int64"
      ]
     },
     "execution_count": 40,
     "metadata": {},
     "output_type": "execute_result"
    }
   ],
   "source": [
    "pd.Series(clusters).value_counts()"
   ]
  },
  {
   "cell_type": "markdown",
   "id": "1aea279e",
   "metadata": {},
   "source": [
    "Adding clusters to the original data frame.\n"
   ]
  },
  {
   "cell_type": "code",
   "execution_count": 41,
   "id": "a3593031",
   "metadata": {},
   "outputs": [],
   "source": [
    "df_clustered = df_exp_gdp_avg.copy()   # copy of the original data frame\n",
    "df_clustered['cluster'] = clusters   # new column with cluster labels\n",
    "df_clustered['cluster'] = df_clustered['cluster'].astype(str)   # labels as string, useful for visualizations\n",
    "df_clustered = df_clustered.reset_index()"
   ]
  },
  {
   "cell_type": "markdown",
   "id": "323d6312",
   "metadata": {},
   "source": [
    "Save the data frame into a file."
   ]
  },
  {
   "cell_type": "code",
   "execution_count": 42,
   "id": "1570490f",
   "metadata": {},
   "outputs": [],
   "source": [
    "df_clustered.to_csv('../exported_dfs/clusters.csv', index=False)"
   ]
  },
  {
   "cell_type": "markdown",
   "id": "639ef4cf",
   "metadata": {},
   "source": [
    "**For 2 clusters: A/B test**"
   ]
  },
  {
   "cell_type": "markdown",
   "id": "a0d2b5bc",
   "metadata": {},
   "source": [
    "Making separate data frames for each custer to compare."
   ]
  },
  {
   "cell_type": "code",
   "execution_count": 43,
   "id": "02238fc6",
   "metadata": {},
   "outputs": [],
   "source": [
    "df_cluster_0 = df_clustered[df_clustered['cluster']=='0']\n",
    "df_cluster_1 = df_clustered[df_clustered['cluster']=='1']"
   ]
  },
  {
   "cell_type": "markdown",
   "id": "17b43c45",
   "metadata": {},
   "source": [
    "Two-tailed A/B test, p-value.\n"
   ]
  },
  {
   "cell_type": "code",
   "execution_count": 44,
   "id": "da9ee1c4",
   "metadata": {},
   "outputs": [
    {
     "name": "stdout",
     "output_type": "stream",
     "text": [
      "GDP: -7.324105263740695 6.555060849682889e-12\n",
      "Exposure: 20.36103305776211 9.637934922370356e-50\n"
     ]
    }
   ],
   "source": [
    "test_statistic, pvalue = stats.ttest_ind(df_cluster_0['gdp'], df_cluster_1['gdp'])\n",
    "print ('GDP:', test_statistic, pvalue)\n",
    "\n",
    "test_statistic, pvalue = stats.ttest_ind(df_cluster_0['exposure'], df_cluster_1['exposure'])\n",
    "print ('Exposure:', test_statistic, pvalue)"
   ]
  },
  {
   "cell_type": "code",
   "execution_count": null,
   "id": "5e426574",
   "metadata": {},
   "outputs": [],
   "source": []
  }
 ],
 "metadata": {
  "kernelspec": {
   "display_name": "Python 3 (ipykernel)",
   "language": "python",
   "name": "python3"
  },
  "language_info": {
   "codemirror_mode": {
    "name": "ipython",
    "version": 3
   },
   "file_extension": ".py",
   "mimetype": "text/x-python",
   "name": "python",
   "nbconvert_exporter": "python",
   "pygments_lexer": "ipython3",
   "version": "3.10.10"
  }
 },
 "nbformat": 4,
 "nbformat_minor": 5
}
